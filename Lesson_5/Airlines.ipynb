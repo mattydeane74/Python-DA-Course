{
 "cells": [
  {
   "cell_type": "markdown",
   "metadata": {},
   "source": [
    "## Exercise 1\n",
    "Load a dataset of your choosing from those found in Canvas. It can be the same one we are working with.\n",
    "Inspect it and write down at least 5 issues you identified in this step.\n",
    "Proceed to cleaning and preparing it for analysis."
   ]
  },
  {
   "cell_type": "code",
   "execution_count": 3,
   "metadata": {},
   "outputs": [],
   "source": [
    "import pandas as pd\n",
    "import numpy as np\n",
    "import matplotlib.pyplot as plt\n",
    "import seaborn as sns\n",
    "\n",
    "pd.set_option('display.max_columns', None)\n",
    "pd.set_option('display.max_rows', None)\n",
    "\n",
    "%matplotlib inline"
   ]
  },
  {
   "cell_type": "code",
   "execution_count": 4,
   "metadata": {},
   "outputs": [],
   "source": [
    "df = pd.read_csv('../Datasets/airlines.csv')\n",
    "                 "
   ]
  },
  {
   "cell_type": "code",
   "execution_count": 4,
   "metadata": {},
   "outputs": [
    {
     "data": {
      "text/html": [
       "<div>\n",
       "<style scoped>\n",
       "    .dataframe tbody tr th:only-of-type {\n",
       "        vertical-align: middle;\n",
       "    }\n",
       "\n",
       "    .dataframe tbody tr th {\n",
       "        vertical-align: top;\n",
       "    }\n",
       "\n",
       "    .dataframe thead th {\n",
       "        text-align: right;\n",
       "    }\n",
       "</style>\n",
       "<table border=\"1\" class=\"dataframe\">\n",
       "  <thead>\n",
       "    <tr style=\"text-align: right;\">\n",
       "      <th></th>\n",
       "      <th>Unnamed: 0</th>\n",
       "      <th>id</th>\n",
       "      <th>Gender</th>\n",
       "      <th>Customer Type</th>\n",
       "      <th>Age</th>\n",
       "      <th>Type of Travel</th>\n",
       "      <th>Class</th>\n",
       "      <th>Flight Distance</th>\n",
       "      <th>Inflight wifi service</th>\n",
       "      <th>Departure/Arrival time convenient</th>\n",
       "      <th>Ease of Online booking</th>\n",
       "      <th>Gate location</th>\n",
       "      <th>Food and drink</th>\n",
       "      <th>Online boarding</th>\n",
       "      <th>Seat comfort</th>\n",
       "      <th>Inflight entertainment</th>\n",
       "      <th>On-board service</th>\n",
       "      <th>Leg room service</th>\n",
       "      <th>Baggage handling</th>\n",
       "      <th>Checkin service</th>\n",
       "      <th>Inflight service</th>\n",
       "      <th>Cleanliness</th>\n",
       "      <th>Departure Delay in Minutes</th>\n",
       "      <th>Arrival Delay in Minutes</th>\n",
       "      <th>satisfaction</th>\n",
       "    </tr>\n",
       "  </thead>\n",
       "  <tbody>\n",
       "    <tr>\n",
       "      <th>0</th>\n",
       "      <td>0</td>\n",
       "      <td>19556</td>\n",
       "      <td>Female</td>\n",
       "      <td>Loyal Customer</td>\n",
       "      <td>52</td>\n",
       "      <td>Business travel</td>\n",
       "      <td>Eco</td>\n",
       "      <td>160</td>\n",
       "      <td>5</td>\n",
       "      <td>4</td>\n",
       "      <td>3</td>\n",
       "      <td>4</td>\n",
       "      <td>3</td>\n",
       "      <td>4</td>\n",
       "      <td>3</td>\n",
       "      <td>5</td>\n",
       "      <td>5</td>\n",
       "      <td>5</td>\n",
       "      <td>5</td>\n",
       "      <td>2</td>\n",
       "      <td>5</td>\n",
       "      <td>5</td>\n",
       "      <td>50</td>\n",
       "      <td>44.0</td>\n",
       "      <td>satisfied</td>\n",
       "    </tr>\n",
       "    <tr>\n",
       "      <th>1</th>\n",
       "      <td>1</td>\n",
       "      <td>90035</td>\n",
       "      <td>Female</td>\n",
       "      <td>Loyal Customer</td>\n",
       "      <td>36</td>\n",
       "      <td>Business travel</td>\n",
       "      <td>Business</td>\n",
       "      <td>2863</td>\n",
       "      <td>1</td>\n",
       "      <td>1</td>\n",
       "      <td>3</td>\n",
       "      <td>1</td>\n",
       "      <td>5</td>\n",
       "      <td>4</td>\n",
       "      <td>5</td>\n",
       "      <td>4</td>\n",
       "      <td>4</td>\n",
       "      <td>4</td>\n",
       "      <td>4</td>\n",
       "      <td>3</td>\n",
       "      <td>4</td>\n",
       "      <td>5</td>\n",
       "      <td>0</td>\n",
       "      <td>0.0</td>\n",
       "      <td>satisfied</td>\n",
       "    </tr>\n",
       "    <tr>\n",
       "      <th>2</th>\n",
       "      <td>2</td>\n",
       "      <td>12360</td>\n",
       "      <td>Male</td>\n",
       "      <td>disloyal Customer</td>\n",
       "      <td>20</td>\n",
       "      <td>Business travel</td>\n",
       "      <td>Eco</td>\n",
       "      <td>192</td>\n",
       "      <td>2</td>\n",
       "      <td>0</td>\n",
       "      <td>2</td>\n",
       "      <td>4</td>\n",
       "      <td>2</td>\n",
       "      <td>2</td>\n",
       "      <td>2</td>\n",
       "      <td>2</td>\n",
       "      <td>4</td>\n",
       "      <td>1</td>\n",
       "      <td>3</td>\n",
       "      <td>2</td>\n",
       "      <td>2</td>\n",
       "      <td>2</td>\n",
       "      <td>0</td>\n",
       "      <td>0.0</td>\n",
       "      <td>neutral or dissatisfied</td>\n",
       "    </tr>\n",
       "    <tr>\n",
       "      <th>3</th>\n",
       "      <td>3</td>\n",
       "      <td>77959</td>\n",
       "      <td>Male</td>\n",
       "      <td>Loyal Customer</td>\n",
       "      <td>44</td>\n",
       "      <td>Business travel</td>\n",
       "      <td>Business</td>\n",
       "      <td>3377</td>\n",
       "      <td>0</td>\n",
       "      <td>0</td>\n",
       "      <td>0</td>\n",
       "      <td>2</td>\n",
       "      <td>3</td>\n",
       "      <td>4</td>\n",
       "      <td>4</td>\n",
       "      <td>1</td>\n",
       "      <td>1</td>\n",
       "      <td>1</td>\n",
       "      <td>1</td>\n",
       "      <td>3</td>\n",
       "      <td>1</td>\n",
       "      <td>4</td>\n",
       "      <td>0</td>\n",
       "      <td>6.0</td>\n",
       "      <td>satisfied</td>\n",
       "    </tr>\n",
       "    <tr>\n",
       "      <th>4</th>\n",
       "      <td>4</td>\n",
       "      <td>36875</td>\n",
       "      <td>Female</td>\n",
       "      <td>Loyal Customer</td>\n",
       "      <td>49</td>\n",
       "      <td>Business travel</td>\n",
       "      <td>Eco</td>\n",
       "      <td>1182</td>\n",
       "      <td>2</td>\n",
       "      <td>3</td>\n",
       "      <td>4</td>\n",
       "      <td>3</td>\n",
       "      <td>4</td>\n",
       "      <td>1</td>\n",
       "      <td>2</td>\n",
       "      <td>2</td>\n",
       "      <td>2</td>\n",
       "      <td>2</td>\n",
       "      <td>2</td>\n",
       "      <td>4</td>\n",
       "      <td>2</td>\n",
       "      <td>4</td>\n",
       "      <td>0</td>\n",
       "      <td>20.0</td>\n",
       "      <td>satisfied</td>\n",
       "    </tr>\n",
       "  </tbody>\n",
       "</table>\n",
       "</div>"
      ],
      "text/plain": [
       "   Unnamed: 0     id  Gender      Customer Type  Age   Type of Travel  \\\n",
       "0           0  19556  Female     Loyal Customer   52  Business travel   \n",
       "1           1  90035  Female     Loyal Customer   36  Business travel   \n",
       "2           2  12360    Male  disloyal Customer   20  Business travel   \n",
       "3           3  77959    Male     Loyal Customer   44  Business travel   \n",
       "4           4  36875  Female     Loyal Customer   49  Business travel   \n",
       "\n",
       "      Class  Flight Distance  Inflight wifi service  \\\n",
       "0       Eco              160                      5   \n",
       "1  Business             2863                      1   \n",
       "2       Eco              192                      2   \n",
       "3  Business             3377                      0   \n",
       "4       Eco             1182                      2   \n",
       "\n",
       "   Departure/Arrival time convenient  Ease of Online booking  Gate location  \\\n",
       "0                                  4                       3              4   \n",
       "1                                  1                       3              1   \n",
       "2                                  0                       2              4   \n",
       "3                                  0                       0              2   \n",
       "4                                  3                       4              3   \n",
       "\n",
       "   Food and drink  Online boarding  Seat comfort  Inflight entertainment  \\\n",
       "0               3                4             3                       5   \n",
       "1               5                4             5                       4   \n",
       "2               2                2             2                       2   \n",
       "3               3                4             4                       1   \n",
       "4               4                1             2                       2   \n",
       "\n",
       "   On-board service  Leg room service  Baggage handling  Checkin service  \\\n",
       "0                 5                 5                 5                2   \n",
       "1                 4                 4                 4                3   \n",
       "2                 4                 1                 3                2   \n",
       "3                 1                 1                 1                3   \n",
       "4                 2                 2                 2                4   \n",
       "\n",
       "   Inflight service  Cleanliness  Departure Delay in Minutes  \\\n",
       "0                 5            5                          50   \n",
       "1                 4            5                           0   \n",
       "2                 2            2                           0   \n",
       "3                 1            4                           0   \n",
       "4                 2            4                           0   \n",
       "\n",
       "   Arrival Delay in Minutes             satisfaction  \n",
       "0                      44.0                satisfied  \n",
       "1                       0.0                satisfied  \n",
       "2                       0.0  neutral or dissatisfied  \n",
       "3                       6.0                satisfied  \n",
       "4                      20.0                satisfied  "
      ]
     },
     "execution_count": 4,
     "metadata": {},
     "output_type": "execute_result"
    }
   ],
   "source": [
    "df.head()\n"
   ]
  },
  {
   "cell_type": "code",
   "execution_count": 5,
   "metadata": {},
   "outputs": [
    {
     "data": {
      "text/plain": [
       "(25976, 25)"
      ]
     },
     "execution_count": 5,
     "metadata": {},
     "output_type": "execute_result"
    }
   ],
   "source": [
    "df.shape\n"
   ]
  },
  {
   "cell_type": "code",
   "execution_count": 6,
   "metadata": {},
   "outputs": [
    {
     "data": {
      "text/plain": [
       "Unnamed: 0                            0\n",
       "id                                    0\n",
       "Gender                                0\n",
       "Customer Type                         0\n",
       "Age                                   0\n",
       "Type of Travel                        0\n",
       "Class                                 0\n",
       "Flight Distance                       0\n",
       "Inflight wifi service                 0\n",
       "Departure/Arrival time convenient     0\n",
       "Ease of Online booking                0\n",
       "Gate location                         0\n",
       "Food and drink                        0\n",
       "Online boarding                       0\n",
       "Seat comfort                          0\n",
       "Inflight entertainment                0\n",
       "On-board service                      0\n",
       "Leg room service                      0\n",
       "Baggage handling                      0\n",
       "Checkin service                       0\n",
       "Inflight service                      0\n",
       "Cleanliness                           0\n",
       "Departure Delay in Minutes            0\n",
       "Arrival Delay in Minutes             83\n",
       "satisfaction                          0\n",
       "dtype: int64"
      ]
     },
     "execution_count": 6,
     "metadata": {},
     "output_type": "execute_result"
    }
   ],
   "source": [
    "df.isna().sum()"
   ]
  },
  {
   "cell_type": "code",
   "execution_count": 5,
   "metadata": {},
   "outputs": [],
   "source": [
    "#df.columns = df.columns.str.lower().str.replace(' ', '_')\n",
    "df.columns = df.columns.str.replace(' ', '')"
   ]
  },
  {
   "cell_type": "code",
   "execution_count": 188,
   "metadata": {
    "scrolled": true
   },
   "outputs": [
    {
     "name": "stdout",
     "output_type": "stream",
     "text": [
      "<class 'pandas.core.frame.DataFrame'>\n",
      "RangeIndex: 25976 entries, 0 to 25975\n",
      "Data columns (total 27 columns):\n",
      " #   Column                           Non-Null Count  Dtype   \n",
      "---  ------                           --------------  -----   \n",
      " 0   Unnamed:0                        25976 non-null  int64   \n",
      " 1   id                               25976 non-null  int64   \n",
      " 2   Gender                           25976 non-null  object  \n",
      " 3   CustomerType                     25976 non-null  object  \n",
      " 4   Age                              25976 non-null  int64   \n",
      " 5   TypeofTravel                     25976 non-null  object  \n",
      " 6   Class                            25976 non-null  object  \n",
      " 7   FlightDistance                   25976 non-null  int64   \n",
      " 8   Inflightwifiservice              25976 non-null  int64   \n",
      " 9   Departure/Arrivaltimeconvenient  25976 non-null  int64   \n",
      " 10  EaseofOnlinebooking              25976 non-null  int64   \n",
      " 11  Gatelocation                     25976 non-null  int64   \n",
      " 12  Foodanddrink                     25976 non-null  int64   \n",
      " 13  Onlineboarding                   25976 non-null  int64   \n",
      " 14  Seatcomfort                      25976 non-null  int64   \n",
      " 15  Inflightentertainment            25976 non-null  int64   \n",
      " 16  On-boardservice                  25976 non-null  int64   \n",
      " 17  Legroomservice                   25976 non-null  int64   \n",
      " 18  Baggagehandling                  25976 non-null  int64   \n",
      " 19  Checkinservice                   25976 non-null  int64   \n",
      " 20  Inflightservice                  25976 non-null  int64   \n",
      " 21  Cleanliness                      25976 non-null  int64   \n",
      " 22  DepartureDelayinMinutes          25976 non-null  int64   \n",
      " 23  ArrivalDelayinMinutes            25976 non-null  float64 \n",
      " 24  satisfaction                     25976 non-null  object  \n",
      " 25  Age_by_decade                    25976 non-null  category\n",
      " 26  Satisfaction_Score               25976 non-null  int32   \n",
      "dtypes: category(1), float64(1), int32(1), int64(19), object(5)\n",
      "memory usage: 4.6+ MB\n"
     ]
    }
   ],
   "source": [
    "df.info()"
   ]
  },
  {
   "cell_type": "code",
   "execution_count": 8,
   "metadata": {},
   "outputs": [
    {
     "data": {
      "text/html": [
       "<div>\n",
       "<style scoped>\n",
       "    .dataframe tbody tr th:only-of-type {\n",
       "        vertical-align: middle;\n",
       "    }\n",
       "\n",
       "    .dataframe tbody tr th {\n",
       "        vertical-align: top;\n",
       "    }\n",
       "\n",
       "    .dataframe thead th {\n",
       "        text-align: right;\n",
       "    }\n",
       "</style>\n",
       "<table border=\"1\" class=\"dataframe\">\n",
       "  <thead>\n",
       "    <tr style=\"text-align: right;\">\n",
       "      <th></th>\n",
       "      <th>count</th>\n",
       "      <th>mean</th>\n",
       "      <th>std</th>\n",
       "      <th>min</th>\n",
       "      <th>25%</th>\n",
       "      <th>50%</th>\n",
       "      <th>75%</th>\n",
       "      <th>max</th>\n",
       "    </tr>\n",
       "  </thead>\n",
       "  <tbody>\n",
       "    <tr>\n",
       "      <th>Unnamed:0</th>\n",
       "      <td>25976.0</td>\n",
       "      <td>12987.500000</td>\n",
       "      <td>7498.769632</td>\n",
       "      <td>0.0</td>\n",
       "      <td>6493.75</td>\n",
       "      <td>12987.5</td>\n",
       "      <td>19481.25</td>\n",
       "      <td>25975.0</td>\n",
       "    </tr>\n",
       "    <tr>\n",
       "      <th>id</th>\n",
       "      <td>25976.0</td>\n",
       "      <td>65005.657992</td>\n",
       "      <td>37611.526647</td>\n",
       "      <td>17.0</td>\n",
       "      <td>32170.50</td>\n",
       "      <td>65319.5</td>\n",
       "      <td>97584.25</td>\n",
       "      <td>129877.0</td>\n",
       "    </tr>\n",
       "    <tr>\n",
       "      <th>Age</th>\n",
       "      <td>25976.0</td>\n",
       "      <td>39.620958</td>\n",
       "      <td>15.135685</td>\n",
       "      <td>7.0</td>\n",
       "      <td>27.00</td>\n",
       "      <td>40.0</td>\n",
       "      <td>51.00</td>\n",
       "      <td>85.0</td>\n",
       "    </tr>\n",
       "    <tr>\n",
       "      <th>FlightDistance</th>\n",
       "      <td>25976.0</td>\n",
       "      <td>1193.788459</td>\n",
       "      <td>998.683999</td>\n",
       "      <td>31.0</td>\n",
       "      <td>414.00</td>\n",
       "      <td>849.0</td>\n",
       "      <td>1744.00</td>\n",
       "      <td>4983.0</td>\n",
       "    </tr>\n",
       "    <tr>\n",
       "      <th>Inflightwifiservice</th>\n",
       "      <td>25976.0</td>\n",
       "      <td>2.724746</td>\n",
       "      <td>1.335384</td>\n",
       "      <td>0.0</td>\n",
       "      <td>2.00</td>\n",
       "      <td>3.0</td>\n",
       "      <td>4.00</td>\n",
       "      <td>5.0</td>\n",
       "    </tr>\n",
       "    <tr>\n",
       "      <th>Departure/Arrivaltimeconvenient</th>\n",
       "      <td>25976.0</td>\n",
       "      <td>3.046812</td>\n",
       "      <td>1.533371</td>\n",
       "      <td>0.0</td>\n",
       "      <td>2.00</td>\n",
       "      <td>3.0</td>\n",
       "      <td>4.00</td>\n",
       "      <td>5.0</td>\n",
       "    </tr>\n",
       "    <tr>\n",
       "      <th>EaseofOnlinebooking</th>\n",
       "      <td>25976.0</td>\n",
       "      <td>2.756775</td>\n",
       "      <td>1.412951</td>\n",
       "      <td>0.0</td>\n",
       "      <td>2.00</td>\n",
       "      <td>3.0</td>\n",
       "      <td>4.00</td>\n",
       "      <td>5.0</td>\n",
       "    </tr>\n",
       "    <tr>\n",
       "      <th>Gatelocation</th>\n",
       "      <td>25976.0</td>\n",
       "      <td>2.977094</td>\n",
       "      <td>1.282133</td>\n",
       "      <td>1.0</td>\n",
       "      <td>2.00</td>\n",
       "      <td>3.0</td>\n",
       "      <td>4.00</td>\n",
       "      <td>5.0</td>\n",
       "    </tr>\n",
       "    <tr>\n",
       "      <th>Foodanddrink</th>\n",
       "      <td>25976.0</td>\n",
       "      <td>3.215353</td>\n",
       "      <td>1.331506</td>\n",
       "      <td>0.0</td>\n",
       "      <td>2.00</td>\n",
       "      <td>3.0</td>\n",
       "      <td>4.00</td>\n",
       "      <td>5.0</td>\n",
       "    </tr>\n",
       "    <tr>\n",
       "      <th>Onlineboarding</th>\n",
       "      <td>25976.0</td>\n",
       "      <td>3.261665</td>\n",
       "      <td>1.355536</td>\n",
       "      <td>0.0</td>\n",
       "      <td>2.00</td>\n",
       "      <td>4.0</td>\n",
       "      <td>4.00</td>\n",
       "      <td>5.0</td>\n",
       "    </tr>\n",
       "    <tr>\n",
       "      <th>Seatcomfort</th>\n",
       "      <td>25976.0</td>\n",
       "      <td>3.449222</td>\n",
       "      <td>1.320090</td>\n",
       "      <td>1.0</td>\n",
       "      <td>2.00</td>\n",
       "      <td>4.0</td>\n",
       "      <td>5.00</td>\n",
       "      <td>5.0</td>\n",
       "    </tr>\n",
       "    <tr>\n",
       "      <th>Inflightentertainment</th>\n",
       "      <td>25976.0</td>\n",
       "      <td>3.357753</td>\n",
       "      <td>1.338299</td>\n",
       "      <td>0.0</td>\n",
       "      <td>2.00</td>\n",
       "      <td>4.0</td>\n",
       "      <td>4.00</td>\n",
       "      <td>5.0</td>\n",
       "    </tr>\n",
       "    <tr>\n",
       "      <th>On-boardservice</th>\n",
       "      <td>25976.0</td>\n",
       "      <td>3.385664</td>\n",
       "      <td>1.282088</td>\n",
       "      <td>0.0</td>\n",
       "      <td>2.00</td>\n",
       "      <td>4.0</td>\n",
       "      <td>4.00</td>\n",
       "      <td>5.0</td>\n",
       "    </tr>\n",
       "    <tr>\n",
       "      <th>Legroomservice</th>\n",
       "      <td>25976.0</td>\n",
       "      <td>3.350169</td>\n",
       "      <td>1.318862</td>\n",
       "      <td>0.0</td>\n",
       "      <td>2.00</td>\n",
       "      <td>4.0</td>\n",
       "      <td>4.00</td>\n",
       "      <td>5.0</td>\n",
       "    </tr>\n",
       "    <tr>\n",
       "      <th>Baggagehandling</th>\n",
       "      <td>25976.0</td>\n",
       "      <td>3.633238</td>\n",
       "      <td>1.176525</td>\n",
       "      <td>1.0</td>\n",
       "      <td>3.00</td>\n",
       "      <td>4.0</td>\n",
       "      <td>5.00</td>\n",
       "      <td>5.0</td>\n",
       "    </tr>\n",
       "    <tr>\n",
       "      <th>Checkinservice</th>\n",
       "      <td>25976.0</td>\n",
       "      <td>3.314175</td>\n",
       "      <td>1.269332</td>\n",
       "      <td>1.0</td>\n",
       "      <td>3.00</td>\n",
       "      <td>3.0</td>\n",
       "      <td>4.00</td>\n",
       "      <td>5.0</td>\n",
       "    </tr>\n",
       "    <tr>\n",
       "      <th>Inflightservice</th>\n",
       "      <td>25976.0</td>\n",
       "      <td>3.649253</td>\n",
       "      <td>1.180681</td>\n",
       "      <td>0.0</td>\n",
       "      <td>3.00</td>\n",
       "      <td>4.0</td>\n",
       "      <td>5.00</td>\n",
       "      <td>5.0</td>\n",
       "    </tr>\n",
       "    <tr>\n",
       "      <th>Cleanliness</th>\n",
       "      <td>25976.0</td>\n",
       "      <td>3.286226</td>\n",
       "      <td>1.319330</td>\n",
       "      <td>0.0</td>\n",
       "      <td>2.00</td>\n",
       "      <td>3.0</td>\n",
       "      <td>4.00</td>\n",
       "      <td>5.0</td>\n",
       "    </tr>\n",
       "    <tr>\n",
       "      <th>DepartureDelayinMinutes</th>\n",
       "      <td>25976.0</td>\n",
       "      <td>14.306090</td>\n",
       "      <td>37.423160</td>\n",
       "      <td>0.0</td>\n",
       "      <td>0.00</td>\n",
       "      <td>0.0</td>\n",
       "      <td>12.00</td>\n",
       "      <td>1128.0</td>\n",
       "    </tr>\n",
       "    <tr>\n",
       "      <th>ArrivalDelayinMinutes</th>\n",
       "      <td>25893.0</td>\n",
       "      <td>14.740857</td>\n",
       "      <td>37.517539</td>\n",
       "      <td>0.0</td>\n",
       "      <td>0.00</td>\n",
       "      <td>0.0</td>\n",
       "      <td>13.00</td>\n",
       "      <td>1115.0</td>\n",
       "    </tr>\n",
       "  </tbody>\n",
       "</table>\n",
       "</div>"
      ],
      "text/plain": [
       "                                   count          mean           std   min  \\\n",
       "Unnamed:0                        25976.0  12987.500000   7498.769632   0.0   \n",
       "id                               25976.0  65005.657992  37611.526647  17.0   \n",
       "Age                              25976.0     39.620958     15.135685   7.0   \n",
       "FlightDistance                   25976.0   1193.788459    998.683999  31.0   \n",
       "Inflightwifiservice              25976.0      2.724746      1.335384   0.0   \n",
       "Departure/Arrivaltimeconvenient  25976.0      3.046812      1.533371   0.0   \n",
       "EaseofOnlinebooking              25976.0      2.756775      1.412951   0.0   \n",
       "Gatelocation                     25976.0      2.977094      1.282133   1.0   \n",
       "Foodanddrink                     25976.0      3.215353      1.331506   0.0   \n",
       "Onlineboarding                   25976.0      3.261665      1.355536   0.0   \n",
       "Seatcomfort                      25976.0      3.449222      1.320090   1.0   \n",
       "Inflightentertainment            25976.0      3.357753      1.338299   0.0   \n",
       "On-boardservice                  25976.0      3.385664      1.282088   0.0   \n",
       "Legroomservice                   25976.0      3.350169      1.318862   0.0   \n",
       "Baggagehandling                  25976.0      3.633238      1.176525   1.0   \n",
       "Checkinservice                   25976.0      3.314175      1.269332   1.0   \n",
       "Inflightservice                  25976.0      3.649253      1.180681   0.0   \n",
       "Cleanliness                      25976.0      3.286226      1.319330   0.0   \n",
       "DepartureDelayinMinutes          25976.0     14.306090     37.423160   0.0   \n",
       "ArrivalDelayinMinutes            25893.0     14.740857     37.517539   0.0   \n",
       "\n",
       "                                      25%      50%       75%       max  \n",
       "Unnamed:0                         6493.75  12987.5  19481.25   25975.0  \n",
       "id                               32170.50  65319.5  97584.25  129877.0  \n",
       "Age                                 27.00     40.0     51.00      85.0  \n",
       "FlightDistance                     414.00    849.0   1744.00    4983.0  \n",
       "Inflightwifiservice                  2.00      3.0      4.00       5.0  \n",
       "Departure/Arrivaltimeconvenient      2.00      3.0      4.00       5.0  \n",
       "EaseofOnlinebooking                  2.00      3.0      4.00       5.0  \n",
       "Gatelocation                         2.00      3.0      4.00       5.0  \n",
       "Foodanddrink                         2.00      3.0      4.00       5.0  \n",
       "Onlineboarding                       2.00      4.0      4.00       5.0  \n",
       "Seatcomfort                          2.00      4.0      5.00       5.0  \n",
       "Inflightentertainment                2.00      4.0      4.00       5.0  \n",
       "On-boardservice                      2.00      4.0      4.00       5.0  \n",
       "Legroomservice                       2.00      4.0      4.00       5.0  \n",
       "Baggagehandling                      3.00      4.0      5.00       5.0  \n",
       "Checkinservice                       3.00      3.0      4.00       5.0  \n",
       "Inflightservice                      3.00      4.0      5.00       5.0  \n",
       "Cleanliness                          2.00      3.0      4.00       5.0  \n",
       "DepartureDelayinMinutes              0.00      0.0     12.00    1128.0  \n",
       "ArrivalDelayinMinutes                0.00      0.0     13.00    1115.0  "
      ]
     },
     "execution_count": 8,
     "metadata": {},
     "output_type": "execute_result"
    }
   ],
   "source": [
    "df.describe().T"
   ]
  },
  {
   "cell_type": "code",
   "execution_count": 6,
   "metadata": {},
   "outputs": [
    {
     "data": {
      "text/plain": [
       "0.0"
      ]
     },
     "execution_count": 6,
     "metadata": {},
     "output_type": "execute_result"
    }
   ],
   "source": [
    "df['ArrivalDelayinMinutes'].median()"
   ]
  },
  {
   "cell_type": "code",
   "execution_count": 7,
   "metadata": {},
   "outputs": [],
   "source": [
    "df['ArrivalDelayinMinutes'] = df['ArrivalDelayinMinutes'].fillna(df['ArrivalDelayinMinutes'].median())"
   ]
  },
  {
   "cell_type": "code",
   "execution_count": 11,
   "metadata": {},
   "outputs": [
    {
     "data": {
      "text/plain": [
       "Unnamed:0                          0\n",
       "id                                 0\n",
       "Gender                             0\n",
       "CustomerType                       0\n",
       "Age                                0\n",
       "TypeofTravel                       0\n",
       "Class                              0\n",
       "FlightDistance                     0\n",
       "Inflightwifiservice                0\n",
       "Departure/Arrivaltimeconvenient    0\n",
       "EaseofOnlinebooking                0\n",
       "Gatelocation                       0\n",
       "Foodanddrink                       0\n",
       "Onlineboarding                     0\n",
       "Seatcomfort                        0\n",
       "Inflightentertainment              0\n",
       "On-boardservice                    0\n",
       "Legroomservice                     0\n",
       "Baggagehandling                    0\n",
       "Checkinservice                     0\n",
       "Inflightservice                    0\n",
       "Cleanliness                        0\n",
       "DepartureDelayinMinutes            0\n",
       "ArrivalDelayinMinutes              0\n",
       "satisfaction                       0\n",
       "dtype: int64"
      ]
     },
     "execution_count": 11,
     "metadata": {},
     "output_type": "execute_result"
    }
   ],
   "source": [
    "df.isna().sum()"
   ]
  },
  {
   "cell_type": "markdown",
   "metadata": {},
   "source": [
    "## Exercise 2\n",
    "Create a function from scratch that takes in an array and calculates the average. You can benchmark your function against np.mean() for validation.\n",
    "Test is with at least 2 columns with quantitative data."
   ]
  },
  {
   "cell_type": "code",
   "execution_count": 12,
   "metadata": {
    "scrolled": true
   },
   "outputs": [
    {
     "data": {
      "text/plain": [
       "Unnamed:0                          12987.500000\n",
       "id                                 65005.657992\n",
       "Age                                   39.620958\n",
       "FlightDistance                      1193.788459\n",
       "Inflightwifiservice                    2.724746\n",
       "Departure/Arrivaltimeconvenient        3.046812\n",
       "EaseofOnlinebooking                    2.756775\n",
       "Gatelocation                           2.977094\n",
       "Foodanddrink                           3.215353\n",
       "Onlineboarding                         3.261665\n",
       "Seatcomfort                            3.449222\n",
       "Inflightentertainment                  3.357753\n",
       "On-boardservice                        3.385664\n",
       "Legroomservice                         3.350169\n",
       "Baggagehandling                        3.633238\n",
       "Checkinservice                         3.314175\n",
       "Inflightservice                        3.649253\n",
       "Cleanliness                            3.286226\n",
       "DepartureDelayinMinutes               14.306090\n",
       "ArrivalDelayinMinutes                 14.693756\n",
       "dtype: float64"
      ]
     },
     "execution_count": 12,
     "metadata": {},
     "output_type": "execute_result"
    }
   ],
   "source": [
    "np.mean(df)"
   ]
  },
  {
   "cell_type": "code",
   "execution_count": null,
   "metadata": {},
   "outputs": [],
   "source": [
    "#calculate mean manually"
   ]
  },
  {
   "cell_type": "code",
   "execution_count": 13,
   "metadata": {},
   "outputs": [
    {
     "data": {
      "text/plain": [
       "3.4492223591007085"
      ]
     },
     "execution_count": 13,
     "metadata": {},
     "output_type": "execute_result"
    }
   ],
   "source": [
    "sum(df['Seatcomfort']) / len(df)"
   ]
  },
  {
   "cell_type": "code",
   "execution_count": 14,
   "metadata": {},
   "outputs": [
    {
     "data": {
      "text/plain": [
       "3.28622574684324"
      ]
     },
     "execution_count": 14,
     "metadata": {},
     "output_type": "execute_result"
    }
   ],
   "source": [
    "sum(df['Cleanliness']) / len(df)"
   ]
  },
  {
   "cell_type": "markdown",
   "metadata": {},
   "source": [
    "## Exercise 3\n",
    "Create a function from scratch that takes in an array and calculates the median. You can benchmark your function against np.median() for validation.\n",
    "Test is with at least 2 columns with quantitative data."
   ]
  },
  {
   "cell_type": "code",
   "execution_count": 15,
   "metadata": {},
   "outputs": [
    {
     "data": {
      "text/plain": [
       "4.0"
      ]
     },
     "execution_count": 15,
     "metadata": {},
     "output_type": "execute_result"
    }
   ],
   "source": [
    "np.median(df['Seatcomfort'])"
   ]
  },
  {
   "cell_type": "code",
   "execution_count": 16,
   "metadata": {},
   "outputs": [
    {
     "data": {
      "text/plain": [
       "3.0"
      ]
     },
     "execution_count": 16,
     "metadata": {},
     "output_type": "execute_result"
    }
   ],
   "source": [
    "np.median(df['Cleanliness'])"
   ]
  },
  {
   "cell_type": "code",
   "execution_count": null,
   "metadata": {},
   "outputs": [],
   "source": [
    "##calculate median manually\n"
   ]
  },
  {
   "cell_type": "code",
   "execution_count": null,
   "metadata": {},
   "outputs": [],
   "source": [
    "#airlines DF is a even dataset\n",
    "#get two middle numbers and divide by two."
   ]
  },
  {
   "cell_type": "code",
   "execution_count": 17,
   "metadata": {},
   "outputs": [
    {
     "data": {
      "text/plain": [
       "4"
      ]
     },
     "execution_count": 17,
     "metadata": {},
     "output_type": "execute_result"
    }
   ],
   "source": [
    "one = sorted(df['Seatcomfort'])[len(df) // 2]\n",
    "one"
   ]
  },
  {
   "cell_type": "code",
   "execution_count": 18,
   "metadata": {},
   "outputs": [
    {
     "data": {
      "text/plain": [
       "4"
      ]
     },
     "execution_count": 18,
     "metadata": {},
     "output_type": "execute_result"
    }
   ],
   "source": [
    "two = sorted(df['Seatcomfort'])[len(df) // 2 - 1]\n",
    "two"
   ]
  },
  {
   "cell_type": "code",
   "execution_count": 19,
   "metadata": {},
   "outputs": [
    {
     "data": {
      "text/plain": [
       "4.0"
      ]
     },
     "execution_count": 19,
     "metadata": {},
     "output_type": "execute_result"
    }
   ],
   "source": [
    "median = (one + two) / 2\n",
    "median"
   ]
  },
  {
   "cell_type": "code",
   "execution_count": 20,
   "metadata": {},
   "outputs": [
    {
     "data": {
      "text/plain": [
       "3.0"
      ]
     },
     "execution_count": 20,
     "metadata": {},
     "output_type": "execute_result"
    }
   ],
   "source": [
    "one = sorted(df['Cleanliness'])[len(df) // 2]\n",
    "two = sorted(df['Cleanliness'])[len(df) // 2 - 1]\n",
    "median = (one + two) / 2\n",
    "median"
   ]
  },
  {
   "cell_type": "markdown",
   "metadata": {},
   "source": [
    "## Exercise 4\n",
    "​\n",
    "1. Create a function from scratch that takes in an array and calculates the variance. You can benchmark your function against `np.var()` for validation.\n",
    "2. Test is with at least 2 columns with quantitative data."
   ]
  },
  {
   "cell_type": "code",
   "execution_count": 91,
   "metadata": {},
   "outputs": [
    {
     "data": {
      "text/plain": [
       "1028184.3676841616"
      ]
     },
     "execution_count": 91,
     "metadata": {},
     "output_type": "execute_result"
    }
   ],
   "source": [
    "np.var(df['FlightDistance'])"
   ]
  },
  {
   "cell_type": "code",
   "execution_count": 86,
   "metadata": {},
   "outputs": [],
   "source": [
    "#manually create variance"
   ]
  },
  {
   "cell_type": "code",
   "execution_count": 94,
   "metadata": {},
   "outputs": [
    {
     "data": {
      "text/plain": [
       "1028184.3676841616"
      ]
     },
     "execution_count": 94,
     "metadata": {},
     "output_type": "execute_result"
    }
   ],
   "source": [
    "sum([(x - df['FlightDistance'].mean()) ** 2 for x in df['FlightDistance']]) / (len(df['FlightDistance']))"
   ]
  },
  {
   "cell_type": "code",
   "execution_count": null,
   "metadata": {},
   "outputs": [],
   "source": []
  },
  {
   "cell_type": "markdown",
   "metadata": {},
   "source": [
    "## Exercise 5\n",
    "Create a function from scratch that takes in an array and calculates the minimum value. You can benchmark your function against np.min() for validation.\n",
    "Test is with at least 2 columns with quantitative data."
   ]
  },
  {
   "cell_type": "code",
   "execution_count": 21,
   "metadata": {
    "scrolled": true
   },
   "outputs": [
    {
     "data": {
      "text/plain": [
       "Unnamed:0                                                0\n",
       "id                                                      17\n",
       "Gender                                              Female\n",
       "CustomerType                                Loyal Customer\n",
       "Age                                                      7\n",
       "TypeofTravel                               Business travel\n",
       "Class                                             Business\n",
       "FlightDistance                                          31\n",
       "Inflightwifiservice                                      0\n",
       "Departure/Arrivaltimeconvenient                          0\n",
       "EaseofOnlinebooking                                      0\n",
       "Gatelocation                                             1\n",
       "Foodanddrink                                             0\n",
       "Onlineboarding                                           0\n",
       "Seatcomfort                                              1\n",
       "Inflightentertainment                                    0\n",
       "On-boardservice                                          0\n",
       "Legroomservice                                           0\n",
       "Baggagehandling                                          1\n",
       "Checkinservice                                           1\n",
       "Inflightservice                                          0\n",
       "Cleanliness                                              0\n",
       "DepartureDelayinMinutes                                  0\n",
       "ArrivalDelayinMinutes                                    0\n",
       "satisfaction                       neutral or dissatisfied\n",
       "dtype: object"
      ]
     },
     "execution_count": 21,
     "metadata": {},
     "output_type": "execute_result"
    }
   ],
   "source": [
    "np.min(df)"
   ]
  },
  {
   "cell_type": "code",
   "execution_count": null,
   "metadata": {},
   "outputs": [],
   "source": [
    "#manually calculate the min value"
   ]
  },
  {
   "cell_type": "code",
   "execution_count": 22,
   "metadata": {},
   "outputs": [
    {
     "data": {
      "text/plain": [
       "31"
      ]
     },
     "execution_count": 22,
     "metadata": {},
     "output_type": "execute_result"
    }
   ],
   "source": [
    "sorted(df['FlightDistance'])[0]"
   ]
  },
  {
   "cell_type": "code",
   "execution_count": 23,
   "metadata": {},
   "outputs": [
    {
     "data": {
      "text/plain": [
       "1"
      ]
     },
     "execution_count": 23,
     "metadata": {},
     "output_type": "execute_result"
    }
   ],
   "source": [
    "sorted(df['Gatelocation'])[0]"
   ]
  },
  {
   "cell_type": "markdown",
   "metadata": {},
   "source": [
    "## Exercise 6\n",
    "Create a function from scratch that takes in an array and calculates the maximum value. You can benchmark your function against np.max() for validation.\n",
    "Test is with at least 2 columns with quantitative data."
   ]
  },
  {
   "cell_type": "code",
   "execution_count": 24,
   "metadata": {
    "scrolled": true
   },
   "outputs": [
    {
     "data": {
      "text/plain": [
       "Unnamed:0                                      25975\n",
       "id                                            129877\n",
       "Gender                                          Male\n",
       "CustomerType                       disloyal Customer\n",
       "Age                                               85\n",
       "TypeofTravel                         Personal Travel\n",
       "Class                                       Eco Plus\n",
       "FlightDistance                                  4983\n",
       "Inflightwifiservice                                5\n",
       "Departure/Arrivaltimeconvenient                    5\n",
       "EaseofOnlinebooking                                5\n",
       "Gatelocation                                       5\n",
       "Foodanddrink                                       5\n",
       "Onlineboarding                                     5\n",
       "Seatcomfort                                        5\n",
       "Inflightentertainment                              5\n",
       "On-boardservice                                    5\n",
       "Legroomservice                                     5\n",
       "Baggagehandling                                    5\n",
       "Checkinservice                                     5\n",
       "Inflightservice                                    5\n",
       "Cleanliness                                        5\n",
       "DepartureDelayinMinutes                         1128\n",
       "ArrivalDelayinMinutes                           1115\n",
       "satisfaction                               satisfied\n",
       "dtype: object"
      ]
     },
     "execution_count": 24,
     "metadata": {},
     "output_type": "execute_result"
    }
   ],
   "source": [
    "np.max(df)"
   ]
  },
  {
   "cell_type": "code",
   "execution_count": null,
   "metadata": {},
   "outputs": [],
   "source": [
    "#manually calculate the max\n"
   ]
  },
  {
   "cell_type": "code",
   "execution_count": 25,
   "metadata": {},
   "outputs": [
    {
     "data": {
      "text/plain": [
       "4983"
      ]
     },
     "execution_count": 25,
     "metadata": {},
     "output_type": "execute_result"
    }
   ],
   "source": [
    "sorted(df['FlightDistance'])[-1]"
   ]
  },
  {
   "cell_type": "code",
   "execution_count": 26,
   "metadata": {},
   "outputs": [
    {
     "data": {
      "text/plain": [
       "5"
      ]
     },
     "execution_count": 26,
     "metadata": {},
     "output_type": "execute_result"
    }
   ],
   "source": [
    "sorted(df['Gatelocation'])[-1]"
   ]
  },
  {
   "cell_type": "markdown",
   "metadata": {},
   "source": [
    "## Exercise 7\n",
    "Create a function from scratch that takes in an array and a percentage value as a float, and calculates the percentile of the array chosen. You can benchmark your function against np.percentile() for validation.\n",
    "Test is with at least 2 columns with quantitative data."
   ]
  },
  {
   "cell_type": "code",
   "execution_count": 182,
   "metadata": {},
   "outputs": [
    {
     "data": {
      "text/plain": [
       "414.0"
      ]
     },
     "execution_count": 182,
     "metadata": {},
     "output_type": "execute_result"
    }
   ],
   "source": [
    "np.percentile(df['FlightDistance'], 25)"
   ]
  },
  {
   "cell_type": "code",
   "execution_count": 27,
   "metadata": {},
   "outputs": [
    {
     "data": {
      "text/plain": [
       "1744.0"
      ]
     },
     "execution_count": 27,
     "metadata": {},
     "output_type": "execute_result"
    }
   ],
   "source": [
    "np.percentile(df['FlightDistance'], 75)"
   ]
  },
  {
   "cell_type": "code",
   "execution_count": null,
   "metadata": {},
   "outputs": [],
   "source": [
    "#calculate function from scratch"
   ]
  },
  {
   "cell_type": "code",
   "execution_count": 28,
   "metadata": {},
   "outputs": [],
   "source": [
    "def calcpercentile(x ,colName):\n",
    "    return sorted(df[colName])[int((x/100) *len(df))]"
   ]
  },
  {
   "cell_type": "code",
   "execution_count": 29,
   "metadata": {},
   "outputs": [
    {
     "data": {
      "text/plain": [
       "1744"
      ]
     },
     "execution_count": 29,
     "metadata": {},
     "output_type": "execute_result"
    }
   ],
   "source": [
    "calcpercentile(75,'FlightDistance')"
   ]
  },
  {
   "cell_type": "code",
   "execution_count": 30,
   "metadata": {},
   "outputs": [
    {
     "data": {
      "text/plain": [
       "414"
      ]
     },
     "execution_count": 30,
     "metadata": {},
     "output_type": "execute_result"
    }
   ],
   "source": [
    "calcpercentile(25,'FlightDistance')"
   ]
  },
  {
   "cell_type": "markdown",
   "metadata": {},
   "source": [
    "## Exercise 8\n",
    "\n",
    "1. Create a function from scratch that takes in an array and calculates the range of such array. You can benchmark your function against `np.ptp()` for validation.\n",
    "2. Test is with at least 2 columns with quantitative data."
   ]
  },
  {
   "cell_type": "code",
   "execution_count": 184,
   "metadata": {},
   "outputs": [
    {
     "data": {
      "text/plain": [
       "4952"
      ]
     },
     "execution_count": 184,
     "metadata": {},
     "output_type": "execute_result"
    }
   ],
   "source": [
    "np.ptp(df['FlightDistance'])"
   ]
  },
  {
   "cell_type": "code",
   "execution_count": 95,
   "metadata": {},
   "outputs": [
    {
     "data": {
      "text/plain": [
       "4952"
      ]
     },
     "execution_count": 95,
     "metadata": {},
     "output_type": "execute_result"
    }
   ],
   "source": [
    "#calculate the range\n",
    "sorted(df['FlightDistance'])[-1] - sorted(df['FlightDistance'])[0]"
   ]
  },
  {
   "cell_type": "markdown",
   "metadata": {},
   "source": [
    "## Exercise 9\n",
    "Create a function from scratch that takes in an array and return the min and max value of an array as a tuple. You can benchmark your function against np.min() and np.max() for validation.\n",
    "Test is with at least 2 columns with quantitative data."
   ]
  },
  {
   "cell_type": "code",
   "execution_count": 31,
   "metadata": {},
   "outputs": [
    {
     "name": "stdout",
     "output_type": "stream",
     "text": [
      "(1, 53)\n"
     ]
    }
   ],
   "source": [
    "def side_values(num_list):\n",
    "    results_list = sorted(num_list)\n",
    "    return results_list[0], results_list[-1]\n",
    "\n",
    "\n",
    "somelist = side_values([1,12,2,53,23,6,17])\n",
    "print(somelist)"
   ]
  },
  {
   "cell_type": "code",
   "execution_count": 32,
   "metadata": {},
   "outputs": [
    {
     "name": "stdout",
     "output_type": "stream",
     "text": [
      "(31, 4983)\n"
     ]
    }
   ],
   "source": [
    "somelist = side_values(df[\"FlightDistance\"])\n",
    "print(somelist)"
   ]
  },
  {
   "cell_type": "markdown",
   "metadata": {},
   "source": [
    "## Exercise 10\n",
    "Create a function from scratch that takes two arrays and returns the correlation between both. You can benchmark your function against the examples provided in class.\n",
    "Test is with at least 2 pairs of columns with quantitative data.\n"
   ]
  },
  {
   "cell_type": "code",
   "execution_count": 33,
   "metadata": {},
   "outputs": [],
   "source": [
    "from scipy.stats import pearsonr"
   ]
  },
  {
   "cell_type": "code",
   "execution_count": 34,
   "metadata": {},
   "outputs": [
    {
     "data": {
      "text/plain": [
       "0.09915045742678201"
      ]
     },
     "execution_count": 34,
     "metadata": {},
     "output_type": "execute_result"
    }
   ],
   "source": [
    "pearsonr(df['Seatcomfort'], df['Legroomservice'])[0]"
   ]
  },
  {
   "cell_type": "code",
   "execution_count": null,
   "metadata": {},
   "outputs": [],
   "source": [
    "#manually calculate correlation"
   ]
  },
  {
   "cell_type": "code",
   "execution_count": 35,
   "metadata": {},
   "outputs": [],
   "source": [
    "# let's create some columns for our prices\n",
    "seat = df['Seatcomfort']\n",
    "legroom = df['Legroomservice']\n",
    "\n",
    "mean_seat = seat.mean()\n",
    "mean_legroom = legroom.mean()"
   ]
  },
  {
   "cell_type": "code",
   "execution_count": 36,
   "metadata": {},
   "outputs": [
    {
     "data": {
      "text/plain": [
       "4483.873421619813"
      ]
     },
     "execution_count": 36,
     "metadata": {},
     "output_type": "execute_result"
    }
   ],
   "source": [
    "# let's sum up the product of the differences between the elements in each array and their mean\n",
    "arrays_diff_sum = sum((seat - mean_seat) * (legroom - mean_legroom))\n",
    "arrays_diff_sum\n"
   ]
  },
  {
   "cell_type": "code",
   "execution_count": 37,
   "metadata": {},
   "outputs": [
    {
     "data": {
      "text/plain": [
       "45222.92219308992"
      ]
     },
     "execution_count": 37,
     "metadata": {},
     "output_type": "execute_result"
    }
   ],
   "source": [
    "# let's now compute the square root of the sum of the squared difference between each of the \n",
    "# elements in an array and its mean\n",
    "diff_sqrt = np.sqrt(sum((seat - mean_seat)**2) * sum((legroom - mean_legroom)**2))\n",
    "diff_sqrt"
   ]
  },
  {
   "cell_type": "code",
   "execution_count": 38,
   "metadata": {},
   "outputs": [
    {
     "name": "stdout",
     "output_type": "stream",
     "text": [
      "The correlation between seat comfort and the leg room size is: 0.099\n"
     ]
    }
   ],
   "source": [
    "r_xy = arrays_diff_sum / diff_sqrt\n",
    "print(\"The correlation between seat comfort and the leg room size is: %.3f\" % r_xy)"
   ]
  },
  {
   "cell_type": "markdown",
   "metadata": {},
   "source": [
    "## Exercise 11\n",
    "Create a function from scratch that takes two arrays and returns the covariance between both. You can benchmark your function against the example provided in class.\n",
    "Test is with at least 2 pairs of columns with quantitative data."
   ]
  },
  {
   "cell_type": "code",
   "execution_count": 39,
   "metadata": {},
   "outputs": [
    {
     "data": {
      "text/plain": [
       "0.1726160079157664"
      ]
     },
     "execution_count": 39,
     "metadata": {},
     "output_type": "execute_result"
    }
   ],
   "source": [
    "# np.dot takes the products of two elements and sums them up\n",
    "np.dot((seat - seat.mean()), (legroom - legroom.mean())) / len(seat)"
   ]
  },
  {
   "cell_type": "code",
   "execution_count": 40,
   "metadata": {},
   "outputs": [
    {
     "data": {
      "text/plain": [
       "0.17261600791576118"
      ]
     },
     "execution_count": 40,
     "metadata": {},
     "output_type": "execute_result"
    }
   ],
   "source": [
    "sum((seat - seat.mean()) * (legroom - legroom.mean())) / len(seat)"
   ]
  },
  {
   "cell_type": "markdown",
   "metadata": {},
   "source": [
    "## Exercise 12\n",
    "\n",
    "1. Create a function from scratch that takes in an array and calculates the standard deviation. You can benchmark your function against `np.std()` for validation.\n",
    "2. Test is with at least 2 pairs of columns with quantitative data."
   ]
  },
  {
   "cell_type": "code",
   "execution_count": 101,
   "metadata": {},
   "outputs": [
    {
     "data": {
      "text/plain": [
       "1013.9942641278409"
      ]
     },
     "execution_count": 101,
     "metadata": {},
     "output_type": "execute_result"
    }
   ],
   "source": [
    "np.std(df['FlightDistance'])"
   ]
  },
  {
   "cell_type": "code",
   "execution_count": 102,
   "metadata": {},
   "outputs": [],
   "source": [
    "#manually create standard deviation, sqrt of variance\n",
    "import math"
   ]
  },
  {
   "cell_type": "code",
   "execution_count": 100,
   "metadata": {},
   "outputs": [
    {
     "data": {
      "text/plain": [
       "1013.9942641278409"
      ]
     },
     "execution_count": 100,
     "metadata": {},
     "output_type": "execute_result"
    }
   ],
   "source": [
    "math.sqrt(sum([(x - df['FlightDistance'].mean()) ** 2 for x in df['FlightDistance']]) / (len(df['FlightDistance']-1)))"
   ]
  },
  {
   "cell_type": "code",
   "execution_count": 103,
   "metadata": {},
   "outputs": [],
   "source": [
    "#take in array and calculate stdev"
   ]
  },
  {
   "cell_type": "code",
   "execution_count": 107,
   "metadata": {},
   "outputs": [
    {
     "name": "stdout",
     "output_type": "stream",
     "text": [
      "[71 73  0 82 33 84 87 84 23 69 67 78 86 52 97 49 54 57 70 76 40 48 48 25\n",
      " 49 46 56 72 51 43  0 65 35 85 38 45 60  0 85 86 74 81  6 86 36 13 17 52\n",
      " 75 34 51 68 10 69 23 95 79 27 99 32 91 51 18 82  8 95 67 29 62 70 91 67\n",
      " 82  8 80 28 38 61 96 39 94]\n",
      "27.161026930795078\n"
     ]
    },
    {
     "data": {
      "text/plain": [
       "27.161026930795078"
      ]
     },
     "execution_count": 107,
     "metadata": {},
     "output_type": "execute_result"
    }
   ],
   "source": [
    "somearray = np.random.randint(low=0, high=100, size=81, dtype='int8')\n",
    "print(somearray)\n",
    "\n",
    "y = np.std(somearray)\n",
    "print(y)\n",
    "\n",
    "x = np.sqrt(np.mean((somearray - np.mean(somearray)) ** 2 ))\n",
    "x"
   ]
  },
  {
   "cell_type": "markdown",
   "metadata": {},
   "source": [
    "## Exercise 13\n",
    "Create two pivot tables with different layers of complexity. Use both, categorical and quantitative variables.\n",
    "Creat 2 visualisations, one with each."
   ]
  },
  {
   "cell_type": "code",
   "execution_count": 8,
   "metadata": {},
   "outputs": [],
   "source": [
    "#create age bins for analysis\n",
    "df['Age_by_decade'] = pd.cut(x=df['Age'], bins=[0, 9, 19, 29, 39, 49, 59, 69, 79, 89], labels=['0s','10s','20s', '30s', '40s', '50s','60s','70s','80s'])"
   ]
  },
  {
   "cell_type": "code",
   "execution_count": 42,
   "metadata": {},
   "outputs": [
    {
     "data": {
      "text/html": [
       "<div>\n",
       "<style scoped>\n",
       "    .dataframe tbody tr th:only-of-type {\n",
       "        vertical-align: middle;\n",
       "    }\n",
       "\n",
       "    .dataframe tbody tr th {\n",
       "        vertical-align: top;\n",
       "    }\n",
       "\n",
       "    .dataframe thead th {\n",
       "        text-align: right;\n",
       "    }\n",
       "</style>\n",
       "<table border=\"1\" class=\"dataframe\">\n",
       "  <thead>\n",
       "    <tr style=\"text-align: right;\">\n",
       "      <th></th>\n",
       "      <th>Unnamed:0</th>\n",
       "      <th>id</th>\n",
       "      <th>Gender</th>\n",
       "      <th>CustomerType</th>\n",
       "      <th>Age</th>\n",
       "      <th>TypeofTravel</th>\n",
       "      <th>Class</th>\n",
       "      <th>FlightDistance</th>\n",
       "      <th>Inflightwifiservice</th>\n",
       "      <th>Departure/Arrivaltimeconvenient</th>\n",
       "      <th>EaseofOnlinebooking</th>\n",
       "      <th>Gatelocation</th>\n",
       "      <th>Foodanddrink</th>\n",
       "      <th>Onlineboarding</th>\n",
       "      <th>Seatcomfort</th>\n",
       "      <th>Inflightentertainment</th>\n",
       "      <th>On-boardservice</th>\n",
       "      <th>Legroomservice</th>\n",
       "      <th>Baggagehandling</th>\n",
       "      <th>Checkinservice</th>\n",
       "      <th>Inflightservice</th>\n",
       "      <th>Cleanliness</th>\n",
       "      <th>DepartureDelayinMinutes</th>\n",
       "      <th>ArrivalDelayinMinutes</th>\n",
       "      <th>satisfaction</th>\n",
       "      <th>Age_by_decade</th>\n",
       "    </tr>\n",
       "  </thead>\n",
       "  <tbody>\n",
       "    <tr>\n",
       "      <th>0</th>\n",
       "      <td>0</td>\n",
       "      <td>19556</td>\n",
       "      <td>Female</td>\n",
       "      <td>Loyal Customer</td>\n",
       "      <td>52</td>\n",
       "      <td>Business travel</td>\n",
       "      <td>Eco</td>\n",
       "      <td>160</td>\n",
       "      <td>5</td>\n",
       "      <td>4</td>\n",
       "      <td>3</td>\n",
       "      <td>4</td>\n",
       "      <td>3</td>\n",
       "      <td>4</td>\n",
       "      <td>3</td>\n",
       "      <td>5</td>\n",
       "      <td>5</td>\n",
       "      <td>5</td>\n",
       "      <td>5</td>\n",
       "      <td>2</td>\n",
       "      <td>5</td>\n",
       "      <td>5</td>\n",
       "      <td>50</td>\n",
       "      <td>44.0</td>\n",
       "      <td>satisfied</td>\n",
       "      <td>50s</td>\n",
       "    </tr>\n",
       "    <tr>\n",
       "      <th>1</th>\n",
       "      <td>1</td>\n",
       "      <td>90035</td>\n",
       "      <td>Female</td>\n",
       "      <td>Loyal Customer</td>\n",
       "      <td>36</td>\n",
       "      <td>Business travel</td>\n",
       "      <td>Business</td>\n",
       "      <td>2863</td>\n",
       "      <td>1</td>\n",
       "      <td>1</td>\n",
       "      <td>3</td>\n",
       "      <td>1</td>\n",
       "      <td>5</td>\n",
       "      <td>4</td>\n",
       "      <td>5</td>\n",
       "      <td>4</td>\n",
       "      <td>4</td>\n",
       "      <td>4</td>\n",
       "      <td>4</td>\n",
       "      <td>3</td>\n",
       "      <td>4</td>\n",
       "      <td>5</td>\n",
       "      <td>0</td>\n",
       "      <td>0.0</td>\n",
       "      <td>satisfied</td>\n",
       "      <td>30s</td>\n",
       "    </tr>\n",
       "    <tr>\n",
       "      <th>2</th>\n",
       "      <td>2</td>\n",
       "      <td>12360</td>\n",
       "      <td>Male</td>\n",
       "      <td>disloyal Customer</td>\n",
       "      <td>20</td>\n",
       "      <td>Business travel</td>\n",
       "      <td>Eco</td>\n",
       "      <td>192</td>\n",
       "      <td>2</td>\n",
       "      <td>0</td>\n",
       "      <td>2</td>\n",
       "      <td>4</td>\n",
       "      <td>2</td>\n",
       "      <td>2</td>\n",
       "      <td>2</td>\n",
       "      <td>2</td>\n",
       "      <td>4</td>\n",
       "      <td>1</td>\n",
       "      <td>3</td>\n",
       "      <td>2</td>\n",
       "      <td>2</td>\n",
       "      <td>2</td>\n",
       "      <td>0</td>\n",
       "      <td>0.0</td>\n",
       "      <td>neutral or dissatisfied</td>\n",
       "      <td>20s</td>\n",
       "    </tr>\n",
       "    <tr>\n",
       "      <th>3</th>\n",
       "      <td>3</td>\n",
       "      <td>77959</td>\n",
       "      <td>Male</td>\n",
       "      <td>Loyal Customer</td>\n",
       "      <td>44</td>\n",
       "      <td>Business travel</td>\n",
       "      <td>Business</td>\n",
       "      <td>3377</td>\n",
       "      <td>0</td>\n",
       "      <td>0</td>\n",
       "      <td>0</td>\n",
       "      <td>2</td>\n",
       "      <td>3</td>\n",
       "      <td>4</td>\n",
       "      <td>4</td>\n",
       "      <td>1</td>\n",
       "      <td>1</td>\n",
       "      <td>1</td>\n",
       "      <td>1</td>\n",
       "      <td>3</td>\n",
       "      <td>1</td>\n",
       "      <td>4</td>\n",
       "      <td>0</td>\n",
       "      <td>6.0</td>\n",
       "      <td>satisfied</td>\n",
       "      <td>40s</td>\n",
       "    </tr>\n",
       "    <tr>\n",
       "      <th>4</th>\n",
       "      <td>4</td>\n",
       "      <td>36875</td>\n",
       "      <td>Female</td>\n",
       "      <td>Loyal Customer</td>\n",
       "      <td>49</td>\n",
       "      <td>Business travel</td>\n",
       "      <td>Eco</td>\n",
       "      <td>1182</td>\n",
       "      <td>2</td>\n",
       "      <td>3</td>\n",
       "      <td>4</td>\n",
       "      <td>3</td>\n",
       "      <td>4</td>\n",
       "      <td>1</td>\n",
       "      <td>2</td>\n",
       "      <td>2</td>\n",
       "      <td>2</td>\n",
       "      <td>2</td>\n",
       "      <td>2</td>\n",
       "      <td>4</td>\n",
       "      <td>2</td>\n",
       "      <td>4</td>\n",
       "      <td>0</td>\n",
       "      <td>20.0</td>\n",
       "      <td>satisfied</td>\n",
       "      <td>40s</td>\n",
       "    </tr>\n",
       "  </tbody>\n",
       "</table>\n",
       "</div>"
      ],
      "text/plain": [
       "   Unnamed:0     id  Gender       CustomerType  Age     TypeofTravel  \\\n",
       "0          0  19556  Female     Loyal Customer   52  Business travel   \n",
       "1          1  90035  Female     Loyal Customer   36  Business travel   \n",
       "2          2  12360    Male  disloyal Customer   20  Business travel   \n",
       "3          3  77959    Male     Loyal Customer   44  Business travel   \n",
       "4          4  36875  Female     Loyal Customer   49  Business travel   \n",
       "\n",
       "      Class  FlightDistance  Inflightwifiservice  \\\n",
       "0       Eco             160                    5   \n",
       "1  Business            2863                    1   \n",
       "2       Eco             192                    2   \n",
       "3  Business            3377                    0   \n",
       "4       Eco            1182                    2   \n",
       "\n",
       "   Departure/Arrivaltimeconvenient  EaseofOnlinebooking  Gatelocation  \\\n",
       "0                                4                    3             4   \n",
       "1                                1                    3             1   \n",
       "2                                0                    2             4   \n",
       "3                                0                    0             2   \n",
       "4                                3                    4             3   \n",
       "\n",
       "   Foodanddrink  Onlineboarding  Seatcomfort  Inflightentertainment  \\\n",
       "0             3               4            3                      5   \n",
       "1             5               4            5                      4   \n",
       "2             2               2            2                      2   \n",
       "3             3               4            4                      1   \n",
       "4             4               1            2                      2   \n",
       "\n",
       "   On-boardservice  Legroomservice  Baggagehandling  Checkinservice  \\\n",
       "0                5               5                5               2   \n",
       "1                4               4                4               3   \n",
       "2                4               1                3               2   \n",
       "3                1               1                1               3   \n",
       "4                2               2                2               4   \n",
       "\n",
       "   Inflightservice  Cleanliness  DepartureDelayinMinutes  \\\n",
       "0                5            5                       50   \n",
       "1                4            5                        0   \n",
       "2                2            2                        0   \n",
       "3                1            4                        0   \n",
       "4                2            4                        0   \n",
       "\n",
       "   ArrivalDelayinMinutes             satisfaction Age_by_decade  \n",
       "0                   44.0                satisfied           50s  \n",
       "1                    0.0                satisfied           30s  \n",
       "2                    0.0  neutral or dissatisfied           20s  \n",
       "3                    6.0                satisfied           40s  \n",
       "4                   20.0                satisfied           40s  "
      ]
     },
     "execution_count": 42,
     "metadata": {},
     "output_type": "execute_result"
    }
   ],
   "source": [
    "df.head()\n"
   ]
  },
  {
   "cell_type": "code",
   "execution_count": 9,
   "metadata": {},
   "outputs": [],
   "source": [
    "#create column to numerise customer satisfaction\n",
    "df['Satisfaction_Score'] = np.where(df['satisfaction']=='satisfied', 1, 0)"
   ]
  },
  {
   "cell_type": "code",
   "execution_count": 113,
   "metadata": {},
   "outputs": [
    {
     "data": {
      "text/html": [
       "<div>\n",
       "<style scoped>\n",
       "    .dataframe tbody tr th:only-of-type {\n",
       "        vertical-align: middle;\n",
       "    }\n",
       "\n",
       "    .dataframe tbody tr th {\n",
       "        vertical-align: top;\n",
       "    }\n",
       "\n",
       "    .dataframe thead tr th {\n",
       "        text-align: left;\n",
       "    }\n",
       "\n",
       "    .dataframe thead tr:last-of-type th {\n",
       "        text-align: right;\n",
       "    }\n",
       "</style>\n",
       "<table border=\"1\" class=\"dataframe\">\n",
       "  <thead>\n",
       "    <tr>\n",
       "      <th></th>\n",
       "      <th colspan=\"4\" halign=\"left\">Satisfaction_Score</th>\n",
       "    </tr>\n",
       "    <tr>\n",
       "      <th></th>\n",
       "      <th colspan=\"2\" halign=\"left\">count</th>\n",
       "      <th colspan=\"2\" halign=\"left\">mean</th>\n",
       "    </tr>\n",
       "    <tr>\n",
       "      <th>CustomerType</th>\n",
       "      <th>Loyal Customer</th>\n",
       "      <th>disloyal Customer</th>\n",
       "      <th>Loyal Customer</th>\n",
       "      <th>disloyal Customer</th>\n",
       "    </tr>\n",
       "    <tr>\n",
       "      <th>Age_by_decade</th>\n",
       "      <th></th>\n",
       "      <th></th>\n",
       "      <th></th>\n",
       "      <th></th>\n",
       "    </tr>\n",
       "  </thead>\n",
       "  <tbody>\n",
       "    <tr>\n",
       "      <th>0s</th>\n",
       "      <td>0</td>\n",
       "      <td>0</td>\n",
       "      <td>0.000000</td>\n",
       "      <td>0.000000</td>\n",
       "    </tr>\n",
       "    <tr>\n",
       "      <th>10s</th>\n",
       "      <td>349</td>\n",
       "      <td>102</td>\n",
       "      <td>0.280802</td>\n",
       "      <td>0.333333</td>\n",
       "    </tr>\n",
       "    <tr>\n",
       "      <th>20s</th>\n",
       "      <td>2767</td>\n",
       "      <td>2498</td>\n",
       "      <td>0.401156</td>\n",
       "      <td>0.325861</td>\n",
       "    </tr>\n",
       "    <tr>\n",
       "      <th>30s</th>\n",
       "      <td>3990</td>\n",
       "      <td>1055</td>\n",
       "      <td>0.500000</td>\n",
       "      <td>0.101422</td>\n",
       "    </tr>\n",
       "    <tr>\n",
       "      <th>40s</th>\n",
       "      <td>5408</td>\n",
       "      <td>532</td>\n",
       "      <td>0.613905</td>\n",
       "      <td>0.203008</td>\n",
       "    </tr>\n",
       "    <tr>\n",
       "      <th>50s</th>\n",
       "      <td>4669</td>\n",
       "      <td>194</td>\n",
       "      <td>0.591561</td>\n",
       "      <td>0.195876</td>\n",
       "    </tr>\n",
       "    <tr>\n",
       "      <th>60s</th>\n",
       "      <td>2063</td>\n",
       "      <td>76</td>\n",
       "      <td>0.279205</td>\n",
       "      <td>0.105263</td>\n",
       "    </tr>\n",
       "    <tr>\n",
       "      <th>70s</th>\n",
       "      <td>299</td>\n",
       "      <td>18</td>\n",
       "      <td>0.210702</td>\n",
       "      <td>0.222222</td>\n",
       "    </tr>\n",
       "    <tr>\n",
       "      <th>80s</th>\n",
       "      <td>28</td>\n",
       "      <td>12</td>\n",
       "      <td>0.535714</td>\n",
       "      <td>0.333333</td>\n",
       "    </tr>\n",
       "  </tbody>\n",
       "</table>\n",
       "</div>"
      ],
      "text/plain": [
       "              Satisfaction_Score                                   \\\n",
       "                           count                             mean   \n",
       "CustomerType      Loyal Customer disloyal Customer Loyal Customer   \n",
       "Age_by_decade                                                       \n",
       "0s                             0                 0       0.000000   \n",
       "10s                          349               102       0.280802   \n",
       "20s                         2767              2498       0.401156   \n",
       "30s                         3990              1055       0.500000   \n",
       "40s                         5408               532       0.613905   \n",
       "50s                         4669               194       0.591561   \n",
       "60s                         2063                76       0.279205   \n",
       "70s                          299                18       0.210702   \n",
       "80s                           28                12       0.535714   \n",
       "\n",
       "                                 \n",
       "                                 \n",
       "CustomerType  disloyal Customer  \n",
       "Age_by_decade                    \n",
       "0s                     0.000000  \n",
       "10s                    0.333333  \n",
       "20s                    0.325861  \n",
       "30s                    0.101422  \n",
       "40s                    0.203008  \n",
       "50s                    0.195876  \n",
       "60s                    0.105263  \n",
       "70s                    0.222222  \n",
       "80s                    0.333333  "
      ]
     },
     "execution_count": 113,
     "metadata": {},
     "output_type": "execute_result"
    }
   ],
   "source": [
    "sat_by_age = df[df['Age']>17].pivot_table(\n",
    "    index='Age_by_decade',\n",
    "    values=['Satisfaction_Score'],\n",
    "    aggfunc={'mean','count'}, \n",
    "    columns='CustomerType',\n",
    "    fill_value=0\n",
    ")\n",
    "sat_by_age"
   ]
  },
  {
   "cell_type": "code",
   "execution_count": 180,
   "metadata": {},
   "outputs": [
    {
     "data": {
      "text/html": [
       "<div>\n",
       "<style scoped>\n",
       "    .dataframe tbody tr th:only-of-type {\n",
       "        vertical-align: middle;\n",
       "    }\n",
       "\n",
       "    .dataframe tbody tr th {\n",
       "        vertical-align: top;\n",
       "    }\n",
       "\n",
       "    .dataframe thead th {\n",
       "        text-align: right;\n",
       "    }\n",
       "</style>\n",
       "<table border=\"1\" class=\"dataframe\">\n",
       "  <thead>\n",
       "    <tr style=\"text-align: right;\">\n",
       "      <th></th>\n",
       "      <th>count</th>\n",
       "      <th>mean</th>\n",
       "      <th>std</th>\n",
       "      <th>min</th>\n",
       "      <th>25%</th>\n",
       "      <th>50%</th>\n",
       "      <th>75%</th>\n",
       "      <th>max</th>\n",
       "    </tr>\n",
       "  </thead>\n",
       "  <tbody>\n",
       "    <tr>\n",
       "      <th>Unnamed:0</th>\n",
       "      <td>14573.0</td>\n",
       "      <td>12977.476566</td>\n",
       "      <td>7496.493612</td>\n",
       "      <td>2.0</td>\n",
       "      <td>6470.0</td>\n",
       "      <td>12942.0</td>\n",
       "      <td>19493.0</td>\n",
       "      <td>25975.0</td>\n",
       "    </tr>\n",
       "    <tr>\n",
       "      <th>id</th>\n",
       "      <td>14573.0</td>\n",
       "      <td>64640.851781</td>\n",
       "      <td>37587.802699</td>\n",
       "      <td>17.0</td>\n",
       "      <td>31726.0</td>\n",
       "      <td>64463.0</td>\n",
       "      <td>97279.0</td>\n",
       "      <td>129877.0</td>\n",
       "    </tr>\n",
       "    <tr>\n",
       "      <th>Age</th>\n",
       "      <td>14573.0</td>\n",
       "      <td>37.991628</td>\n",
       "      <td>16.486103</td>\n",
       "      <td>7.0</td>\n",
       "      <td>25.0</td>\n",
       "      <td>37.0</td>\n",
       "      <td>51.0</td>\n",
       "      <td>85.0</td>\n",
       "    </tr>\n",
       "    <tr>\n",
       "      <th>FlightDistance</th>\n",
       "      <td>14573.0</td>\n",
       "      <td>932.929253</td>\n",
       "      <td>794.701314</td>\n",
       "      <td>31.0</td>\n",
       "      <td>374.0</td>\n",
       "      <td>679.0</td>\n",
       "      <td>1142.0</td>\n",
       "      <td>4983.0</td>\n",
       "    </tr>\n",
       "    <tr>\n",
       "      <th>Inflightwifiservice</th>\n",
       "      <td>14573.0</td>\n",
       "      <td>2.393536</td>\n",
       "      <td>0.963871</td>\n",
       "      <td>0.0</td>\n",
       "      <td>2.0</td>\n",
       "      <td>2.0</td>\n",
       "      <td>3.0</td>\n",
       "      <td>5.0</td>\n",
       "    </tr>\n",
       "    <tr>\n",
       "      <th>Departure/Arrivaltimeconvenient</th>\n",
       "      <td>14573.0</td>\n",
       "      <td>3.134701</td>\n",
       "      <td>1.501591</td>\n",
       "      <td>0.0</td>\n",
       "      <td>2.0</td>\n",
       "      <td>3.0</td>\n",
       "      <td>4.0</td>\n",
       "      <td>5.0</td>\n",
       "    </tr>\n",
       "    <tr>\n",
       "      <th>EaseofOnlinebooking</th>\n",
       "      <td>14573.0</td>\n",
       "      <td>2.559665</td>\n",
       "      <td>1.222203</td>\n",
       "      <td>0.0</td>\n",
       "      <td>2.0</td>\n",
       "      <td>3.0</td>\n",
       "      <td>3.0</td>\n",
       "      <td>5.0</td>\n",
       "    </tr>\n",
       "    <tr>\n",
       "      <th>Gatelocation</th>\n",
       "      <td>14573.0</td>\n",
       "      <td>2.995951</td>\n",
       "      <td>1.204597</td>\n",
       "      <td>1.0</td>\n",
       "      <td>2.0</td>\n",
       "      <td>3.0</td>\n",
       "      <td>4.0</td>\n",
       "      <td>5.0</td>\n",
       "    </tr>\n",
       "    <tr>\n",
       "      <th>Foodanddrink</th>\n",
       "      <td>14573.0</td>\n",
       "      <td>2.959926</td>\n",
       "      <td>1.352060</td>\n",
       "      <td>0.0</td>\n",
       "      <td>2.0</td>\n",
       "      <td>3.0</td>\n",
       "      <td>4.0</td>\n",
       "      <td>5.0</td>\n",
       "    </tr>\n",
       "    <tr>\n",
       "      <th>Onlineboarding</th>\n",
       "      <td>14573.0</td>\n",
       "      <td>2.668702</td>\n",
       "      <td>1.151641</td>\n",
       "      <td>0.0</td>\n",
       "      <td>2.0</td>\n",
       "      <td>3.0</td>\n",
       "      <td>3.0</td>\n",
       "      <td>5.0</td>\n",
       "    </tr>\n",
       "    <tr>\n",
       "      <th>Seatcomfort</th>\n",
       "      <td>14573.0</td>\n",
       "      <td>3.044878</td>\n",
       "      <td>1.307684</td>\n",
       "      <td>1.0</td>\n",
       "      <td>2.0</td>\n",
       "      <td>3.0</td>\n",
       "      <td>4.0</td>\n",
       "      <td>5.0</td>\n",
       "    </tr>\n",
       "    <tr>\n",
       "      <th>Inflightentertainment</th>\n",
       "      <td>14573.0</td>\n",
       "      <td>2.885473</td>\n",
       "      <td>1.326628</td>\n",
       "      <td>0.0</td>\n",
       "      <td>2.0</td>\n",
       "      <td>3.0</td>\n",
       "      <td>4.0</td>\n",
       "      <td>5.0</td>\n",
       "    </tr>\n",
       "    <tr>\n",
       "      <th>On-boardservice</th>\n",
       "      <td>14573.0</td>\n",
       "      <td>3.021066</td>\n",
       "      <td>1.272196</td>\n",
       "      <td>0.0</td>\n",
       "      <td>2.0</td>\n",
       "      <td>3.0</td>\n",
       "      <td>4.0</td>\n",
       "      <td>5.0</td>\n",
       "    </tr>\n",
       "    <tr>\n",
       "      <th>Legroomservice</th>\n",
       "      <td>14573.0</td>\n",
       "      <td>2.988952</td>\n",
       "      <td>1.309272</td>\n",
       "      <td>0.0</td>\n",
       "      <td>2.0</td>\n",
       "      <td>3.0</td>\n",
       "      <td>4.0</td>\n",
       "      <td>5.0</td>\n",
       "    </tr>\n",
       "    <tr>\n",
       "      <th>Baggagehandling</th>\n",
       "      <td>14573.0</td>\n",
       "      <td>3.370548</td>\n",
       "      <td>1.167223</td>\n",
       "      <td>1.0</td>\n",
       "      <td>3.0</td>\n",
       "      <td>4.0</td>\n",
       "      <td>4.0</td>\n",
       "      <td>5.0</td>\n",
       "    </tr>\n",
       "    <tr>\n",
       "      <th>Checkinservice</th>\n",
       "      <td>14573.0</td>\n",
       "      <td>3.043025</td>\n",
       "      <td>1.286291</td>\n",
       "      <td>1.0</td>\n",
       "      <td>2.0</td>\n",
       "      <td>3.0</td>\n",
       "      <td>4.0</td>\n",
       "      <td>5.0</td>\n",
       "    </tr>\n",
       "    <tr>\n",
       "      <th>Inflightservice</th>\n",
       "      <td>14573.0</td>\n",
       "      <td>3.392781</td>\n",
       "      <td>1.180223</td>\n",
       "      <td>0.0</td>\n",
       "      <td>3.0</td>\n",
       "      <td>4.0</td>\n",
       "      <td>4.0</td>\n",
       "      <td>5.0</td>\n",
       "    </tr>\n",
       "    <tr>\n",
       "      <th>Cleanliness</th>\n",
       "      <td>14573.0</td>\n",
       "      <td>2.919371</td>\n",
       "      <td>1.327517</td>\n",
       "      <td>0.0</td>\n",
       "      <td>2.0</td>\n",
       "      <td>3.0</td>\n",
       "      <td>4.0</td>\n",
       "      <td>5.0</td>\n",
       "    </tr>\n",
       "    <tr>\n",
       "      <th>DepartureDelayinMinutes</th>\n",
       "      <td>14573.0</td>\n",
       "      <td>16.015371</td>\n",
       "      <td>40.145645</td>\n",
       "      <td>0.0</td>\n",
       "      <td>0.0</td>\n",
       "      <td>0.0</td>\n",
       "      <td>15.0</td>\n",
       "      <td>1128.0</td>\n",
       "    </tr>\n",
       "    <tr>\n",
       "      <th>ArrivalDelayinMinutes</th>\n",
       "      <td>14573.0</td>\n",
       "      <td>16.715158</td>\n",
       "      <td>40.315664</td>\n",
       "      <td>0.0</td>\n",
       "      <td>0.0</td>\n",
       "      <td>0.0</td>\n",
       "      <td>16.0</td>\n",
       "      <td>1115.0</td>\n",
       "    </tr>\n",
       "    <tr>\n",
       "      <th>Satisfaction_Score</th>\n",
       "      <td>14573.0</td>\n",
       "      <td>0.000000</td>\n",
       "      <td>0.000000</td>\n",
       "      <td>0.0</td>\n",
       "      <td>0.0</td>\n",
       "      <td>0.0</td>\n",
       "      <td>0.0</td>\n",
       "      <td>0.0</td>\n",
       "    </tr>\n",
       "  </tbody>\n",
       "</table>\n",
       "</div>"
      ],
      "text/plain": [
       "                                   count          mean           std   min  \\\n",
       "Unnamed:0                        14573.0  12977.476566   7496.493612   2.0   \n",
       "id                               14573.0  64640.851781  37587.802699  17.0   \n",
       "Age                              14573.0     37.991628     16.486103   7.0   \n",
       "FlightDistance                   14573.0    932.929253    794.701314  31.0   \n",
       "Inflightwifiservice              14573.0      2.393536      0.963871   0.0   \n",
       "Departure/Arrivaltimeconvenient  14573.0      3.134701      1.501591   0.0   \n",
       "EaseofOnlinebooking              14573.0      2.559665      1.222203   0.0   \n",
       "Gatelocation                     14573.0      2.995951      1.204597   1.0   \n",
       "Foodanddrink                     14573.0      2.959926      1.352060   0.0   \n",
       "Onlineboarding                   14573.0      2.668702      1.151641   0.0   \n",
       "Seatcomfort                      14573.0      3.044878      1.307684   1.0   \n",
       "Inflightentertainment            14573.0      2.885473      1.326628   0.0   \n",
       "On-boardservice                  14573.0      3.021066      1.272196   0.0   \n",
       "Legroomservice                   14573.0      2.988952      1.309272   0.0   \n",
       "Baggagehandling                  14573.0      3.370548      1.167223   1.0   \n",
       "Checkinservice                   14573.0      3.043025      1.286291   1.0   \n",
       "Inflightservice                  14573.0      3.392781      1.180223   0.0   \n",
       "Cleanliness                      14573.0      2.919371      1.327517   0.0   \n",
       "DepartureDelayinMinutes          14573.0     16.015371     40.145645   0.0   \n",
       "ArrivalDelayinMinutes            14573.0     16.715158     40.315664   0.0   \n",
       "Satisfaction_Score               14573.0      0.000000      0.000000   0.0   \n",
       "\n",
       "                                     25%      50%      75%       max  \n",
       "Unnamed:0                         6470.0  12942.0  19493.0   25975.0  \n",
       "id                               31726.0  64463.0  97279.0  129877.0  \n",
       "Age                                 25.0     37.0     51.0      85.0  \n",
       "FlightDistance                     374.0    679.0   1142.0    4983.0  \n",
       "Inflightwifiservice                  2.0      2.0      3.0       5.0  \n",
       "Departure/Arrivaltimeconvenient      2.0      3.0      4.0       5.0  \n",
       "EaseofOnlinebooking                  2.0      3.0      3.0       5.0  \n",
       "Gatelocation                         2.0      3.0      4.0       5.0  \n",
       "Foodanddrink                         2.0      3.0      4.0       5.0  \n",
       "Onlineboarding                       2.0      3.0      3.0       5.0  \n",
       "Seatcomfort                          2.0      3.0      4.0       5.0  \n",
       "Inflightentertainment                2.0      3.0      4.0       5.0  \n",
       "On-boardservice                      2.0      3.0      4.0       5.0  \n",
       "Legroomservice                       2.0      3.0      4.0       5.0  \n",
       "Baggagehandling                      3.0      4.0      4.0       5.0  \n",
       "Checkinservice                       2.0      3.0      4.0       5.0  \n",
       "Inflightservice                      3.0      4.0      4.0       5.0  \n",
       "Cleanliness                          2.0      3.0      4.0       5.0  \n",
       "DepartureDelayinMinutes              0.0      0.0     15.0    1128.0  \n",
       "ArrivalDelayinMinutes                0.0      0.0     16.0    1115.0  \n",
       "Satisfaction_Score                   0.0      0.0      0.0       0.0  "
      ]
     },
     "execution_count": 180,
     "metadata": {},
     "output_type": "execute_result"
    }
   ],
   "source": [
    "#dissatisfied customers\n",
    "df.loc[df['Satisfaction_Score'] == 0].describe().T"
   ]
  },
  {
   "cell_type": "code",
   "execution_count": 179,
   "metadata": {},
   "outputs": [
    {
     "data": {
      "text/html": [
       "<div>\n",
       "<style scoped>\n",
       "    .dataframe tbody tr th:only-of-type {\n",
       "        vertical-align: middle;\n",
       "    }\n",
       "\n",
       "    .dataframe tbody tr th {\n",
       "        vertical-align: top;\n",
       "    }\n",
       "\n",
       "    .dataframe thead th {\n",
       "        text-align: right;\n",
       "    }\n",
       "</style>\n",
       "<table border=\"1\" class=\"dataframe\">\n",
       "  <thead>\n",
       "    <tr style=\"text-align: right;\">\n",
       "      <th></th>\n",
       "      <th>count</th>\n",
       "      <th>mean</th>\n",
       "      <th>std</th>\n",
       "      <th>min</th>\n",
       "      <th>25%</th>\n",
       "      <th>50%</th>\n",
       "      <th>75%</th>\n",
       "      <th>max</th>\n",
       "    </tr>\n",
       "  </thead>\n",
       "  <tbody>\n",
       "    <tr>\n",
       "      <th>Unnamed:0</th>\n",
       "      <td>11403.0</td>\n",
       "      <td>13000.309918</td>\n",
       "      <td>7501.986634</td>\n",
       "      <td>0.0</td>\n",
       "      <td>6516.5</td>\n",
       "      <td>13042.0</td>\n",
       "      <td>19460.0</td>\n",
       "      <td>25974.0</td>\n",
       "    </tr>\n",
       "    <tr>\n",
       "      <th>id</th>\n",
       "      <td>11403.0</td>\n",
       "      <td>65471.879242</td>\n",
       "      <td>37638.325552</td>\n",
       "      <td>35.0</td>\n",
       "      <td>32396.0</td>\n",
       "      <td>66184.0</td>\n",
       "      <td>97959.5</td>\n",
       "      <td>129872.0</td>\n",
       "    </tr>\n",
       "    <tr>\n",
       "      <th>Age</th>\n",
       "      <td>11403.0</td>\n",
       "      <td>41.703236</td>\n",
       "      <td>12.915298</td>\n",
       "      <td>7.0</td>\n",
       "      <td>32.0</td>\n",
       "      <td>43.0</td>\n",
       "      <td>52.0</td>\n",
       "      <td>85.0</td>\n",
       "    </tr>\n",
       "    <tr>\n",
       "      <th>FlightDistance</th>\n",
       "      <td>11403.0</td>\n",
       "      <td>1527.165746</td>\n",
       "      <td>1125.548796</td>\n",
       "      <td>31.0</td>\n",
       "      <td>521.0</td>\n",
       "      <td>1237.0</td>\n",
       "      <td>2409.0</td>\n",
       "      <td>4983.0</td>\n",
       "    </tr>\n",
       "    <tr>\n",
       "      <th>Inflightwifiservice</th>\n",
       "      <td>11403.0</td>\n",
       "      <td>3.148031</td>\n",
       "      <td>1.598657</td>\n",
       "      <td>0.0</td>\n",
       "      <td>2.0</td>\n",
       "      <td>4.0</td>\n",
       "      <td>5.0</td>\n",
       "      <td>5.0</td>\n",
       "    </tr>\n",
       "    <tr>\n",
       "      <th>Departure/Arrivaltimeconvenient</th>\n",
       "      <td>11403.0</td>\n",
       "      <td>2.934491</td>\n",
       "      <td>1.565952</td>\n",
       "      <td>0.0</td>\n",
       "      <td>2.0</td>\n",
       "      <td>3.0</td>\n",
       "      <td>4.0</td>\n",
       "      <td>5.0</td>\n",
       "    </tr>\n",
       "    <tr>\n",
       "      <th>EaseofOnlinebooking</th>\n",
       "      <td>11403.0</td>\n",
       "      <td>3.008682</td>\n",
       "      <td>1.589303</td>\n",
       "      <td>0.0</td>\n",
       "      <td>2.0</td>\n",
       "      <td>3.0</td>\n",
       "      <td>4.0</td>\n",
       "      <td>5.0</td>\n",
       "    </tr>\n",
       "    <tr>\n",
       "      <th>Gatelocation</th>\n",
       "      <td>11403.0</td>\n",
       "      <td>2.952995</td>\n",
       "      <td>1.374550</td>\n",
       "      <td>1.0</td>\n",
       "      <td>2.0</td>\n",
       "      <td>3.0</td>\n",
       "      <td>4.0</td>\n",
       "      <td>5.0</td>\n",
       "    </tr>\n",
       "    <tr>\n",
       "      <th>Foodanddrink</th>\n",
       "      <td>11403.0</td>\n",
       "      <td>3.541787</td>\n",
       "      <td>1.229884</td>\n",
       "      <td>0.0</td>\n",
       "      <td>3.0</td>\n",
       "      <td>4.0</td>\n",
       "      <td>5.0</td>\n",
       "      <td>5.0</td>\n",
       "    </tr>\n",
       "    <tr>\n",
       "      <th>Onlineboarding</th>\n",
       "      <td>11403.0</td>\n",
       "      <td>4.019469</td>\n",
       "      <td>1.211304</td>\n",
       "      <td>0.0</td>\n",
       "      <td>4.0</td>\n",
       "      <td>4.0</td>\n",
       "      <td>5.0</td>\n",
       "      <td>5.0</td>\n",
       "    </tr>\n",
       "    <tr>\n",
       "      <th>Seatcomfort</th>\n",
       "      <td>11403.0</td>\n",
       "      <td>3.965974</td>\n",
       "      <td>1.143869</td>\n",
       "      <td>1.0</td>\n",
       "      <td>4.0</td>\n",
       "      <td>4.0</td>\n",
       "      <td>5.0</td>\n",
       "      <td>5.0</td>\n",
       "    </tr>\n",
       "    <tr>\n",
       "      <th>Inflightentertainment</th>\n",
       "      <td>11403.0</td>\n",
       "      <td>3.961326</td>\n",
       "      <td>1.086988</td>\n",
       "      <td>1.0</td>\n",
       "      <td>4.0</td>\n",
       "      <td>4.0</td>\n",
       "      <td>5.0</td>\n",
       "      <td>5.0</td>\n",
       "    </tr>\n",
       "    <tr>\n",
       "      <th>On-boardservice</th>\n",
       "      <td>11403.0</td>\n",
       "      <td>3.851618</td>\n",
       "      <td>1.135409</td>\n",
       "      <td>1.0</td>\n",
       "      <td>3.0</td>\n",
       "      <td>4.0</td>\n",
       "      <td>5.0</td>\n",
       "      <td>5.0</td>\n",
       "    </tr>\n",
       "    <tr>\n",
       "      <th>Legroomservice</th>\n",
       "      <td>11403.0</td>\n",
       "      <td>3.811804</td>\n",
       "      <td>1.179776</td>\n",
       "      <td>0.0</td>\n",
       "      <td>3.0</td>\n",
       "      <td>4.0</td>\n",
       "      <td>5.0</td>\n",
       "      <td>5.0</td>\n",
       "    </tr>\n",
       "    <tr>\n",
       "      <th>Baggagehandling</th>\n",
       "      <td>11403.0</td>\n",
       "      <td>3.968956</td>\n",
       "      <td>1.100581</td>\n",
       "      <td>1.0</td>\n",
       "      <td>4.0</td>\n",
       "      <td>4.0</td>\n",
       "      <td>5.0</td>\n",
       "      <td>5.0</td>\n",
       "    </tr>\n",
       "    <tr>\n",
       "      <th>Checkinservice</th>\n",
       "      <td>11403.0</td>\n",
       "      <td>3.660703</td>\n",
       "      <td>1.158401</td>\n",
       "      <td>1.0</td>\n",
       "      <td>3.0</td>\n",
       "      <td>4.0</td>\n",
       "      <td>5.0</td>\n",
       "      <td>5.0</td>\n",
       "    </tr>\n",
       "    <tr>\n",
       "      <th>Inflightservice</th>\n",
       "      <td>11403.0</td>\n",
       "      <td>3.977024</td>\n",
       "      <td>1.097268</td>\n",
       "      <td>1.0</td>\n",
       "      <td>4.0</td>\n",
       "      <td>4.0</td>\n",
       "      <td>5.0</td>\n",
       "      <td>5.0</td>\n",
       "    </tr>\n",
       "    <tr>\n",
       "      <th>Cleanliness</th>\n",
       "      <td>11403.0</td>\n",
       "      <td>3.755064</td>\n",
       "      <td>1.149456</td>\n",
       "      <td>1.0</td>\n",
       "      <td>3.0</td>\n",
       "      <td>4.0</td>\n",
       "      <td>5.0</td>\n",
       "      <td>5.0</td>\n",
       "    </tr>\n",
       "    <tr>\n",
       "      <th>DepartureDelayinMinutes</th>\n",
       "      <td>11403.0</td>\n",
       "      <td>12.121635</td>\n",
       "      <td>33.499505</td>\n",
       "      <td>0.0</td>\n",
       "      <td>0.0</td>\n",
       "      <td>0.0</td>\n",
       "      <td>9.0</td>\n",
       "      <td>624.0</td>\n",
       "    </tr>\n",
       "    <tr>\n",
       "      <th>ArrivalDelayinMinutes</th>\n",
       "      <td>11403.0</td>\n",
       "      <td>12.110410</td>\n",
       "      <td>33.298444</td>\n",
       "      <td>0.0</td>\n",
       "      <td>0.0</td>\n",
       "      <td>0.0</td>\n",
       "      <td>8.0</td>\n",
       "      <td>615.0</td>\n",
       "    </tr>\n",
       "    <tr>\n",
       "      <th>Satisfaction_Score</th>\n",
       "      <td>11403.0</td>\n",
       "      <td>1.000000</td>\n",
       "      <td>0.000000</td>\n",
       "      <td>1.0</td>\n",
       "      <td>1.0</td>\n",
       "      <td>1.0</td>\n",
       "      <td>1.0</td>\n",
       "      <td>1.0</td>\n",
       "    </tr>\n",
       "  </tbody>\n",
       "</table>\n",
       "</div>"
      ],
      "text/plain": [
       "                                   count          mean           std   min  \\\n",
       "Unnamed:0                        11403.0  13000.309918   7501.986634   0.0   \n",
       "id                               11403.0  65471.879242  37638.325552  35.0   \n",
       "Age                              11403.0     41.703236     12.915298   7.0   \n",
       "FlightDistance                   11403.0   1527.165746   1125.548796  31.0   \n",
       "Inflightwifiservice              11403.0      3.148031      1.598657   0.0   \n",
       "Departure/Arrivaltimeconvenient  11403.0      2.934491      1.565952   0.0   \n",
       "EaseofOnlinebooking              11403.0      3.008682      1.589303   0.0   \n",
       "Gatelocation                     11403.0      2.952995      1.374550   1.0   \n",
       "Foodanddrink                     11403.0      3.541787      1.229884   0.0   \n",
       "Onlineboarding                   11403.0      4.019469      1.211304   0.0   \n",
       "Seatcomfort                      11403.0      3.965974      1.143869   1.0   \n",
       "Inflightentertainment            11403.0      3.961326      1.086988   1.0   \n",
       "On-boardservice                  11403.0      3.851618      1.135409   1.0   \n",
       "Legroomservice                   11403.0      3.811804      1.179776   0.0   \n",
       "Baggagehandling                  11403.0      3.968956      1.100581   1.0   \n",
       "Checkinservice                   11403.0      3.660703      1.158401   1.0   \n",
       "Inflightservice                  11403.0      3.977024      1.097268   1.0   \n",
       "Cleanliness                      11403.0      3.755064      1.149456   1.0   \n",
       "DepartureDelayinMinutes          11403.0     12.121635     33.499505   0.0   \n",
       "ArrivalDelayinMinutes            11403.0     12.110410     33.298444   0.0   \n",
       "Satisfaction_Score               11403.0      1.000000      0.000000   1.0   \n",
       "\n",
       "                                     25%      50%      75%       max  \n",
       "Unnamed:0                         6516.5  13042.0  19460.0   25974.0  \n",
       "id                               32396.0  66184.0  97959.5  129872.0  \n",
       "Age                                 32.0     43.0     52.0      85.0  \n",
       "FlightDistance                     521.0   1237.0   2409.0    4983.0  \n",
       "Inflightwifiservice                  2.0      4.0      5.0       5.0  \n",
       "Departure/Arrivaltimeconvenient      2.0      3.0      4.0       5.0  \n",
       "EaseofOnlinebooking                  2.0      3.0      4.0       5.0  \n",
       "Gatelocation                         2.0      3.0      4.0       5.0  \n",
       "Foodanddrink                         3.0      4.0      5.0       5.0  \n",
       "Onlineboarding                       4.0      4.0      5.0       5.0  \n",
       "Seatcomfort                          4.0      4.0      5.0       5.0  \n",
       "Inflightentertainment                4.0      4.0      5.0       5.0  \n",
       "On-boardservice                      3.0      4.0      5.0       5.0  \n",
       "Legroomservice                       3.0      4.0      5.0       5.0  \n",
       "Baggagehandling                      4.0      4.0      5.0       5.0  \n",
       "Checkinservice                       3.0      4.0      5.0       5.0  \n",
       "Inflightservice                      4.0      4.0      5.0       5.0  \n",
       "Cleanliness                          3.0      4.0      5.0       5.0  \n",
       "DepartureDelayinMinutes              0.0      0.0      9.0     624.0  \n",
       "ArrivalDelayinMinutes                0.0      0.0      8.0     615.0  \n",
       "Satisfaction_Score                   1.0      1.0      1.0       1.0  "
      ]
     },
     "execution_count": 179,
     "metadata": {},
     "output_type": "execute_result"
    }
   ],
   "source": [
    "#satisfied customers\n",
    "df.loc[df['Satisfaction_Score'] == 1].describe().T"
   ]
  },
  {
   "cell_type": "code",
   "execution_count": 10,
   "metadata": {},
   "outputs": [
    {
     "data": {
      "text/html": [
       "<div>\n",
       "<style scoped>\n",
       "    .dataframe tbody tr th:only-of-type {\n",
       "        vertical-align: middle;\n",
       "    }\n",
       "\n",
       "    .dataframe tbody tr th {\n",
       "        vertical-align: top;\n",
       "    }\n",
       "\n",
       "    .dataframe thead tr th {\n",
       "        text-align: left;\n",
       "    }\n",
       "</style>\n",
       "<table border=\"1\" class=\"dataframe\">\n",
       "  <thead>\n",
       "    <tr>\n",
       "      <th></th>\n",
       "      <th colspan=\"2\" halign=\"left\">Percentile25</th>\n",
       "    </tr>\n",
       "    <tr>\n",
       "      <th>satisfaction</th>\n",
       "      <th>neutral or dissatisfied</th>\n",
       "      <th>satisfied</th>\n",
       "    </tr>\n",
       "  </thead>\n",
       "  <tbody>\n",
       "    <tr>\n",
       "      <th>Baggagehandling</th>\n",
       "      <td>3</td>\n",
       "      <td>4</td>\n",
       "    </tr>\n",
       "    <tr>\n",
       "      <th>Checkinservice</th>\n",
       "      <td>2</td>\n",
       "      <td>3</td>\n",
       "    </tr>\n",
       "    <tr>\n",
       "      <th>Cleanliness</th>\n",
       "      <td>2</td>\n",
       "      <td>3</td>\n",
       "    </tr>\n",
       "    <tr>\n",
       "      <th>Departure/Arrivaltimeconvenient</th>\n",
       "      <td>2</td>\n",
       "      <td>2</td>\n",
       "    </tr>\n",
       "    <tr>\n",
       "      <th>EaseofOnlinebooking</th>\n",
       "      <td>2</td>\n",
       "      <td>2</td>\n",
       "    </tr>\n",
       "    <tr>\n",
       "      <th>Foodanddrink</th>\n",
       "      <td>2</td>\n",
       "      <td>3</td>\n",
       "    </tr>\n",
       "    <tr>\n",
       "      <th>Gatelocation</th>\n",
       "      <td>2</td>\n",
       "      <td>2</td>\n",
       "    </tr>\n",
       "    <tr>\n",
       "      <th>Inflightentertainment</th>\n",
       "      <td>2</td>\n",
       "      <td>4</td>\n",
       "    </tr>\n",
       "    <tr>\n",
       "      <th>Inflightservice</th>\n",
       "      <td>3</td>\n",
       "      <td>4</td>\n",
       "    </tr>\n",
       "    <tr>\n",
       "      <th>Legroomservice</th>\n",
       "      <td>2</td>\n",
       "      <td>3</td>\n",
       "    </tr>\n",
       "    <tr>\n",
       "      <th>On-boardservice</th>\n",
       "      <td>2</td>\n",
       "      <td>3</td>\n",
       "    </tr>\n",
       "    <tr>\n",
       "      <th>Onlineboarding</th>\n",
       "      <td>2</td>\n",
       "      <td>4</td>\n",
       "    </tr>\n",
       "    <tr>\n",
       "      <th>Seatcomfort</th>\n",
       "      <td>2</td>\n",
       "      <td>4</td>\n",
       "    </tr>\n",
       "  </tbody>\n",
       "</table>\n",
       "</div>"
      ],
      "text/plain": [
       "                                           Percentile25          \n",
       "satisfaction                    neutral or dissatisfied satisfied\n",
       "Baggagehandling                                       3         4\n",
       "Checkinservice                                        2         3\n",
       "Cleanliness                                           2         3\n",
       "Departure/Arrivaltimeconvenient                       2         2\n",
       "EaseofOnlinebooking                                   2         2\n",
       "Foodanddrink                                          2         3\n",
       "Gatelocation                                          2         2\n",
       "Inflightentertainment                                 2         4\n",
       "Inflightservice                                       3         4\n",
       "Legroomservice                                        2         3\n",
       "On-boardservice                                       2         3\n",
       "Onlineboarding                                        2         4\n",
       "Seatcomfort                                           2         4"
      ]
     },
     "execution_count": 10,
     "metadata": {},
     "output_type": "execute_result"
    }
   ],
   "source": [
    "def Percentile25(g):\n",
    "    return np.percentile(g, 25)\n",
    "\n",
    "catdiff = df.pivot_table(columns = ['satisfaction'],\n",
    "               values = [\n",
    "       'Departure/Arrivaltimeconvenient', 'EaseofOnlinebooking',\n",
    "       'Gatelocation', 'Foodanddrink', 'Onlineboarding', 'Seatcomfort',\n",
    "       'Inflightentertainment', 'On-boardservice', 'Legroomservice',\n",
    "       'Baggagehandling', 'Checkinservice', 'Inflightservice', 'Cleanliness'], \n",
    "               aggfunc = [Percentile25])\n",
    "\n",
    "catdiff"
   ]
  },
  {
   "cell_type": "code",
   "execution_count": 12,
   "metadata": {},
   "outputs": [
    {
     "data": {
      "image/png": "[encoded data removed]",
      "text/plain": [
       "<Figure size 432x288 with 1 Axes>"
      ]
     },
     "metadata": {
      "needs_background": "light"
     },
     "output_type": "display_data"
    }
   ],
   "source": [
    "catdiff.plot(kind='bar',rot=90)\n",
    "plt.title('Satisfied vs Non-Satisfied Customers', fontdict={'fontsize': 15})\n",
    "plt.xlabel('Airline Categories')\n",
    "plt.ylabel('Percentile 25')\n",
    "plt.legend(['dissatisfied','satisfied'])\n",
    "plt.show()"
   ]
  },
  {
   "cell_type": "code",
   "execution_count": 158,
   "metadata": {},
   "outputs": [
    {
     "ename": "AttributeError",
     "evalue": "'numpy.float64' object has no attribute 'catdiff'",
     "output_type": "error",
     "traceback": [
      "\u001b[1;31m---------------------------------------------------------------------------\u001b[0m",
      "\u001b[1;31mAttributeError\u001b[0m                            Traceback (most recent call last)",
      "\u001b[1;32m<ipython-input-158-2a8d7c22c256>\u001b[0m in \u001b[0;36m<module>\u001b[1;34m\u001b[0m\n\u001b[1;32m----> 1\u001b[1;33m \u001b[0msns\u001b[0m\u001b[1;33m.\u001b[0m\u001b[0mbarplot\u001b[0m\u001b[1;33m(\u001b[0m\u001b[0my\u001b[0m\u001b[1;33m.\u001b[0m\u001b[0mcatdiff\u001b[0m\u001b[1;33m.\u001b[0m\u001b[0msatisfaction\u001b[0m\u001b[1;33m,\u001b[0m\u001b[0mdata\u001b[0m\u001b[1;33m=\u001b[0m\u001b[0mcatdiff\u001b[0m\u001b[1;33m)\u001b[0m\u001b[1;33m\u001b[0m\u001b[1;33m\u001b[0m\u001b[0m\n\u001b[0m",
      "\u001b[1;31mAttributeError\u001b[0m: 'numpy.float64' object has no attribute 'catdiff'"
     ]
    }
   ],
   "source": [
    "sns.barplot(y.catdiff.satisfaction,data=catdiff)"
   ]
  },
  {
   "cell_type": "code",
   "execution_count": 45,
   "metadata": {},
   "outputs": [],
   "source": [
    "#remove passengers under 18 - likely non-payers\n",
    "df.drop(df[df.Age < 18].index, inplace=True)"
   ]
  },
  {
   "cell_type": "code",
   "execution_count": 207,
   "metadata": {
    "scrolled": true
   },
   "outputs": [
    {
     "data": {
      "text/plain": [
       "18    245\n",
       "19    206\n",
       "20    358\n",
       "21    395\n",
       "22    580\n",
       "23    589\n",
       "24    558\n",
       "25    713\n",
       "26    533\n",
       "27    595\n",
       "28    441\n",
       "29    503\n",
       "30    491\n",
       "31    400\n",
       "32    358\n",
       "33    483\n",
       "34    445\n",
       "35    475\n",
       "36    548\n",
       "37    565\n",
       "38    557\n",
       "39    723\n",
       "40    635\n",
       "41    633\n",
       "42    560\n",
       "43    626\n",
       "44    622\n",
       "45    600\n",
       "46    562\n",
       "47    559\n",
       "48    580\n",
       "49    563\n",
       "50    502\n",
       "51    503\n",
       "52    540\n",
       "53    473\n",
       "54    535\n",
       "55    473\n",
       "56    452\n",
       "57    475\n",
       "58    448\n",
       "59    462\n",
       "60    418\n",
       "61    239\n",
       "62    228\n",
       "63    186\n",
       "64    190\n",
       "65    196\n",
       "66    191\n",
       "67    163\n",
       "68    175\n",
       "69    153\n",
       "70    149\n",
       "71     20\n",
       "72     48\n",
       "73     16\n",
       "74     14\n",
       "75     15\n",
       "76     15\n",
       "77     19\n",
       "78     11\n",
       "79     10\n",
       "80     32\n",
       "85      8\n",
       "Name: Age, dtype: int64"
      ]
     },
     "execution_count": 207,
     "metadata": {},
     "output_type": "execute_result"
    }
   ],
   "source": [
    "df['Age'].value_counts().sort_index()"
   ]
  },
  {
   "cell_type": "code",
   "execution_count": 15,
   "metadata": {},
   "outputs": [
    {
     "data": {
      "text/html": [
       "<div>\n",
       "<style scoped>\n",
       "    .dataframe tbody tr th:only-of-type {\n",
       "        vertical-align: middle;\n",
       "    }\n",
       "\n",
       "    .dataframe tbody tr th {\n",
       "        vertical-align: top;\n",
       "    }\n",
       "\n",
       "    .dataframe thead tr th {\n",
       "        text-align: left;\n",
       "    }\n",
       "</style>\n",
       "<table border=\"1\" class=\"dataframe\">\n",
       "  <thead>\n",
       "    <tr>\n",
       "      <th></th>\n",
       "      <th colspan=\"2\" halign=\"left\">Percentile25</th>\n",
       "    </tr>\n",
       "    <tr>\n",
       "      <th>satisfaction</th>\n",
       "      <th>neutral or dissatisfied</th>\n",
       "      <th>satisfied</th>\n",
       "    </tr>\n",
       "  </thead>\n",
       "  <tbody>\n",
       "    <tr>\n",
       "      <th>Baggagehandling</th>\n",
       "      <td>3</td>\n",
       "      <td>4</td>\n",
       "    </tr>\n",
       "    <tr>\n",
       "      <th>Checkinservice</th>\n",
       "      <td>2</td>\n",
       "      <td>3</td>\n",
       "    </tr>\n",
       "    <tr>\n",
       "      <th>Cleanliness</th>\n",
       "      <td>2</td>\n",
       "      <td>3</td>\n",
       "    </tr>\n",
       "    <tr>\n",
       "      <th>Departure/Arrivaltimeconvenient</th>\n",
       "      <td>2</td>\n",
       "      <td>2</td>\n",
       "    </tr>\n",
       "    <tr>\n",
       "      <th>EaseofOnlinebooking</th>\n",
       "      <td>2</td>\n",
       "      <td>2</td>\n",
       "    </tr>\n",
       "    <tr>\n",
       "      <th>Foodanddrink</th>\n",
       "      <td>2</td>\n",
       "      <td>3</td>\n",
       "    </tr>\n",
       "    <tr>\n",
       "      <th>Gatelocation</th>\n",
       "      <td>2</td>\n",
       "      <td>2</td>\n",
       "    </tr>\n",
       "    <tr>\n",
       "      <th>Inflightentertainment</th>\n",
       "      <td>2</td>\n",
       "      <td>4</td>\n",
       "    </tr>\n",
       "    <tr>\n",
       "      <th>Inflightservice</th>\n",
       "      <td>3</td>\n",
       "      <td>4</td>\n",
       "    </tr>\n",
       "    <tr>\n",
       "      <th>Legroomservice</th>\n",
       "      <td>2</td>\n",
       "      <td>3</td>\n",
       "    </tr>\n",
       "    <tr>\n",
       "      <th>On-boardservice</th>\n",
       "      <td>2</td>\n",
       "      <td>3</td>\n",
       "    </tr>\n",
       "    <tr>\n",
       "      <th>Onlineboarding</th>\n",
       "      <td>2</td>\n",
       "      <td>4</td>\n",
       "    </tr>\n",
       "    <tr>\n",
       "      <th>Seatcomfort</th>\n",
       "      <td>2</td>\n",
       "      <td>4</td>\n",
       "    </tr>\n",
       "  </tbody>\n",
       "</table>\n",
       "</div>"
      ],
      "text/plain": [
       "                                           Percentile25          \n",
       "satisfaction                    neutral or dissatisfied satisfied\n",
       "Baggagehandling                                       3         4\n",
       "Checkinservice                                        2         3\n",
       "Cleanliness                                           2         3\n",
       "Departure/Arrivaltimeconvenient                       2         2\n",
       "EaseofOnlinebooking                                   2         2\n",
       "Foodanddrink                                          2         3\n",
       "Gatelocation                                          2         2\n",
       "Inflightentertainment                                 2         4\n",
       "Inflightservice                                       3         4\n",
       "Legroomservice                                        2         3\n",
       "On-boardservice                                       2         3\n",
       "Onlineboarding                                        2         4\n",
       "Seatcomfort                                           2         4"
      ]
     },
     "execution_count": 15,
     "metadata": {},
     "output_type": "execute_result"
    }
   ],
   "source": [
    "def Percentile25(g):\n",
    "    return np.percentile(g, 25)\n",
    "\n",
    "customer = df[df.CustomerType == \"Loyal Customer\"].pivot_table(columns = ['satisfaction'], \n",
    "               values = [\n",
    "       'Departure/Arrivaltimeconvenient', 'EaseofOnlinebooking',\n",
    "       'Gatelocation', 'Foodanddrink', 'Onlineboarding', 'Seatcomfort',\n",
    "       'Inflightentertainment', 'On-boardservice', 'Legroomservice',\n",
    "       'Baggagehandling', 'Checkinservice', 'Inflightservice', 'Cleanliness'], \n",
    "               aggfunc = [Percentile25])\n",
    "              \n",
    "\n",
    "customer"
   ]
  },
  {
   "cell_type": "code",
   "execution_count": 13,
   "metadata": {},
   "outputs": [
    {
     "data": {
      "text/html": [
       "<div>\n",
       "<style scoped>\n",
       "    .dataframe tbody tr th:only-of-type {\n",
       "        vertical-align: middle;\n",
       "    }\n",
       "\n",
       "    .dataframe tbody tr th {\n",
       "        vertical-align: top;\n",
       "    }\n",
       "\n",
       "    .dataframe thead tr th {\n",
       "        text-align: left;\n",
       "    }\n",
       "</style>\n",
       "<table border=\"1\" class=\"dataframe\">\n",
       "  <thead>\n",
       "    <tr>\n",
       "      <th></th>\n",
       "      <th colspan=\"2\" halign=\"left\">Percentile25</th>\n",
       "    </tr>\n",
       "    <tr>\n",
       "      <th>satisfaction</th>\n",
       "      <th>neutral or dissatisfied</th>\n",
       "      <th>satisfied</th>\n",
       "    </tr>\n",
       "  </thead>\n",
       "  <tbody>\n",
       "    <tr>\n",
       "      <th>Baggagehandling</th>\n",
       "      <td>3</td>\n",
       "      <td>4</td>\n",
       "    </tr>\n",
       "    <tr>\n",
       "      <th>Checkinservice</th>\n",
       "      <td>2</td>\n",
       "      <td>3</td>\n",
       "    </tr>\n",
       "    <tr>\n",
       "      <th>Cleanliness</th>\n",
       "      <td>2</td>\n",
       "      <td>2</td>\n",
       "    </tr>\n",
       "    <tr>\n",
       "      <th>Departure/Arrivaltimeconvenient</th>\n",
       "      <td>1</td>\n",
       "      <td>0</td>\n",
       "    </tr>\n",
       "    <tr>\n",
       "      <th>EaseofOnlinebooking</th>\n",
       "      <td>2</td>\n",
       "      <td>4</td>\n",
       "    </tr>\n",
       "    <tr>\n",
       "      <th>Foodanddrink</th>\n",
       "      <td>2</td>\n",
       "      <td>2</td>\n",
       "    </tr>\n",
       "    <tr>\n",
       "      <th>Gatelocation</th>\n",
       "      <td>2</td>\n",
       "      <td>2</td>\n",
       "    </tr>\n",
       "    <tr>\n",
       "      <th>Inflightentertainment</th>\n",
       "      <td>2</td>\n",
       "      <td>2</td>\n",
       "    </tr>\n",
       "    <tr>\n",
       "      <th>Inflightservice</th>\n",
       "      <td>3</td>\n",
       "      <td>4</td>\n",
       "    </tr>\n",
       "    <tr>\n",
       "      <th>Legroomservice</th>\n",
       "      <td>2</td>\n",
       "      <td>2</td>\n",
       "    </tr>\n",
       "    <tr>\n",
       "      <th>On-boardservice</th>\n",
       "      <td>2</td>\n",
       "      <td>3</td>\n",
       "    </tr>\n",
       "    <tr>\n",
       "      <th>Onlineboarding</th>\n",
       "      <td>2</td>\n",
       "      <td>4</td>\n",
       "    </tr>\n",
       "    <tr>\n",
       "      <th>Seatcomfort</th>\n",
       "      <td>2</td>\n",
       "      <td>2</td>\n",
       "    </tr>\n",
       "  </tbody>\n",
       "</table>\n",
       "</div>"
      ],
      "text/plain": [
       "                                           Percentile25          \n",
       "satisfaction                    neutral or dissatisfied satisfied\n",
       "Baggagehandling                                       3         4\n",
       "Checkinservice                                        2         3\n",
       "Cleanliness                                           2         2\n",
       "Departure/Arrivaltimeconvenient                       1         0\n",
       "EaseofOnlinebooking                                   2         4\n",
       "Foodanddrink                                          2         2\n",
       "Gatelocation                                          2         2\n",
       "Inflightentertainment                                 2         2\n",
       "Inflightservice                                       3         4\n",
       "Legroomservice                                        2         2\n",
       "On-boardservice                                       2         3\n",
       "Onlineboarding                                        2         4\n",
       "Seatcomfort                                           2         2"
      ]
     },
     "execution_count": 13,
     "metadata": {},
     "output_type": "execute_result"
    }
   ],
   "source": [
    "def Percentile25(g):\n",
    "    return np.percentile(g, 25)\n",
    "\n",
    "customer2 = df[df.CustomerType == \"disloyal Customer\"].pivot_table(columns = ['satisfaction'], \n",
    "               values = [\n",
    "       'Departure/Arrivaltimeconvenient', 'EaseofOnlinebooking',\n",
    "       'Gatelocation', 'Foodanddrink', 'Onlineboarding', 'Seatcomfort',\n",
    "       'Inflightentertainment', 'On-boardservice', 'Legroomservice',\n",
    "       'Baggagehandling', 'Checkinservice', 'Inflightservice', 'Cleanliness'], \n",
    "               aggfunc = [Percentile25])\n",
    "              \n",
    "\n",
    "customer2"
   ]
  },
  {
   "cell_type": "code",
   "execution_count": 27,
   "metadata": {},
   "outputs": [
    {
     "data": {
      "image/png": "[encoded data removed]",
      "text/plain": [
       "<Figure size 720x288 with 2 Axes>"
      ]
     },
     "metadata": {
      "needs_background": "light"
     },
     "output_type": "display_data"
    }
   ],
   "source": [
    "fig, ax = plt.subplots(ncols=2, figsize=(10,4))\n",
    "\n",
    "customer.plot(kind='bar',rot=90, legend=None,ax=ax[0])\n",
    "customer2.plot(kind='bar',rot=90, legend=None,ax=ax[1])\n",
    "\n",
    "ax[0].set_xlabel('Airline Categories')\n",
    "ax[1].set_xlabel('Airline Categories')\n",
    "ax[0].set_ylabel('Percentile 25')\n",
    "\n",
    "ax[0].set_title('Satisfied vs Non-Satisfied Customers - loyal Dataset', fontdict={'fontsize': 8})\n",
    "ax[1].set_title('Satisfied vs Non-Satisfied Customers - disloyal Dataset', fontdict={'fontsize': 8})\n",
    "\n",
    "fig.legend(['dissatisfied','satisfied'],bbox_to_anchor=(0.7, 1.2))\n",
    "\n",
    "plt.show()"
   ]
  },
  {
   "cell_type": "code",
   "execution_count": 219,
   "metadata": {},
   "outputs": [
    {
     "data": {
      "image/png": "[encoded data removed]",
      "text/plain": [
       "<Figure size 432x288 with 1 Axes>"
      ]
     },
     "metadata": {},
     "output_type": "display_data"
    }
   ],
   "source": [
    "#all customers\n",
    "sns.set_style('whitegrid')\n",
    "sns.scatterplot(x='FlightDistance', y='ArrivalDelayinMinutes', data=df, hue='Satisfaction_Score')\n",
    "plt.title(\"Are flight distances correlated with arrival delays?\")\n",
    "plt.show()"
   ]
  },
  {
   "cell_type": "code",
   "execution_count": 220,
   "metadata": {},
   "outputs": [
    {
     "data": {
      "image/png": "[encoded data removed]",
      "text/plain": [
       "<Figure size 432x288 with 1 Axes>"
      ]
     },
     "metadata": {},
     "output_type": "display_data"
    }
   ],
   "source": [
    "#loyal customers only\n",
    "sns.set_style('whitegrid')\n",
    "sns.scatterplot(x='FlightDistance', y='ArrivalDelayinMinutes', data=df[(df['CustomerType'] == 'Loyal Customer')], hue='Satisfaction_Score')\n",
    "plt.title(\"Are flight distances correlated with arrival delays?\")\n",
    "plt.show()"
   ]
  },
  {
   "cell_type": "code",
   "execution_count": null,
   "metadata": {},
   "outputs": [],
   "source": []
  },
  {
   "cell_type": "code",
   "execution_count": null,
   "metadata": {},
   "outputs": [],
   "source": []
  }
 ],
 "metadata": {
  "kernelspec": {
   "display_name": "Python 3",
   "language": "python",
   "name": "python3"
  },
  "language_info": {
   "codemirror_mode": {
    "name": "ipython",
    "version": 3
   },
   "file_extension": ".py",
   "mimetype": "text/x-python",
   "name": "python",
   "nbconvert_exporter": "python",
   "pygments_lexer": "ipython3",
   "version": "3.7.6"
  }
 },
 "nbformat": 4,
 "nbformat_minor": 4
}
