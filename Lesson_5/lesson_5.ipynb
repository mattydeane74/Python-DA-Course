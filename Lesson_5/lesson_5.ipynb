{
 "cells": [
  {
   "cell_type": "markdown",
   "metadata": {},
   "source": [
    "# Lesson 5 - Statistics"
   ]
  },
  {
   "cell_type": "markdown",
   "metadata": {},
   "source": [
    "![stats](https://infobeautiful4.s3.amazonaws.com/2019/02/static_winner.png)  \n",
    "**Source:** Information is Beautiful 2018 Awards - Data Visualisation Created by [Dimiter Toshkov](http://dimiter.eu/)"
   ]
  },
  {
   "cell_type": "markdown",
   "metadata": {},
   "source": [
    "I. Recap of lesson 4  \n",
    "II. Learning Outcomes  \n",
    "\n",
    "\n",
    "__Outline for the session:__\n",
    "\n",
    "1. Introduction to Statitics\n",
    "2. Collecting\n",
    "3. Data Cleaning and Preparation\n",
    "    - Load\n",
    "    - Inspect\n",
    "    - Clean & Prepare\n",
    "4. Describing Data\n",
    "5. Summary\n",
    "6. References\n",
    "7. Feedback"
   ]
  },
  {
   "cell_type": "markdown",
   "metadata": {},
   "source": [
    "# I. Recap of lesson 4"
   ]
  },
  {
   "cell_type": "markdown",
   "metadata": {},
   "source": [
    "In lesson 4 we covered the following topics/concepts.\n",
    "\n",
    "- Data visualisation is great for exploring our datasets\n",
    "- It allows us to see interesting patterns in the data that might not be visible upon first inspection\n",
    "- Before any data visualisation takes place, we need to clean and prepare our dataset\n",
    "- Satatic graphs are great for telling a story from one angle\n",
    "- Interactive visualisations are great for involving the audience with the message we are trying to convey\n",
    "- Python has excelent tools for visualisation such as matplotlib, seaborn, and bokeh"
   ]
  },
  {
   "cell_type": "markdown",
   "metadata": {},
   "source": [
    "# II. Learning Outcomes"
   ]
  },
  {
   "cell_type": "markdown",
   "metadata": {},
   "source": [
    "By the end of the lesson you will have learned:\n",
    "\n",
    "1. What is Statistics?\n",
    "2. How does data collection work?\n",
    "3. How to describe data effectively to convey facts.\n",
    "4. How to explore your data more effectively with pivot tables and groupby."
   ]
  },
  {
   "cell_type": "markdown",
   "metadata": {},
   "source": [
    "# 1. Introduction to Statistics"
   ]
  },
  {
   "cell_type": "markdown",
   "metadata": {},
   "source": [
    "Statistics is one of the most widely used areas of mathematics. It helps us mere mortals collect, describe, and make inferences about natural and unnatural phenomena using data. It allows us to approximate answers to questions that were thought to be impossible to answer. In addition, a large number of scientific advancements have used this area of mathematics to quantify, test, validate, and improve our answers to problems with a wide range of complexities. For example, Albert Einstein and his groundbreaking theories of Special and General Relativity used statistics to approximate the movement of the sun in relation to that of other bodies of masses around our galaxy. To provide you with a more formal definition of statistics, the UCI Department of statistics has defined it as:\n",
    "\n",
    "\"...the science concerned with developing and studying methods for collecting, analyzing, interpreting and presenting empirical data.\" Empirical here means based on observations and verifiable evidence as opposed to logic and deduction.\n",
    "\n",
    "Now that we know what \"_Statistics_\" is, let's define what \"_A Statistic_\" is. A Statistic is a piece of evidence or a fact obtained via a calculation performed on a sample of data. When you hear comments on the radio or read news statements that begin with, \"the average rugby player...\", \"the average Australian now days...\", etc., you are essentially being given \"_A Statistic_\". A fact compiled from a sample of data.\n",
    "\n",
    "__What is a Sample?__ A sample is a fraction of the population. For example, the students in this course, are a sample of the overall number of students in Australia. In this case, the number of students in Australia would be considered the total population of students, and the students of this course the sample.\n",
    "\n",
    "__What is the Population?__ The population is a set of data with some similarity, and it is the whole from where a sample is drawn from. Think about a cake sliced into pieces, the full cake is the population and a slice of it is the sample. Mickey can show us a good representation of this example.\n",
    "\n",
    "![cake](https://media.giphy.com/media/9u8GF7MuhdvS8/giphy.gif)\n",
    "\n",
    "Going back to the example above, all students in Australia would be the population and the defining characteristic of this population is that they are all active students. If we needed, for example, the address of every one of these students but were unable to get 10 of them, we would call the set of students belonging to that characteristic, the address, a sample as it is a fraction of the full set. Another way to put it would be `Population - 10 = Sample`.\n",
    "\n",
    "## What can we do with Statistics?\n",
    "\n",
    "- We can learn from information.\n",
    "- Draw conclusions based on evidence.\n",
    "- Simulate the real world.\n",
    "- Mine massive amounts of data.\n",
    "- Spot liars.\n",
    "- Separate correlations from causation.\n",
    "\n",
    "> “The best thing about being a statistician is that you get to play in everyone else’s backyard.” ~ John Tukey\n",
    "\n",
    "## What should we not do with Statistics?\n",
    "\n",
    "- Lie/deceive others.\n",
    "\n",
    "![lie_stats](https://herdingcats.typepad.com/.a/6a00d8341ca4d953ef01a511d248cc970c-pi)  \n",
    "**Source:** \"_How to Lie with Statistics_\" by Darrell Huff, 1954\n",
    "\n",
    "- Assume that because two things seem to be related to each other, one causes the other. A famous example of this was given by Franz H. Messerli, MD in 2012. He found a surprisingly large positive correlation between the chocolate consumption of a country and the amount Nobel Laureates that same country has produced. See below.\n",
    "\n",
    "![chocolate](https://i.insider.com/5353e29b6da8115322dd4816?width=1200)  \n",
    "\n",
    "- Overgeneralise results. Just because an analysis of a group of consumers found that 60% of them buy goods before a holiday does not mean that 60% of all humans do.\n",
    "- Avoid falling pray of confusing annecdotal evidence vs real evidence."
   ]
  },
  {
   "cell_type": "markdown",
   "metadata": {},
   "source": [
    "# 2. Collecting"
   ]
  },
  {
   "cell_type": "markdown",
   "metadata": {},
   "source": [
    "It is very important to have a project or idea you wish to explore before moving onto the data collection part. The reason behind this is that once you have context on what you would like to analyse, you will be able to search for that information more efficiently. For example, if you need to study the profitability of a movie theatre in a given year, you would need data about sale and airing times for the movies shown within your specific timeframe. If you would like to evaluate peoples' sentiment towards a political candidate on social media, you would need social media data and might benefit from looking in Twitter first.\n",
    "\n",
    "Whether you have a question to answer or not, collecting data becomes the most important piece of the statistics puzzle. Especially because after all, without anything to analyse, we would be left with theoretical work only. Which is very important but also relies on proving such theories with real examples.\n",
    "\n",
    "Collecting data can be as easy as clicking a button and downloading a table full of content that can be opened in excel (structured data), or as difficult as crawling over many websites and getting (unstructured) data to then formating it into a more usable structure. Here are two examples of how we encounter data:\n",
    "\n",
    "__Structured__\n",
    "\n",
    "|    Name   |   Income  |  Age  | Favourite Brand |\n",
    "|-----------|-----------|-------|-----------------|\n",
    "|  Abraham  |   70,000  |   25  |   Nike          |\n",
    "|  Lisa     |  110,000  |   31  |   Apple         |\n",
    "|  Mark     |   80,000  |   24  |   Garmin        |\n",
    "|  Penelope |   55,000  |   49  |   Microsoft     |\n",
    "|  Michaela |   74,000  |   51  |   ZARA          |\n",
    "|  Nicholas |   61,000  |   36  |   Adiddas       |\n",
    "\n",
    "__Unstructured__\n",
    "\n",
    "<img src=\"https://www.lubys.com/img/recipes/L929_RecipeCards_7x5_cfs_front.jpg\" alt=\"recipe\" width=\"600\"/>  \n",
    "**Source:** https://www.lubys.com/recipes\n",
    "\n",
    "Notice that in the example above, the structured data resembles what we are used to seeing when we use or think of data. On the other hand, we might not be used to thinking that recipes from a restaurant, emails, poems, social media posts, all qualify as data. The most notable differences being the immediate usability of it and the unclear picture as to how to set it into a structured format.\n",
    "\n",
    "As analysts we can collect data through surveys, purchasing history (these are often stored automatically into a database like SQL or Microsoft Access), by tracking visits to a website, and many more. The information we get in a dataset, the data in its variables (or in excel lingo, the columns), is often represented in one of two ways: as categorical and quantitative information.\n",
    "\n",
    "Categorical data represent groups or specific characteristics of the data. For example, a column called gender that contains whether a survey participant was a male, female, or other, will count as a categorical variable. This type of classification, gender, counts as a specific type of categorical data called nominal.\n",
    "\n",
    "Nominal data is the type of data that can be classified into groups but with no particular order to them. In the example of gender, we cannot say that female is greater than male or vice-versa. This takes us to our next type of categorical data, ordinal.\n",
    "\n",
    "Ordinal data are the type of data where order matters. Imagine you have a dataset with formula one drivers in the rows and all of the characteristics regarding their professional careers in the columns. If we were to have a variable for every race in which they competed, plus their placement within each race, keeping the order in which they crossed the finish line would be crucial for our dataset to be meaningful. Especially since first has a higher value than second, and of course, last. Another example of ordinal data is the temperature of a meal ordered at a restaurant. If we order a stake medium-well, we would expect to get the stake at a temperature within that range. In this scenario, order from hot to cold matters.\n",
    "\n",
    "Quantitative data, on the other hand, represents numerical data that can be quantified, summarized, averaged, and visualized, usually in more ways than categorical data can. Quantitative data can be income, revenue, stock prices, miles, weight, and height, and many more. \n",
    "\n",
    "It is important to notice that categorical data, whether nominal or ordinal, can still be collected in a numerical format without it being considered quantitative. Say we collect data for the level of spiciness of different meals at a restaurant and assign these values the numbers 3 for hot, 2 for warm, and 1 for cold, they would still be considered categorical data even though it would now be represented by a numerical value. One reason being that the quantities of this variable are finite.\n",
    "\n",
    "## Statistical Data Collection\n",
    "\n",
    "![stat_data](https://www.karmelsoft.com/wp-content/uploads/2019/10/data-collection-ideas.jpg)  \n",
    "**Source:** https://www.karmelsoft.com/\n",
    "\n",
    "When we collect data specifically for statistical purposes we want to gain knowledge or learn about something that is important to us. There are two ways in which statistics concerns itself when it comes to data collection, and those are through observation and experimentation.\n",
    "\n",
    "An important point to keep in mind is that, although we have an idea of what the population we're interested in might look like or what the magnitude of it might be, we would never collect enough data to make a 100% prediction based on it. With that said though, there are many sampling methods that do allow us to get pretty close to our desired outcome. Let's first define observational and experimental studies.\n",
    "\n",
    "**Sample Study:** a study where we try to estimate the true value of a parameter based on a sample of the real population. A parameter in this case would be a piece of information such as the mean, median, and mode in a sample regarding our question of interest. If you would like to know how many people per country, on average believe in global warming, asking everyone in the planet would be impossible. But by asking a random sample of people from each country, we could approximate the true average.\n",
    "\n",
    "**Observational Study:** In these kinds of studies, we are interested in a particular subsection of the population and we would like to determine what causes what without intervening with the sample being studied. For example, say we want to study the relatioship between smoking and drinking and we whether one causes the other or vice-versa. We would observe people in their natural environment and collect data about what happens when these actions take place.\n",
    "\n",
    "We also need to be cautious when upon first inspection all of our assumptions seem to match. A high correlation between both, smoking and drinking does not mean that one causes the other. It could be that there is a **confounding variable** behind the scenes controling the outcomes. For example, drinking and smoking could be due to being in a circle of friends where everyone smokes. It could also be a habbit triggered by the cue, \"out with friends socialising.\" Confounding variables, or for that matter, the real causes of a phenomena, are often hard to pick appart but not impossible.\n",
    "\n",
    "**Experimental:** Experiments are the toughest to due but are also the ones that can get you the cosest to causality. With experiments we are in search of what causes what and even go to great lenghts to pick random sample of people, then assign them to random groups, and induce the variable of interest to half of that sample and a placebo to the other. These two groups are also called, control and treatment group. If the size of the difference between the two groups is large or significant enough once the experiment ends, it can be possible to determine causation."
   ]
  },
  {
   "cell_type": "markdown",
   "metadata": {},
   "source": [
    "# 3. Data Cleaning and Preparation"
   ]
  },
  {
   "cell_type": "markdown",
   "metadata": {},
   "source": [
    "<img src=\"https://photos.nomadicnotes.com/img/s9/v96/p1664606808-4.jpg\" alt=\"melbourne\" width=\"600\"/>  \n",
    "\n",
    "**Source:** https://www.nomadicnotes.com/airbnb-apartment-southbank-melbourne-australia/  \n",
    "\n",
    "The dataset we will be using contains information about Airbnb's hosts and their places in Melbourne, VIC, AU. The data was scraped from Airbnb's website by a tool called [Inside Airbnb](http://insideairbnb.com/). Their website is fascinating and contains information not only on Melbourne but also on most of the cities around the world where Airbnb operates.\n",
    "\n",
    "Inside Airbnb periodically scrapes Airbnb's data, and we will be working with a Melbourne sample that was last scraped in 2018 that was posted in Kaggle. We will not have a list of the variables and what they represent since there are too many in the dataset for that. Instead, to learn more about the dataset you can navigate to the Kaggle post through [this link](https://www.kaggle.com/tylerx/melbourne-airbnb-open-data?select=cleansed_listings_dec18.csv), go to Airbnb and search for listings in Melbourne to see the information shown, or you can find more information about the datasets at [Inside Airbnb Get the Data Section](http://insideairbnb.com/get-the-data.html).\n",
    "\n",
    "Let us now load, inspect, and clean our dataset."
   ]
  },
  {
   "cell_type": "markdown",
   "metadata": {},
   "source": [
    "# 3.1 Load"
   ]
  },
  {
   "cell_type": "code",
   "execution_count": 1,
   "metadata": {},
   "outputs": [],
   "source": [
    "import pandas as pd\n",
    "import numpy as np\n",
    "import matplotlib.pyplot as plt\n",
    "import seaborn as sns\n",
    "\n",
    "pd.set_option('display.max_columns', None)\n",
    "pd.set_option('display.max_rows', None)\n",
    "\n",
    "%matplotlib inline"
   ]
  },
  {
   "cell_type": "code",
   "execution_count": null,
   "metadata": {},
   "outputs": [],
   "source": [
    "# for windows users in CMD\n",
    "!type ..\\Datasets\\cleansed_listings_dec18.csv | more"
   ]
  },
  {
   "cell_type": "code",
   "execution_count": 3,
   "metadata": {},
   "outputs": [
    {
     "name": "stderr",
     "output_type": "stream",
     "text": [
      "'head' is not recognized as an internal or external command,\n",
      "operable program or batch file.\n"
     ]
    }
   ],
   "source": [
    "# for mac users or windows users with Git Bash\n",
    "!head -n 5 ../Datasets/cleansed_listings_dec18.csv"
   ]
  },
  {
   "cell_type": "code",
   "execution_count": 4,
   "metadata": {},
   "outputs": [],
   "source": [
    "df = pd.read_csv('../Datasets/cleansed_listings_dec18.csv', \n",
    "                 parse_dates=['last_scraped', 'host_since', \n",
    "                              'calendar_last_scraped', 'first_review', \n",
    "                              'last_review'], \n",
    "                 low_memory=False) # the dataset is quite large so we set the low_memory setting to False"
   ]
  },
  {
   "cell_type": "markdown",
   "metadata": {},
   "source": [
    "# 3.2 Inspect"
   ]
  },
  {
   "cell_type": "code",
   "execution_count": 5,
   "metadata": {},
   "outputs": [
    {
     "data": {
      "text/plain": [
       "(22895, 84)"
      ]
     },
     "execution_count": 5,
     "metadata": {},
     "output_type": "execute_result"
    }
   ],
   "source": [
    "df.shape"
   ]
  },
  {
   "cell_type": "code",
   "execution_count": 6,
   "metadata": {},
   "outputs": [
    {
     "data": {
      "text/html": [
       "<div>\n",
       "<style scoped>\n",
       "    .dataframe tbody tr th:only-of-type {\n",
       "        vertical-align: middle;\n",
       "    }\n",
       "\n",
       "    .dataframe tbody tr th {\n",
       "        vertical-align: top;\n",
       "    }\n",
       "\n",
       "    .dataframe thead th {\n",
       "        text-align: right;\n",
       "    }\n",
       "</style>\n",
       "<table border=\"1\" class=\"dataframe\">\n",
       "  <thead>\n",
       "    <tr style=\"text-align: right;\">\n",
       "      <th></th>\n",
       "      <th>id</th>\n",
       "      <th>listing_url</th>\n",
       "      <th>scrape_id</th>\n",
       "      <th>last_scraped</th>\n",
       "      <th>name</th>\n",
       "      <th>summary</th>\n",
       "      <th>space</th>\n",
       "      <th>description</th>\n",
       "      <th>neighborhood_overview</th>\n",
       "      <th>notes</th>\n",
       "      <th>transit</th>\n",
       "      <th>access</th>\n",
       "      <th>interaction</th>\n",
       "      <th>house_rules</th>\n",
       "      <th>picture_url</th>\n",
       "      <th>host_id</th>\n",
       "      <th>host_url</th>\n",
       "      <th>host_name</th>\n",
       "      <th>host_since</th>\n",
       "      <th>host_location</th>\n",
       "      <th>host_about</th>\n",
       "      <th>host_response_time</th>\n",
       "      <th>host_response_rate</th>\n",
       "      <th>host_is_superhost</th>\n",
       "      <th>host_thumbnail_url</th>\n",
       "      <th>host_picture_url</th>\n",
       "      <th>host_neighborhood</th>\n",
       "      <th>host_verifications</th>\n",
       "      <th>host_has_profile_pic</th>\n",
       "      <th>host_identity_verified</th>\n",
       "      <th>street</th>\n",
       "      <th>neighborhood</th>\n",
       "      <th>city</th>\n",
       "      <th>suburb</th>\n",
       "      <th>state</th>\n",
       "      <th>zipcode</th>\n",
       "      <th>smart_location</th>\n",
       "      <th>country_code</th>\n",
       "      <th>country</th>\n",
       "      <th>latitude</th>\n",
       "      <th>longitude</th>\n",
       "      <th>is_location_exact</th>\n",
       "      <th>property_type</th>\n",
       "      <th>room_type</th>\n",
       "      <th>accommodates</th>\n",
       "      <th>bathrooms</th>\n",
       "      <th>bedrooms</th>\n",
       "      <th>beds</th>\n",
       "      <th>bed_type</th>\n",
       "      <th>amenities</th>\n",
       "      <th>price</th>\n",
       "      <th>weekly_price</th>\n",
       "      <th>monthly_price</th>\n",
       "      <th>security_deposit</th>\n",
       "      <th>cleaning_fee</th>\n",
       "      <th>guests_included</th>\n",
       "      <th>extra_people</th>\n",
       "      <th>minimum_nights</th>\n",
       "      <th>maximum_nights</th>\n",
       "      <th>calendar_updated</th>\n",
       "      <th>has_availability</th>\n",
       "      <th>availability_30</th>\n",
       "      <th>availability_60</th>\n",
       "      <th>availability_90</th>\n",
       "      <th>availability_365</th>\n",
       "      <th>calendar_last_scraped</th>\n",
       "      <th>number_of_reviews</th>\n",
       "      <th>first_review</th>\n",
       "      <th>last_review</th>\n",
       "      <th>review_scores_rating</th>\n",
       "      <th>review_scores_accuracy</th>\n",
       "      <th>review_scores_cleanliness</th>\n",
       "      <th>review_scores_checkin</th>\n",
       "      <th>review_scores_communication</th>\n",
       "      <th>review_scores_location</th>\n",
       "      <th>review_scores_value</th>\n",
       "      <th>requires_license</th>\n",
       "      <th>license</th>\n",
       "      <th>instant_bookable</th>\n",
       "      <th>cancellation_policy</th>\n",
       "      <th>require_guest_profile_picture</th>\n",
       "      <th>require_guest_phone_verification</th>\n",
       "      <th>calculated_host_listings_count</th>\n",
       "      <th>reviews_per_month</th>\n",
       "    </tr>\n",
       "  </thead>\n",
       "  <tbody>\n",
       "    <tr>\n",
       "      <th>0</th>\n",
       "      <td>9835</td>\n",
       "      <td>https://www.airbnb.com/rooms/9835</td>\n",
       "      <td>2.018120e+13</td>\n",
       "      <td>2018-12-07</td>\n",
       "      <td>Beautiful Room &amp; House</td>\n",
       "      <td>NaN</td>\n",
       "      <td>House: Clean, New, Modern, Quite, Safe. 10Km f...</td>\n",
       "      <td>House: Clean, New, Modern, Quite, Safe. 10Km f...</td>\n",
       "      <td>Very safe! Family oriented. Older age group.</td>\n",
       "      <td>NaN</td>\n",
       "      <td>YES ! The bus (305,309) is exactly two blocks ...</td>\n",
       "      <td>Kitchen, backyard, upstairs lounge. We'd like ...</td>\n",
       "      <td>As much as the guest wants.</td>\n",
       "      <td>Prefence would be given females or  a couple</td>\n",
       "      <td>https://a0.muscache.com/im/pictures/44620/5a58...</td>\n",
       "      <td>33057</td>\n",
       "      <td>https://www.airbnb.com/users/show/33057</td>\n",
       "      <td>Manju</td>\n",
       "      <td>2009-08-21</td>\n",
       "      <td>AU</td>\n",
       "      <td>About us: We are an East Indian couple in our ...</td>\n",
       "      <td>a few days or more</td>\n",
       "      <td>0%</td>\n",
       "      <td>f</td>\n",
       "      <td>https://a0.muscache.com/defaults/user_pic-50x5...</td>\n",
       "      <td>https://a0.muscache.com/defaults/user_pic-225x...</td>\n",
       "      <td>NaN</td>\n",
       "      <td>['email', 'phone', 'reviews']</td>\n",
       "      <td>f</td>\n",
       "      <td>f</td>\n",
       "      <td>Bulleen, VIC, Australia</td>\n",
       "      <td>Balwyn North</td>\n",
       "      <td>Manningham</td>\n",
       "      <td>Bulleen</td>\n",
       "      <td>VIC</td>\n",
       "      <td>3105</td>\n",
       "      <td>Bulleen, Australia</td>\n",
       "      <td>AU</td>\n",
       "      <td>Australia</td>\n",
       "      <td>-37.772684</td>\n",
       "      <td>145.092133</td>\n",
       "      <td>f</td>\n",
       "      <td>House</td>\n",
       "      <td>Private room</td>\n",
       "      <td>2</td>\n",
       "      <td>1.0</td>\n",
       "      <td>1.0</td>\n",
       "      <td>2.0</td>\n",
       "      <td>Real Bed</td>\n",
       "      <td>{Internet,Wifi,\"Pets live on this property\",Do...</td>\n",
       "      <td>60</td>\n",
       "      <td>NaN</td>\n",
       "      <td>NaN</td>\n",
       "      <td>NaN</td>\n",
       "      <td>NaN</td>\n",
       "      <td>1</td>\n",
       "      <td>22</td>\n",
       "      <td>1</td>\n",
       "      <td>365</td>\n",
       "      <td>17 months ago</td>\n",
       "      <td>t</td>\n",
       "      <td>30</td>\n",
       "      <td>60</td>\n",
       "      <td>90</td>\n",
       "      <td>365</td>\n",
       "      <td>2018-12-07</td>\n",
       "      <td>4</td>\n",
       "      <td>2011-05-24</td>\n",
       "      <td>2015-09-12</td>\n",
       "      <td>90.0</td>\n",
       "      <td>9.0</td>\n",
       "      <td>10.0</td>\n",
       "      <td>10.0</td>\n",
       "      <td>10.0</td>\n",
       "      <td>9.0</td>\n",
       "      <td>9.0</td>\n",
       "      <td>f</td>\n",
       "      <td>NaN</td>\n",
       "      <td>f</td>\n",
       "      <td>strict_14_with_grace_period</td>\n",
       "      <td>f</td>\n",
       "      <td>f</td>\n",
       "      <td>1</td>\n",
       "      <td>0.04</td>\n",
       "    </tr>\n",
       "    <tr>\n",
       "      <th>1</th>\n",
       "      <td>10803</td>\n",
       "      <td>https://www.airbnb.com/rooms/10803</td>\n",
       "      <td>2.018120e+13</td>\n",
       "      <td>2018-12-07</td>\n",
       "      <td>Room in Cool Deco Apartment in Brunswick</td>\n",
       "      <td>A large air conditioned room with queen spring...</td>\n",
       "      <td>The apartment is Deco/Edwardian in style and h...</td>\n",
       "      <td>A large air conditioned room with queen spring...</td>\n",
       "      <td>This hip area is a crossroads between two grea...</td>\n",
       "      <td>NaN</td>\n",
       "      <td>Easy transport options - the tram is right out...</td>\n",
       "      <td>Wifi. Bathroom and kitchen is shared but I mos...</td>\n",
       "      <td>I'm home mostly but sometimes I may be working...</td>\n",
       "      <td>Theres a yoga studio downstairs so if you see ...</td>\n",
       "      <td>https://a0.muscache.com/im/pictures/31323790/9...</td>\n",
       "      <td>38901</td>\n",
       "      <td>https://www.airbnb.com/users/show/38901</td>\n",
       "      <td>Lindsay</td>\n",
       "      <td>2009-09-16</td>\n",
       "      <td>Melbourne, Victoria, Australia</td>\n",
       "      <td>As an artist working in animation and video I ...</td>\n",
       "      <td>NaN</td>\n",
       "      <td>NaN</td>\n",
       "      <td>f</td>\n",
       "      <td>https://a0.muscache.com/im/users/38901/profile...</td>\n",
       "      <td>https://a0.muscache.com/im/users/38901/profile...</td>\n",
       "      <td>Brunswick</td>\n",
       "      <td>['email', 'phone', 'reviews', 'jumio', 'govern...</td>\n",
       "      <td>t</td>\n",
       "      <td>t</td>\n",
       "      <td>Brunswick East, VIC, Australia</td>\n",
       "      <td>Brunswick</td>\n",
       "      <td>Moreland</td>\n",
       "      <td>Brunswick East</td>\n",
       "      <td>VIC</td>\n",
       "      <td>3057</td>\n",
       "      <td>Brunswick East, Australia</td>\n",
       "      <td>AU</td>\n",
       "      <td>Australia</td>\n",
       "      <td>-37.766505</td>\n",
       "      <td>144.980736</td>\n",
       "      <td>t</td>\n",
       "      <td>Apartment</td>\n",
       "      <td>Private room</td>\n",
       "      <td>2</td>\n",
       "      <td>1.0</td>\n",
       "      <td>1.0</td>\n",
       "      <td>1.0</td>\n",
       "      <td>Futon</td>\n",
       "      <td>{TV,Internet,Wifi,\"Air conditioning\",Kitchen,H...</td>\n",
       "      <td>35</td>\n",
       "      <td>200.0</td>\n",
       "      <td>803.0</td>\n",
       "      <td>0.0</td>\n",
       "      <td>9.0</td>\n",
       "      <td>1</td>\n",
       "      <td>15</td>\n",
       "      <td>3</td>\n",
       "      <td>45</td>\n",
       "      <td>6 weeks ago</td>\n",
       "      <td>t</td>\n",
       "      <td>4</td>\n",
       "      <td>9</td>\n",
       "      <td>33</td>\n",
       "      <td>213</td>\n",
       "      <td>2018-12-07</td>\n",
       "      <td>108</td>\n",
       "      <td>2013-01-12</td>\n",
       "      <td>2018-11-26</td>\n",
       "      <td>87.0</td>\n",
       "      <td>9.0</td>\n",
       "      <td>8.0</td>\n",
       "      <td>9.0</td>\n",
       "      <td>9.0</td>\n",
       "      <td>9.0</td>\n",
       "      <td>9.0</td>\n",
       "      <td>f</td>\n",
       "      <td>NaN</td>\n",
       "      <td>t</td>\n",
       "      <td>moderate</td>\n",
       "      <td>t</td>\n",
       "      <td>t</td>\n",
       "      <td>1</td>\n",
       "      <td>1.50</td>\n",
       "    </tr>\n",
       "    <tr>\n",
       "      <th>2</th>\n",
       "      <td>12936</td>\n",
       "      <td>https://www.airbnb.com/rooms/12936</td>\n",
       "      <td>2.018120e+13</td>\n",
       "      <td>2018-12-07</td>\n",
       "      <td>St Kilda 1BR APT+BEACHSIDE+VIEWS+PARKING+WIFI+AC</td>\n",
       "      <td>RIGHT IN THE HEART OF ST KILDA! It doesn't get...</td>\n",
       "      <td>FREE WiFi FREE in-building remote controlled g...</td>\n",
       "      <td>RIGHT IN THE HEART OF ST KILDA! It doesn't get...</td>\n",
       "      <td>A stay at our apartment means you can enjoy so...</td>\n",
       "      <td>First floor apartment with both lift and stair...</td>\n",
       "      <td>Our apartment is located within walking distan...</td>\n",
       "      <td>Guests have exclusive and private access to th...</td>\n",
       "      <td>We don't always get to meet all our guests in ...</td>\n",
       "      <td>Please take a moment now to read our House Rul...</td>\n",
       "      <td>https://a0.muscache.com/im/pictures/59701/2e8c...</td>\n",
       "      <td>50121</td>\n",
       "      <td>https://www.airbnb.com/users/show/50121</td>\n",
       "      <td>Frank &amp; Vince</td>\n",
       "      <td>2009-10-31</td>\n",
       "      <td>Melbourne, Victoria, Australia</td>\n",
       "      <td>Hi, we’re Frank and Vince.\\r\\n\\r\\nThanks for r...</td>\n",
       "      <td>within an hour</td>\n",
       "      <td>100%</td>\n",
       "      <td>t</td>\n",
       "      <td>https://a0.muscache.com/im/users/50121/profile...</td>\n",
       "      <td>https://a0.muscache.com/im/users/50121/profile...</td>\n",
       "      <td>St Kilda</td>\n",
       "      <td>['email', 'phone', 'google', 'reviews', 'jumio...</td>\n",
       "      <td>t</td>\n",
       "      <td>t</td>\n",
       "      <td>St Kilda, VIC, Australia</td>\n",
       "      <td>St Kilda</td>\n",
       "      <td>Port Phillip</td>\n",
       "      <td>St Kilda</td>\n",
       "      <td>VIC</td>\n",
       "      <td>3182</td>\n",
       "      <td>St Kilda, Australia</td>\n",
       "      <td>AU</td>\n",
       "      <td>Australia</td>\n",
       "      <td>-37.859755</td>\n",
       "      <td>144.977369</td>\n",
       "      <td>t</td>\n",
       "      <td>Apartment</td>\n",
       "      <td>Entire home/apt</td>\n",
       "      <td>3</td>\n",
       "      <td>1.0</td>\n",
       "      <td>1.0</td>\n",
       "      <td>2.0</td>\n",
       "      <td>Real Bed</td>\n",
       "      <td>{TV,Internet,Wifi,\"Air conditioning\",Kitchen,\"...</td>\n",
       "      <td>159</td>\n",
       "      <td>1253.0</td>\n",
       "      <td>4452.0</td>\n",
       "      <td>450.0</td>\n",
       "      <td>100.0</td>\n",
       "      <td>2</td>\n",
       "      <td>28</td>\n",
       "      <td>3</td>\n",
       "      <td>28</td>\n",
       "      <td>today</td>\n",
       "      <td>t</td>\n",
       "      <td>10</td>\n",
       "      <td>26</td>\n",
       "      <td>51</td>\n",
       "      <td>326</td>\n",
       "      <td>2018-12-07</td>\n",
       "      <td>15</td>\n",
       "      <td>2010-08-04</td>\n",
       "      <td>2018-11-07</td>\n",
       "      <td>94.0</td>\n",
       "      <td>9.0</td>\n",
       "      <td>10.0</td>\n",
       "      <td>9.0</td>\n",
       "      <td>9.0</td>\n",
       "      <td>9.0</td>\n",
       "      <td>9.0</td>\n",
       "      <td>f</td>\n",
       "      <td>NaN</td>\n",
       "      <td>f</td>\n",
       "      <td>strict_14_with_grace_period</td>\n",
       "      <td>f</td>\n",
       "      <td>f</td>\n",
       "      <td>17</td>\n",
       "      <td>0.15</td>\n",
       "    </tr>\n",
       "    <tr>\n",
       "      <th>3</th>\n",
       "      <td>15246</td>\n",
       "      <td>https://www.airbnb.com/rooms/15246</td>\n",
       "      <td>2.018120e+13</td>\n",
       "      <td>2018-12-07</td>\n",
       "      <td>Large private room-close to city</td>\n",
       "      <td>Comfortable, relaxed house, a home away from  ...</td>\n",
       "      <td>The atmosphere is relaxed and easy going. You ...</td>\n",
       "      <td>Comfortable, relaxed house, a home away from  ...</td>\n",
       "      <td>This is a great neighbourhood – it is quiet, y...</td>\n",
       "      <td>A simple self service breakfast is available –...</td>\n",
       "      <td>Public transport is super convenient with a ch...</td>\n",
       "      <td>You are welcome to make yourself at home in th...</td>\n",
       "      <td>Guest's privacy will be respected at all times...</td>\n",
       "      <td>• Respect for our home, for each other, and th...</td>\n",
       "      <td>https://a0.muscache.com/im/pictures/0a96c6f9-1...</td>\n",
       "      <td>59786</td>\n",
       "      <td>https://www.airbnb.com/users/show/59786</td>\n",
       "      <td>Eleni</td>\n",
       "      <td>2009-12-03</td>\n",
       "      <td>Melbourne, Victoria, Australia</td>\n",
       "      <td>Artist, academic, community activist, travelle...</td>\n",
       "      <td>NaN</td>\n",
       "      <td>NaN</td>\n",
       "      <td>f</td>\n",
       "      <td>https://a0.muscache.com/im/users/59786/profile...</td>\n",
       "      <td>https://a0.muscache.com/im/users/59786/profile...</td>\n",
       "      <td>Thornbury</td>\n",
       "      <td>['email', 'phone', 'facebook', 'reviews', 'jum...</td>\n",
       "      <td>t</td>\n",
       "      <td>t</td>\n",
       "      <td>Thornbury, VIC, Australia</td>\n",
       "      <td>Thornbury</td>\n",
       "      <td>Darebin</td>\n",
       "      <td>Thornbury</td>\n",
       "      <td>VIC</td>\n",
       "      <td>3071</td>\n",
       "      <td>Thornbury, Australia</td>\n",
       "      <td>AU</td>\n",
       "      <td>Australia</td>\n",
       "      <td>-37.758971</td>\n",
       "      <td>144.989228</td>\n",
       "      <td>t</td>\n",
       "      <td>House</td>\n",
       "      <td>Private room</td>\n",
       "      <td>1</td>\n",
       "      <td>1.5</td>\n",
       "      <td>1.0</td>\n",
       "      <td>1.0</td>\n",
       "      <td>Real Bed</td>\n",
       "      <td>{TV,Internet,Wifi,Kitchen,\"Free parking on pre...</td>\n",
       "      <td>50</td>\n",
       "      <td>250.0</td>\n",
       "      <td>920.0</td>\n",
       "      <td>200.0</td>\n",
       "      <td>15.0</td>\n",
       "      <td>1</td>\n",
       "      <td>20</td>\n",
       "      <td>2</td>\n",
       "      <td>200</td>\n",
       "      <td>11 months ago</td>\n",
       "      <td>t</td>\n",
       "      <td>0</td>\n",
       "      <td>0</td>\n",
       "      <td>0</td>\n",
       "      <td>0</td>\n",
       "      <td>2018-12-07</td>\n",
       "      <td>29</td>\n",
       "      <td>2010-12-31</td>\n",
       "      <td>2017-05-15</td>\n",
       "      <td>94.0</td>\n",
       "      <td>9.0</td>\n",
       "      <td>9.0</td>\n",
       "      <td>10.0</td>\n",
       "      <td>10.0</td>\n",
       "      <td>9.0</td>\n",
       "      <td>9.0</td>\n",
       "      <td>f</td>\n",
       "      <td>NaN</td>\n",
       "      <td>f</td>\n",
       "      <td>moderate</td>\n",
       "      <td>f</td>\n",
       "      <td>f</td>\n",
       "      <td>3</td>\n",
       "      <td>0.30</td>\n",
       "    </tr>\n",
       "    <tr>\n",
       "      <th>4</th>\n",
       "      <td>16760</td>\n",
       "      <td>https://www.airbnb.com/rooms/16760</td>\n",
       "      <td>2.018120e+13</td>\n",
       "      <td>2018-12-07</td>\n",
       "      <td>Melbourne BnB near City &amp; Sports</td>\n",
       "      <td>NaN</td>\n",
       "      <td>We offer comfortable accommodation in Inner Me...</td>\n",
       "      <td>We offer comfortable accommodation in Inner Me...</td>\n",
       "      <td>NaN</td>\n",
       "      <td>NaN</td>\n",
       "      <td>NaN</td>\n",
       "      <td>NaN</td>\n",
       "      <td>NaN</td>\n",
       "      <td>Are you gay friendly? Yes, we welcome gay, les...</td>\n",
       "      <td>https://a0.muscache.com/im/pictures/509974/5a9...</td>\n",
       "      <td>65090</td>\n",
       "      <td>https://www.airbnb.com/users/show/65090</td>\n",
       "      <td>Colin</td>\n",
       "      <td>2009-12-22</td>\n",
       "      <td>Saint Kilda East, Victoria, Australia</td>\n",
       "      <td>Retired Australian traveller, I run a small ga...</td>\n",
       "      <td>within an hour</td>\n",
       "      <td>100%</td>\n",
       "      <td>f</td>\n",
       "      <td>https://a0.muscache.com/im/users/65090/profile...</td>\n",
       "      <td>https://a0.muscache.com/im/users/65090/profile...</td>\n",
       "      <td>St Kilda East</td>\n",
       "      <td>['email', 'phone', 'facebook', 'reviews', 'jum...</td>\n",
       "      <td>t</td>\n",
       "      <td>t</td>\n",
       "      <td>St Kilda East, VIC, Australia</td>\n",
       "      <td>St Kilda East</td>\n",
       "      <td>Port Phillip</td>\n",
       "      <td>St Kilda East</td>\n",
       "      <td>VIC</td>\n",
       "      <td>3183</td>\n",
       "      <td>St Kilda East, Australia</td>\n",
       "      <td>AU</td>\n",
       "      <td>Australia</td>\n",
       "      <td>-37.864530</td>\n",
       "      <td>144.992238</td>\n",
       "      <td>t</td>\n",
       "      <td>House</td>\n",
       "      <td>Private room</td>\n",
       "      <td>2</td>\n",
       "      <td>1.0</td>\n",
       "      <td>1.0</td>\n",
       "      <td>2.0</td>\n",
       "      <td>Real Bed</td>\n",
       "      <td>{Internet,Wifi,Heating,Washer,\"Smoke detector\"...</td>\n",
       "      <td>69</td>\n",
       "      <td>400.0</td>\n",
       "      <td>1900.0</td>\n",
       "      <td>NaN</td>\n",
       "      <td>15.0</td>\n",
       "      <td>1</td>\n",
       "      <td>20</td>\n",
       "      <td>1</td>\n",
       "      <td>90</td>\n",
       "      <td>4 days ago</td>\n",
       "      <td>t</td>\n",
       "      <td>2</td>\n",
       "      <td>30</td>\n",
       "      <td>60</td>\n",
       "      <td>328</td>\n",
       "      <td>2018-12-07</td>\n",
       "      <td>63</td>\n",
       "      <td>2011-12-10</td>\n",
       "      <td>2018-11-22</td>\n",
       "      <td>90.0</td>\n",
       "      <td>9.0</td>\n",
       "      <td>9.0</td>\n",
       "      <td>10.0</td>\n",
       "      <td>10.0</td>\n",
       "      <td>10.0</td>\n",
       "      <td>9.0</td>\n",
       "      <td>f</td>\n",
       "      <td>NaN</td>\n",
       "      <td>f</td>\n",
       "      <td>moderate</td>\n",
       "      <td>f</td>\n",
       "      <td>f</td>\n",
       "      <td>1</td>\n",
       "      <td>0.74</td>\n",
       "    </tr>\n",
       "  </tbody>\n",
       "</table>\n",
       "</div>"
      ],
      "text/plain": [
       "      id                         listing_url     scrape_id last_scraped  \\\n",
       "0   9835   https://www.airbnb.com/rooms/9835  2.018120e+13   2018-12-07   \n",
       "1  10803  https://www.airbnb.com/rooms/10803  2.018120e+13   2018-12-07   \n",
       "2  12936  https://www.airbnb.com/rooms/12936  2.018120e+13   2018-12-07   \n",
       "3  15246  https://www.airbnb.com/rooms/15246  2.018120e+13   2018-12-07   \n",
       "4  16760  https://www.airbnb.com/rooms/16760  2.018120e+13   2018-12-07   \n",
       "\n",
       "                                               name  \\\n",
       "0                            Beautiful Room & House   \n",
       "1          Room in Cool Deco Apartment in Brunswick   \n",
       "2  St Kilda 1BR APT+BEACHSIDE+VIEWS+PARKING+WIFI+AC   \n",
       "3                  Large private room-close to city   \n",
       "4                  Melbourne BnB near City & Sports   \n",
       "\n",
       "                                             summary  \\\n",
       "0                                                NaN   \n",
       "1  A large air conditioned room with queen spring...   \n",
       "2  RIGHT IN THE HEART OF ST KILDA! It doesn't get...   \n",
       "3  Comfortable, relaxed house, a home away from  ...   \n",
       "4                                                NaN   \n",
       "\n",
       "                                               space  \\\n",
       "0  House: Clean, New, Modern, Quite, Safe. 10Km f...   \n",
       "1  The apartment is Deco/Edwardian in style and h...   \n",
       "2  FREE WiFi FREE in-building remote controlled g...   \n",
       "3  The atmosphere is relaxed and easy going. You ...   \n",
       "4  We offer comfortable accommodation in Inner Me...   \n",
       "\n",
       "                                         description  \\\n",
       "0  House: Clean, New, Modern, Quite, Safe. 10Km f...   \n",
       "1  A large air conditioned room with queen spring...   \n",
       "2  RIGHT IN THE HEART OF ST KILDA! It doesn't get...   \n",
       "3  Comfortable, relaxed house, a home away from  ...   \n",
       "4  We offer comfortable accommodation in Inner Me...   \n",
       "\n",
       "                               neighborhood_overview  \\\n",
       "0       Very safe! Family oriented. Older age group.   \n",
       "1  This hip area is a crossroads between two grea...   \n",
       "2  A stay at our apartment means you can enjoy so...   \n",
       "3  This is a great neighbourhood – it is quiet, y...   \n",
       "4                                                NaN   \n",
       "\n",
       "                                               notes  \\\n",
       "0                                                NaN   \n",
       "1                                                NaN   \n",
       "2  First floor apartment with both lift and stair...   \n",
       "3  A simple self service breakfast is available –...   \n",
       "4                                                NaN   \n",
       "\n",
       "                                             transit  \\\n",
       "0  YES ! The bus (305,309) is exactly two blocks ...   \n",
       "1  Easy transport options - the tram is right out...   \n",
       "2  Our apartment is located within walking distan...   \n",
       "3  Public transport is super convenient with a ch...   \n",
       "4                                                NaN   \n",
       "\n",
       "                                              access  \\\n",
       "0  Kitchen, backyard, upstairs lounge. We'd like ...   \n",
       "1  Wifi. Bathroom and kitchen is shared but I mos...   \n",
       "2  Guests have exclusive and private access to th...   \n",
       "3  You are welcome to make yourself at home in th...   \n",
       "4                                                NaN   \n",
       "\n",
       "                                         interaction  \\\n",
       "0                        As much as the guest wants.   \n",
       "1  I'm home mostly but sometimes I may be working...   \n",
       "2  We don't always get to meet all our guests in ...   \n",
       "3  Guest's privacy will be respected at all times...   \n",
       "4                                                NaN   \n",
       "\n",
       "                                         house_rules  \\\n",
       "0       Prefence would be given females or  a couple   \n",
       "1  Theres a yoga studio downstairs so if you see ...   \n",
       "2  Please take a moment now to read our House Rul...   \n",
       "3  • Respect for our home, for each other, and th...   \n",
       "4  Are you gay friendly? Yes, we welcome gay, les...   \n",
       "\n",
       "                                         picture_url  host_id  \\\n",
       "0  https://a0.muscache.com/im/pictures/44620/5a58...    33057   \n",
       "1  https://a0.muscache.com/im/pictures/31323790/9...    38901   \n",
       "2  https://a0.muscache.com/im/pictures/59701/2e8c...    50121   \n",
       "3  https://a0.muscache.com/im/pictures/0a96c6f9-1...    59786   \n",
       "4  https://a0.muscache.com/im/pictures/509974/5a9...    65090   \n",
       "\n",
       "                                  host_url      host_name host_since  \\\n",
       "0  https://www.airbnb.com/users/show/33057          Manju 2009-08-21   \n",
       "1  https://www.airbnb.com/users/show/38901        Lindsay 2009-09-16   \n",
       "2  https://www.airbnb.com/users/show/50121  Frank & Vince 2009-10-31   \n",
       "3  https://www.airbnb.com/users/show/59786          Eleni 2009-12-03   \n",
       "4  https://www.airbnb.com/users/show/65090          Colin 2009-12-22   \n",
       "\n",
       "                           host_location  \\\n",
       "0                                     AU   \n",
       "1         Melbourne, Victoria, Australia   \n",
       "2         Melbourne, Victoria, Australia   \n",
       "3         Melbourne, Victoria, Australia   \n",
       "4  Saint Kilda East, Victoria, Australia   \n",
       "\n",
       "                                          host_about  host_response_time  \\\n",
       "0  About us: We are an East Indian couple in our ...  a few days or more   \n",
       "1  As an artist working in animation and video I ...                 NaN   \n",
       "2  Hi, we’re Frank and Vince.\\r\\n\\r\\nThanks for r...      within an hour   \n",
       "3  Artist, academic, community activist, travelle...                 NaN   \n",
       "4  Retired Australian traveller, I run a small ga...      within an hour   \n",
       "\n",
       "  host_response_rate host_is_superhost  \\\n",
       "0                 0%                 f   \n",
       "1                NaN                 f   \n",
       "2               100%                 t   \n",
       "3                NaN                 f   \n",
       "4               100%                 f   \n",
       "\n",
       "                                  host_thumbnail_url  \\\n",
       "0  https://a0.muscache.com/defaults/user_pic-50x5...   \n",
       "1  https://a0.muscache.com/im/users/38901/profile...   \n",
       "2  https://a0.muscache.com/im/users/50121/profile...   \n",
       "3  https://a0.muscache.com/im/users/59786/profile...   \n",
       "4  https://a0.muscache.com/im/users/65090/profile...   \n",
       "\n",
       "                                    host_picture_url host_neighborhood  \\\n",
       "0  https://a0.muscache.com/defaults/user_pic-225x...               NaN   \n",
       "1  https://a0.muscache.com/im/users/38901/profile...         Brunswick   \n",
       "2  https://a0.muscache.com/im/users/50121/profile...          St Kilda   \n",
       "3  https://a0.muscache.com/im/users/59786/profile...         Thornbury   \n",
       "4  https://a0.muscache.com/im/users/65090/profile...     St Kilda East   \n",
       "\n",
       "                                  host_verifications host_has_profile_pic  \\\n",
       "0                      ['email', 'phone', 'reviews']                    f   \n",
       "1  ['email', 'phone', 'reviews', 'jumio', 'govern...                    t   \n",
       "2  ['email', 'phone', 'google', 'reviews', 'jumio...                    t   \n",
       "3  ['email', 'phone', 'facebook', 'reviews', 'jum...                    t   \n",
       "4  ['email', 'phone', 'facebook', 'reviews', 'jum...                    t   \n",
       "\n",
       "  host_identity_verified                          street   neighborhood  \\\n",
       "0                      f         Bulleen, VIC, Australia   Balwyn North   \n",
       "1                      t  Brunswick East, VIC, Australia      Brunswick   \n",
       "2                      t        St Kilda, VIC, Australia       St Kilda   \n",
       "3                      t       Thornbury, VIC, Australia      Thornbury   \n",
       "4                      t   St Kilda East, VIC, Australia  St Kilda East   \n",
       "\n",
       "           city          suburb state zipcode             smart_location  \\\n",
       "0    Manningham         Bulleen   VIC    3105         Bulleen, Australia   \n",
       "1      Moreland  Brunswick East   VIC    3057  Brunswick East, Australia   \n",
       "2  Port Phillip        St Kilda   VIC    3182        St Kilda, Australia   \n",
       "3       Darebin       Thornbury   VIC    3071       Thornbury, Australia   \n",
       "4  Port Phillip   St Kilda East   VIC    3183   St Kilda East, Australia   \n",
       "\n",
       "  country_code    country   latitude   longitude is_location_exact  \\\n",
       "0           AU  Australia -37.772684  145.092133                 f   \n",
       "1           AU  Australia -37.766505  144.980736                 t   \n",
       "2           AU  Australia -37.859755  144.977369                 t   \n",
       "3           AU  Australia -37.758971  144.989228                 t   \n",
       "4           AU  Australia -37.864530  144.992238                 t   \n",
       "\n",
       "  property_type        room_type  accommodates  bathrooms  bedrooms  beds  \\\n",
       "0         House     Private room             2        1.0       1.0   2.0   \n",
       "1     Apartment     Private room             2        1.0       1.0   1.0   \n",
       "2     Apartment  Entire home/apt             3        1.0       1.0   2.0   \n",
       "3         House     Private room             1        1.5       1.0   1.0   \n",
       "4         House     Private room             2        1.0       1.0   2.0   \n",
       "\n",
       "   bed_type                                          amenities  price  \\\n",
       "0  Real Bed  {Internet,Wifi,\"Pets live on this property\",Do...     60   \n",
       "1     Futon  {TV,Internet,Wifi,\"Air conditioning\",Kitchen,H...     35   \n",
       "2  Real Bed  {TV,Internet,Wifi,\"Air conditioning\",Kitchen,\"...    159   \n",
       "3  Real Bed  {TV,Internet,Wifi,Kitchen,\"Free parking on pre...     50   \n",
       "4  Real Bed  {Internet,Wifi,Heating,Washer,\"Smoke detector\"...     69   \n",
       "\n",
       "   weekly_price  monthly_price  security_deposit  cleaning_fee  \\\n",
       "0           NaN            NaN               NaN           NaN   \n",
       "1         200.0          803.0               0.0           9.0   \n",
       "2        1253.0         4452.0             450.0         100.0   \n",
       "3         250.0          920.0             200.0          15.0   \n",
       "4         400.0         1900.0               NaN          15.0   \n",
       "\n",
       "   guests_included  extra_people  minimum_nights  maximum_nights  \\\n",
       "0                1            22               1             365   \n",
       "1                1            15               3              45   \n",
       "2                2            28               3              28   \n",
       "3                1            20               2             200   \n",
       "4                1            20               1              90   \n",
       "\n",
       "  calendar_updated has_availability  availability_30  availability_60  \\\n",
       "0    17 months ago                t               30               60   \n",
       "1      6 weeks ago                t                4                9   \n",
       "2            today                t               10               26   \n",
       "3    11 months ago                t                0                0   \n",
       "4       4 days ago                t                2               30   \n",
       "\n",
       "   availability_90  availability_365 calendar_last_scraped  number_of_reviews  \\\n",
       "0               90               365            2018-12-07                  4   \n",
       "1               33               213            2018-12-07                108   \n",
       "2               51               326            2018-12-07                 15   \n",
       "3                0                 0            2018-12-07                 29   \n",
       "4               60               328            2018-12-07                 63   \n",
       "\n",
       "  first_review last_review  review_scores_rating  review_scores_accuracy  \\\n",
       "0   2011-05-24  2015-09-12                  90.0                     9.0   \n",
       "1   2013-01-12  2018-11-26                  87.0                     9.0   \n",
       "2   2010-08-04  2018-11-07                  94.0                     9.0   \n",
       "3   2010-12-31  2017-05-15                  94.0                     9.0   \n",
       "4   2011-12-10  2018-11-22                  90.0                     9.0   \n",
       "\n",
       "   review_scores_cleanliness  review_scores_checkin  \\\n",
       "0                       10.0                   10.0   \n",
       "1                        8.0                    9.0   \n",
       "2                       10.0                    9.0   \n",
       "3                        9.0                   10.0   \n",
       "4                        9.0                   10.0   \n",
       "\n",
       "   review_scores_communication  review_scores_location  review_scores_value  \\\n",
       "0                         10.0                     9.0                  9.0   \n",
       "1                          9.0                     9.0                  9.0   \n",
       "2                          9.0                     9.0                  9.0   \n",
       "3                         10.0                     9.0                  9.0   \n",
       "4                         10.0                    10.0                  9.0   \n",
       "\n",
       "  requires_license license instant_bookable          cancellation_policy  \\\n",
       "0                f     NaN                f  strict_14_with_grace_period   \n",
       "1                f     NaN                t                     moderate   \n",
       "2                f     NaN                f  strict_14_with_grace_period   \n",
       "3                f     NaN                f                     moderate   \n",
       "4                f     NaN                f                     moderate   \n",
       "\n",
       "  require_guest_profile_picture require_guest_phone_verification  \\\n",
       "0                             f                                f   \n",
       "1                             t                                t   \n",
       "2                             f                                f   \n",
       "3                             f                                f   \n",
       "4                             f                                f   \n",
       "\n",
       "   calculated_host_listings_count  reviews_per_month  \n",
       "0                               1               0.04  \n",
       "1                               1               1.50  \n",
       "2                              17               0.15  \n",
       "3                               3               0.30  \n",
       "4                               1               0.74  "
      ]
     },
     "execution_count": 6,
     "metadata": {},
     "output_type": "execute_result"
    }
   ],
   "source": [
    "df.head()"
   ]
  },
  {
   "cell_type": "code",
   "execution_count": null,
   "metadata": {},
   "outputs": [],
   "source": [
    "df.tail()"
   ]
  },
  {
   "cell_type": "code",
   "execution_count": 7,
   "metadata": {},
   "outputs": [
    {
     "name": "stdout",
     "output_type": "stream",
     "text": [
      "<class 'pandas.core.frame.DataFrame'>\n",
      "RangeIndex: 22895 entries, 0 to 22894\n",
      "Data columns (total 84 columns):\n",
      " #   Column                            Non-Null Count  Dtype         \n",
      "---  ------                            --------------  -----         \n",
      " 0   id                                22895 non-null  int64         \n",
      " 1   listing_url                       22895 non-null  object        \n",
      " 2   scrape_id                         22895 non-null  float64       \n",
      " 3   last_scraped                      22895 non-null  datetime64[ns]\n",
      " 4   name                              22892 non-null  object        \n",
      " 5   summary                           22199 non-null  object        \n",
      " 6   space                             16844 non-null  object        \n",
      " 7   description                       22563 non-null  object        \n",
      " 8   neighborhood_overview             14424 non-null  object        \n",
      " 9   notes                             11546 non-null  object        \n",
      " 10  transit                           14943 non-null  object        \n",
      " 11  access                            15168 non-null  object        \n",
      " 12  interaction                       14537 non-null  object        \n",
      " 13  house_rules                       15032 non-null  object        \n",
      " 14  picture_url                       22895 non-null  object        \n",
      " 15  host_id                           22895 non-null  int64         \n",
      " 16  host_url                          22895 non-null  object        \n",
      " 17  host_name                         22892 non-null  object        \n",
      " 18  host_since                        22892 non-null  datetime64[ns]\n",
      " 19  host_location                     22869 non-null  object        \n",
      " 20  host_about                        13730 non-null  object        \n",
      " 21  host_response_time                15589 non-null  object        \n",
      " 22  host_response_rate                15589 non-null  object        \n",
      " 23  host_is_superhost                 22892 non-null  object        \n",
      " 24  host_thumbnail_url                22892 non-null  object        \n",
      " 25  host_picture_url                  22892 non-null  object        \n",
      " 26  host_neighborhood                 14927 non-null  object        \n",
      " 27  host_verifications                22895 non-null  object        \n",
      " 28  host_has_profile_pic              22892 non-null  object        \n",
      " 29  host_identity_verified            22892 non-null  object        \n",
      " 30  street                            22895 non-null  object        \n",
      " 31  neighborhood                      17082 non-null  object        \n",
      " 32  city                              22895 non-null  object        \n",
      " 33  suburb                            22872 non-null  object        \n",
      " 34  state                             22834 non-null  object        \n",
      " 35  zipcode                           22753 non-null  object        \n",
      " 36  smart_location                    22895 non-null  object        \n",
      " 37  country_code                      22895 non-null  object        \n",
      " 38  country                           22895 non-null  object        \n",
      " 39  latitude                          22895 non-null  float64       \n",
      " 40  longitude                         22895 non-null  float64       \n",
      " 41  is_location_exact                 22895 non-null  object        \n",
      " 42  property_type                     22895 non-null  object        \n",
      " 43  room_type                         22895 non-null  object        \n",
      " 44  accommodates                      22895 non-null  int64         \n",
      " 45  bathrooms                         22878 non-null  float64       \n",
      " 46  bedrooms                          22890 non-null  float64       \n",
      " 47  beds                              22861 non-null  float64       \n",
      " 48  bed_type                          22895 non-null  object        \n",
      " 49  amenities                         22895 non-null  object        \n",
      " 50  price                             22895 non-null  int64         \n",
      " 51  weekly_price                      2524 non-null   float64       \n",
      " 52  monthly_price                     1891 non-null   float64       \n",
      " 53  security_deposit                  15401 non-null  float64       \n",
      " 54  cleaning_fee                      17249 non-null  float64       \n",
      " 55  guests_included                   22895 non-null  int64         \n",
      " 56  extra_people                      22895 non-null  int64         \n",
      " 57  minimum_nights                    22895 non-null  int64         \n",
      " 58  maximum_nights                    22895 non-null  int64         \n",
      " 59  calendar_updated                  22895 non-null  object        \n",
      " 60  has_availability                  22895 non-null  object        \n",
      " 61  availability_30                   22895 non-null  int64         \n",
      " 62  availability_60                   22895 non-null  int64         \n",
      " 63  availability_90                   22895 non-null  int64         \n",
      " 64  availability_365                  22895 non-null  int64         \n",
      " 65  calendar_last_scraped             22895 non-null  datetime64[ns]\n",
      " 66  number_of_reviews                 22895 non-null  int64         \n",
      " 67  first_review                      17653 non-null  datetime64[ns]\n",
      " 68  last_review                       17653 non-null  datetime64[ns]\n",
      " 69  review_scores_rating              17189 non-null  float64       \n",
      " 70  review_scores_accuracy            17175 non-null  float64       \n",
      " 71  review_scores_cleanliness         17182 non-null  float64       \n",
      " 72  review_scores_checkin             17161 non-null  float64       \n",
      " 73  review_scores_communication       17177 non-null  float64       \n",
      " 74  review_scores_location            17162 non-null  float64       \n",
      " 75  review_scores_value               17160 non-null  float64       \n",
      " 76  requires_license                  22895 non-null  object        \n",
      " 77  license                           21 non-null     object        \n",
      " 78  instant_bookable                  22895 non-null  object        \n",
      " 79  cancellation_policy               22895 non-null  object        \n",
      " 80  require_guest_profile_picture     22895 non-null  object        \n",
      " 81  require_guest_phone_verification  22895 non-null  object        \n",
      " 82  calculated_host_listings_count    22895 non-null  int64         \n",
      " 83  reviews_per_month                 17653 non-null  float64       \n",
      "dtypes: datetime64[ns](5), float64(18), int64(14), object(47)\n",
      "memory usage: 134.9 MB\n"
     ]
    }
   ],
   "source": [
    "# Notice the memory usage at the very bottom\n",
    "df.info(memory_usage='deep')"
   ]
  },
  {
   "cell_type": "code",
   "execution_count": 16,
   "metadata": {},
   "outputs": [
    {
     "data": {
      "text/html": [
       "<div>\n",
       "<style scoped>\n",
       "    .dataframe tbody tr th:only-of-type {\n",
       "        vertical-align: middle;\n",
       "    }\n",
       "\n",
       "    .dataframe tbody tr th {\n",
       "        vertical-align: top;\n",
       "    }\n",
       "\n",
       "    .dataframe thead th {\n",
       "        text-align: right;\n",
       "    }\n",
       "</style>\n",
       "<table border=\"1\" class=\"dataframe\">\n",
       "  <thead>\n",
       "    <tr style=\"text-align: right;\">\n",
       "      <th></th>\n",
       "      <th>count</th>\n",
       "      <th>mean</th>\n",
       "      <th>std</th>\n",
       "      <th>min</th>\n",
       "      <th>25%</th>\n",
       "      <th>50%</th>\n",
       "      <th>75%</th>\n",
       "      <th>max</th>\n",
       "    </tr>\n",
       "  </thead>\n",
       "  <tbody>\n",
       "    <tr>\n",
       "      <th>id</th>\n",
       "      <td>22895.0</td>\n",
       "      <td>1.869883e+07</td>\n",
       "      <td>8.141522e+06</td>\n",
       "      <td>9.835000e+03</td>\n",
       "      <td>1.287570e+07</td>\n",
       "      <td>2.026177e+07</td>\n",
       "      <td>2.495525e+07</td>\n",
       "      <td>3.059362e+07</td>\n",
       "    </tr>\n",
       "    <tr>\n",
       "      <th>scrape_id</th>\n",
       "      <td>22895.0</td>\n",
       "      <td>2.018120e+13</td>\n",
       "      <td>0.000000e+00</td>\n",
       "      <td>2.018120e+13</td>\n",
       "      <td>2.018120e+13</td>\n",
       "      <td>2.018120e+13</td>\n",
       "      <td>2.018120e+13</td>\n",
       "      <td>2.018120e+13</td>\n",
       "    </tr>\n",
       "    <tr>\n",
       "      <th>host_id</th>\n",
       "      <td>22895.0</td>\n",
       "      <td>7.083412e+07</td>\n",
       "      <td>6.471893e+07</td>\n",
       "      <td>9.082000e+03</td>\n",
       "      <td>1.728005e+07</td>\n",
       "      <td>4.801411e+07</td>\n",
       "      <td>1.143842e+08</td>\n",
       "      <td>2.294705e+08</td>\n",
       "    </tr>\n",
       "    <tr>\n",
       "      <th>latitude</th>\n",
       "      <td>22895.0</td>\n",
       "      <td>-3.782683e+01</td>\n",
       "      <td>6.674714e-02</td>\n",
       "      <td>-3.822443e+01</td>\n",
       "      <td>-3.785266e+01</td>\n",
       "      <td>-3.781785e+01</td>\n",
       "      <td>-3.780318e+01</td>\n",
       "      <td>-3.748260e+01</td>\n",
       "    </tr>\n",
       "    <tr>\n",
       "      <th>longitude</th>\n",
       "      <td>22895.0</td>\n",
       "      <td>1.450085e+02</td>\n",
       "      <td>1.277106e-01</td>\n",
       "      <td>1.444843e+02</td>\n",
       "      <td>1.449577e+02</td>\n",
       "      <td>1.449784e+02</td>\n",
       "      <td>1.450134e+02</td>\n",
       "      <td>1.458391e+02</td>\n",
       "    </tr>\n",
       "  </tbody>\n",
       "</table>\n",
       "</div>"
      ],
      "text/plain": [
       "             count          mean           std           min           25%  \\\n",
       "id         22895.0  1.869883e+07  8.141522e+06  9.835000e+03  1.287570e+07   \n",
       "scrape_id  22895.0  2.018120e+13  0.000000e+00  2.018120e+13  2.018120e+13   \n",
       "host_id    22895.0  7.083412e+07  6.471893e+07  9.082000e+03  1.728005e+07   \n",
       "latitude   22895.0 -3.782683e+01  6.674714e-02 -3.822443e+01 -3.785266e+01   \n",
       "longitude  22895.0  1.450085e+02  1.277106e-01  1.444843e+02  1.449577e+02   \n",
       "\n",
       "                    50%           75%           max  \n",
       "id         2.026177e+07  2.495525e+07  3.059362e+07  \n",
       "scrape_id  2.018120e+13  2.018120e+13  2.018120e+13  \n",
       "host_id    4.801411e+07  1.143842e+08  2.294705e+08  \n",
       "latitude  -3.781785e+01 -3.780318e+01 -3.748260e+01  \n",
       "longitude  1.449784e+02  1.450134e+02  1.458391e+02  "
      ]
     },
     "execution_count": 16,
     "metadata": {},
     "output_type": "execute_result"
    }
   ],
   "source": [
    "data = df.describe().T\n",
    "data.head()"
   ]
  },
  {
   "cell_type": "code",
   "execution_count": 9,
   "metadata": {
    "scrolled": true
   },
   "outputs": [
    {
     "data": {
      "text/plain": [
       "id                                      0\n",
       "listing_url                             0\n",
       "scrape_id                               0\n",
       "last_scraped                            0\n",
       "name                                    3\n",
       "summary                               696\n",
       "space                                6051\n",
       "description                           332\n",
       "neighborhood_overview                8471\n",
       "notes                               11349\n",
       "transit                              7952\n",
       "access                               7727\n",
       "interaction                          8358\n",
       "house_rules                          7863\n",
       "picture_url                             0\n",
       "host_id                                 0\n",
       "host_url                                0\n",
       "host_name                               3\n",
       "host_since                              3\n",
       "host_location                          26\n",
       "host_about                           9165\n",
       "host_response_time                   7306\n",
       "host_response_rate                   7306\n",
       "host_is_superhost                       3\n",
       "host_thumbnail_url                      3\n",
       "host_picture_url                        3\n",
       "host_neighborhood                    7968\n",
       "host_verifications                      0\n",
       "host_has_profile_pic                    3\n",
       "host_identity_verified                  3\n",
       "street                                  0\n",
       "neighborhood                         5813\n",
       "city                                    0\n",
       "suburb                                 23\n",
       "state                                  61\n",
       "zipcode                               142\n",
       "smart_location                          0\n",
       "country_code                            0\n",
       "country                                 0\n",
       "latitude                                0\n",
       "longitude                               0\n",
       "is_location_exact                       0\n",
       "property_type                           0\n",
       "room_type                               0\n",
       "accommodates                            0\n",
       "bathrooms                              17\n",
       "bedrooms                                5\n",
       "beds                                   34\n",
       "bed_type                                0\n",
       "amenities                               0\n",
       "price                                   0\n",
       "weekly_price                        20371\n",
       "monthly_price                       21004\n",
       "security_deposit                     7494\n",
       "cleaning_fee                         5646\n",
       "guests_included                         0\n",
       "extra_people                            0\n",
       "minimum_nights                          0\n",
       "maximum_nights                          0\n",
       "calendar_updated                        0\n",
       "has_availability                        0\n",
       "availability_30                         0\n",
       "availability_60                         0\n",
       "availability_90                         0\n",
       "availability_365                        0\n",
       "calendar_last_scraped                   0\n",
       "number_of_reviews                       0\n",
       "first_review                         5242\n",
       "last_review                          5242\n",
       "review_scores_rating                 5706\n",
       "review_scores_accuracy               5720\n",
       "review_scores_cleanliness            5713\n",
       "review_scores_checkin                5734\n",
       "review_scores_communication          5718\n",
       "review_scores_location               5733\n",
       "review_scores_value                  5735\n",
       "requires_license                        0\n",
       "license                             22874\n",
       "instant_bookable                        0\n",
       "cancellation_policy                     0\n",
       "require_guest_profile_picture           0\n",
       "require_guest_phone_verification        0\n",
       "calculated_host_listings_count          0\n",
       "reviews_per_month                    5242\n",
       "dtype: int64"
      ]
     },
     "execution_count": 9,
     "metadata": {},
     "output_type": "execute_result"
    }
   ],
   "source": [
    "df.isna().sum()"
   ]
  },
  {
   "cell_type": "code",
   "execution_count": 10,
   "metadata": {
    "scrolled": true
   },
   "outputs": [
    {
     "data": {
      "text/plain": [
       "id                                   0.000000\n",
       "listing_url                          0.000000\n",
       "scrape_id                            0.000000\n",
       "last_scraped                         0.000000\n",
       "name                                 0.013103\n",
       "summary                              3.039965\n",
       "space                               26.429351\n",
       "description                          1.450098\n",
       "neighborhood_overview               36.999345\n",
       "notes                               49.569775\n",
       "transit                             34.732474\n",
       "access                              33.749727\n",
       "interaction                         36.505787\n",
       "house_rules                         34.343743\n",
       "picture_url                          0.000000\n",
       "host_id                              0.000000\n",
       "host_url                             0.000000\n",
       "host_name                            0.013103\n",
       "host_since                           0.013103\n",
       "host_location                        0.113562\n",
       "host_about                          40.030574\n",
       "host_response_time                  31.910898\n",
       "host_response_rate                  31.910898\n",
       "host_is_superhost                    0.013103\n",
       "host_thumbnail_url                   0.013103\n",
       "host_picture_url                     0.013103\n",
       "host_neighborhood                   34.802359\n",
       "host_verifications                   0.000000\n",
       "host_has_profile_pic                 0.013103\n",
       "host_identity_verified               0.013103\n",
       "street                               0.000000\n",
       "neighborhood                        25.389823\n",
       "city                                 0.000000\n",
       "suburb                               0.100459\n",
       "state                                0.266434\n",
       "zipcode                              0.620223\n",
       "smart_location                       0.000000\n",
       "country_code                         0.000000\n",
       "country                              0.000000\n",
       "latitude                             0.000000\n",
       "longitude                            0.000000\n",
       "is_location_exact                    0.000000\n",
       "property_type                        0.000000\n",
       "room_type                            0.000000\n",
       "accommodates                         0.000000\n",
       "bathrooms                            0.074252\n",
       "bedrooms                             0.021839\n",
       "beds                                 0.148504\n",
       "bed_type                             0.000000\n",
       "amenities                            0.000000\n",
       "price                                0.000000\n",
       "weekly_price                        88.975759\n",
       "monthly_price                       91.740555\n",
       "security_deposit                    32.732038\n",
       "cleaning_fee                        24.660406\n",
       "guests_included                      0.000000\n",
       "extra_people                         0.000000\n",
       "minimum_nights                       0.000000\n",
       "maximum_nights                       0.000000\n",
       "calendar_updated                     0.000000\n",
       "has_availability                     0.000000\n",
       "availability_30                      0.000000\n",
       "availability_60                      0.000000\n",
       "availability_90                      0.000000\n",
       "availability_365                     0.000000\n",
       "calendar_last_scraped                0.000000\n",
       "number_of_reviews                    0.000000\n",
       "first_review                        22.895829\n",
       "last_review                         22.895829\n",
       "review_scores_rating                24.922472\n",
       "review_scores_accuracy              24.983621\n",
       "review_scores_cleanliness           24.953047\n",
       "review_scores_checkin               25.044770\n",
       "review_scores_communication         24.974885\n",
       "review_scores_location              25.040402\n",
       "review_scores_value                 25.049137\n",
       "requires_license                     0.000000\n",
       "license                             99.908277\n",
       "instant_bookable                     0.000000\n",
       "cancellation_policy                  0.000000\n",
       "require_guest_profile_picture        0.000000\n",
       "require_guest_phone_verification     0.000000\n",
       "calculated_host_listings_count       0.000000\n",
       "reviews_per_month                   22.895829\n",
       "dtype: float64"
      ]
     },
     "execution_count": 10,
     "metadata": {},
     "output_type": "execute_result"
    }
   ],
   "source": [
    "missing_pct = ((df.isna().sum() / df.shape[0]) * 100)\n",
    "missing_pct"
   ]
  },
  {
   "cell_type": "markdown",
   "metadata": {},
   "source": [
    "# 3.3 Clean & Prepare"
   ]
  },
  {
   "cell_type": "markdown",
   "metadata": {},
   "source": [
    "First, let's set a threshold for missing values and get rid of anything above that threshold using the series we created in the previous section. We'll drop all columns where the missing values amount to more than 25%. For this, we will create a mask and select the indeces of the columns array and filters the ones we would like to drop. We will pass that into pandas `.drop()` method and then specify that want to drop columns and not rows with the `axis=1` setting."
   ]
  },
  {
   "cell_type": "code",
   "execution_count": 11,
   "metadata": {},
   "outputs": [
    {
     "data": {
      "text/plain": [
       "(22895, 65)"
      ]
     },
     "execution_count": 11,
     "metadata": {},
     "output_type": "execute_result"
    }
   ],
   "source": [
    "cols_to_drop = missing_pct[missing_pct > 25].index # our boolean array\n",
    "df.drop(cols_to_drop, axis=1, inplace=True) # keep the changes with inplace\n",
    "df.shape # observe the shape"
   ]
  },
  {
   "cell_type": "markdown",
   "metadata": {},
   "source": [
    "Let's now select the columns we would like to keep and then deal with missing values."
   ]
  },
  {
   "cell_type": "code",
   "execution_count": 12,
   "metadata": {},
   "outputs": [
    {
     "data": {
      "text/plain": [
       "(22895, 27)"
      ]
     },
     "execution_count": 12,
     "metadata": {},
     "output_type": "execute_result"
    }
   ],
   "source": [
    "# We will be using the following variables\n",
    "df_one = df[['id', 'host_since', 'host_is_superhost', 'host_identity_verified', 'city', 'latitude', 'longitude',\n",
    "             'is_location_exact', 'property_type', 'room_type', 'accommodates', 'bathrooms', 'bedrooms', 'beds', 'price',\n",
    "             'cleaning_fee', 'guests_included', 'extra_people', 'minimum_nights', 'maximum_nights', 'availability_30', 'number_of_reviews',\n",
    "             'review_scores_rating', 'review_scores_cleanliness', 'instant_bookable', 'cancellation_policy', 'calculated_host_listings_count']].copy()\n",
    "\n",
    "df_one.shape"
   ]
  },
  {
   "cell_type": "markdown",
   "metadata": {},
   "source": [
    "For our analysis, we will be focusing on what we will subjectively consider an affordable place to stay at. So we will choose a price range from 25 to 400 per night."
   ]
  },
  {
   "cell_type": "code",
   "execution_count": 13,
   "metadata": {},
   "outputs": [
    {
     "data": {
      "text/plain": [
       "0    True\n",
       "1    True\n",
       "2    True\n",
       "3    True\n",
       "4    True\n",
       "Name: price, dtype: bool"
      ]
     },
     "execution_count": 13,
     "metadata": {},
     "output_type": "execute_result"
    }
   ],
   "source": [
    "price_mask = ((df['price'] > 25) & (df['price'] < 400))\n",
    "price_mask.head()"
   ]
  },
  {
   "cell_type": "code",
   "execution_count": 14,
   "metadata": {},
   "outputs": [
    {
     "data": {
      "text/plain": [
       "(21691, 27)"
      ]
     },
     "execution_count": 14,
     "metadata": {},
     "output_type": "execute_result"
    }
   ],
   "source": [
    "df_two = df_one[price_mask].copy()\n",
    "df_two.shape"
   ]
  },
  {
   "cell_type": "markdown",
   "metadata": {},
   "source": [
    "Let's examine the rest of the missing values in this dataset."
   ]
  },
  {
   "cell_type": "code",
   "execution_count": 15,
   "metadata": {
    "scrolled": true
   },
   "outputs": [
    {
     "data": {
      "text/plain": [
       "id                                 0.000000\n",
       "host_since                         0.013831\n",
       "host_is_superhost                  0.013831\n",
       "host_identity_verified             0.013831\n",
       "city                               0.000000\n",
       "latitude                           0.000000\n",
       "longitude                          0.000000\n",
       "is_location_exact                  0.000000\n",
       "property_type                      0.000000\n",
       "room_type                          0.000000\n",
       "accommodates                       0.000000\n",
       "bathrooms                          0.069153\n",
       "bedrooms                           0.023051\n",
       "beds                               0.138306\n",
       "price                              0.000000\n",
       "cleaning_fee                      24.143654\n",
       "guests_included                    0.000000\n",
       "extra_people                       0.000000\n",
       "minimum_nights                     0.000000\n",
       "maximum_nights                     0.000000\n",
       "availability_30                    0.000000\n",
       "number_of_reviews                  0.000000\n",
       "review_scores_rating              23.903923\n",
       "review_scores_cleanliness         23.936195\n",
       "instant_bookable                   0.000000\n",
       "cancellation_policy                0.000000\n",
       "calculated_host_listings_count     0.000000\n",
       "dtype: float64"
      ]
     },
     "execution_count": 15,
     "metadata": {},
     "output_type": "execute_result"
    }
   ],
   "source": [
    "df_two.isna().sum() / df_two.shape[0] * 100"
   ]
  },
  {
   "cell_type": "code",
   "execution_count": 17,
   "metadata": {},
   "outputs": [
    {
     "data": {
      "text/html": [
       "<div>\n",
       "<style scoped>\n",
       "    .dataframe tbody tr th:only-of-type {\n",
       "        vertical-align: middle;\n",
       "    }\n",
       "\n",
       "    .dataframe tbody tr th {\n",
       "        vertical-align: top;\n",
       "    }\n",
       "\n",
       "    .dataframe thead th {\n",
       "        text-align: right;\n",
       "    }\n",
       "</style>\n",
       "<table border=\"1\" class=\"dataframe\">\n",
       "  <thead>\n",
       "    <tr style=\"text-align: right;\">\n",
       "      <th></th>\n",
       "      <th>id</th>\n",
       "      <th>host_since</th>\n",
       "      <th>host_is_superhost</th>\n",
       "      <th>host_identity_verified</th>\n",
       "      <th>city</th>\n",
       "      <th>latitude</th>\n",
       "      <th>longitude</th>\n",
       "      <th>is_location_exact</th>\n",
       "      <th>property_type</th>\n",
       "      <th>room_type</th>\n",
       "      <th>accommodates</th>\n",
       "      <th>bathrooms</th>\n",
       "      <th>bedrooms</th>\n",
       "      <th>beds</th>\n",
       "      <th>price</th>\n",
       "      <th>cleaning_fee</th>\n",
       "      <th>guests_included</th>\n",
       "      <th>extra_people</th>\n",
       "      <th>minimum_nights</th>\n",
       "      <th>maximum_nights</th>\n",
       "      <th>availability_30</th>\n",
       "      <th>number_of_reviews</th>\n",
       "      <th>review_scores_rating</th>\n",
       "      <th>review_scores_cleanliness</th>\n",
       "      <th>instant_bookable</th>\n",
       "      <th>cancellation_policy</th>\n",
       "      <th>calculated_host_listings_count</th>\n",
       "    </tr>\n",
       "  </thead>\n",
       "  <tbody>\n",
       "    <tr>\n",
       "      <th>0</th>\n",
       "      <td>9835</td>\n",
       "      <td>2009-08-21</td>\n",
       "      <td>f</td>\n",
       "      <td>f</td>\n",
       "      <td>Manningham</td>\n",
       "      <td>-37.772684</td>\n",
       "      <td>145.092133</td>\n",
       "      <td>f</td>\n",
       "      <td>House</td>\n",
       "      <td>Private room</td>\n",
       "      <td>2</td>\n",
       "      <td>1.0</td>\n",
       "      <td>1.0</td>\n",
       "      <td>2.0</td>\n",
       "      <td>60</td>\n",
       "      <td>NaN</td>\n",
       "      <td>1</td>\n",
       "      <td>22</td>\n",
       "      <td>1</td>\n",
       "      <td>365</td>\n",
       "      <td>30</td>\n",
       "      <td>4</td>\n",
       "      <td>90.0</td>\n",
       "      <td>10.0</td>\n",
       "      <td>f</td>\n",
       "      <td>strict_14_with_grace_period</td>\n",
       "      <td>1</td>\n",
       "    </tr>\n",
       "    <tr>\n",
       "      <th>1</th>\n",
       "      <td>10803</td>\n",
       "      <td>2009-09-16</td>\n",
       "      <td>f</td>\n",
       "      <td>t</td>\n",
       "      <td>Moreland</td>\n",
       "      <td>-37.766505</td>\n",
       "      <td>144.980736</td>\n",
       "      <td>t</td>\n",
       "      <td>Apartment</td>\n",
       "      <td>Private room</td>\n",
       "      <td>2</td>\n",
       "      <td>1.0</td>\n",
       "      <td>1.0</td>\n",
       "      <td>1.0</td>\n",
       "      <td>35</td>\n",
       "      <td>9.0</td>\n",
       "      <td>1</td>\n",
       "      <td>15</td>\n",
       "      <td>3</td>\n",
       "      <td>45</td>\n",
       "      <td>4</td>\n",
       "      <td>108</td>\n",
       "      <td>87.0</td>\n",
       "      <td>8.0</td>\n",
       "      <td>t</td>\n",
       "      <td>moderate</td>\n",
       "      <td>1</td>\n",
       "    </tr>\n",
       "    <tr>\n",
       "      <th>2</th>\n",
       "      <td>12936</td>\n",
       "      <td>2009-10-31</td>\n",
       "      <td>t</td>\n",
       "      <td>t</td>\n",
       "      <td>Port Phillip</td>\n",
       "      <td>-37.859755</td>\n",
       "      <td>144.977369</td>\n",
       "      <td>t</td>\n",
       "      <td>Apartment</td>\n",
       "      <td>Entire home/apt</td>\n",
       "      <td>3</td>\n",
       "      <td>1.0</td>\n",
       "      <td>1.0</td>\n",
       "      <td>2.0</td>\n",
       "      <td>159</td>\n",
       "      <td>100.0</td>\n",
       "      <td>2</td>\n",
       "      <td>28</td>\n",
       "      <td>3</td>\n",
       "      <td>28</td>\n",
       "      <td>10</td>\n",
       "      <td>15</td>\n",
       "      <td>94.0</td>\n",
       "      <td>10.0</td>\n",
       "      <td>f</td>\n",
       "      <td>strict_14_with_grace_period</td>\n",
       "      <td>17</td>\n",
       "    </tr>\n",
       "    <tr>\n",
       "      <th>3</th>\n",
       "      <td>15246</td>\n",
       "      <td>2009-12-03</td>\n",
       "      <td>f</td>\n",
       "      <td>t</td>\n",
       "      <td>Darebin</td>\n",
       "      <td>-37.758971</td>\n",
       "      <td>144.989228</td>\n",
       "      <td>t</td>\n",
       "      <td>House</td>\n",
       "      <td>Private room</td>\n",
       "      <td>1</td>\n",
       "      <td>1.5</td>\n",
       "      <td>1.0</td>\n",
       "      <td>1.0</td>\n",
       "      <td>50</td>\n",
       "      <td>15.0</td>\n",
       "      <td>1</td>\n",
       "      <td>20</td>\n",
       "      <td>2</td>\n",
       "      <td>200</td>\n",
       "      <td>0</td>\n",
       "      <td>29</td>\n",
       "      <td>94.0</td>\n",
       "      <td>9.0</td>\n",
       "      <td>f</td>\n",
       "      <td>moderate</td>\n",
       "      <td>3</td>\n",
       "    </tr>\n",
       "    <tr>\n",
       "      <th>4</th>\n",
       "      <td>16760</td>\n",
       "      <td>2009-12-22</td>\n",
       "      <td>f</td>\n",
       "      <td>t</td>\n",
       "      <td>Port Phillip</td>\n",
       "      <td>-37.864530</td>\n",
       "      <td>144.992238</td>\n",
       "      <td>t</td>\n",
       "      <td>House</td>\n",
       "      <td>Private room</td>\n",
       "      <td>2</td>\n",
       "      <td>1.0</td>\n",
       "      <td>1.0</td>\n",
       "      <td>2.0</td>\n",
       "      <td>69</td>\n",
       "      <td>15.0</td>\n",
       "      <td>1</td>\n",
       "      <td>20</td>\n",
       "      <td>1</td>\n",
       "      <td>90</td>\n",
       "      <td>2</td>\n",
       "      <td>63</td>\n",
       "      <td>90.0</td>\n",
       "      <td>9.0</td>\n",
       "      <td>f</td>\n",
       "      <td>moderate</td>\n",
       "      <td>1</td>\n",
       "    </tr>\n",
       "  </tbody>\n",
       "</table>\n",
       "</div>"
      ],
      "text/plain": [
       "      id host_since host_is_superhost host_identity_verified          city  \\\n",
       "0   9835 2009-08-21                 f                      f    Manningham   \n",
       "1  10803 2009-09-16                 f                      t      Moreland   \n",
       "2  12936 2009-10-31                 t                      t  Port Phillip   \n",
       "3  15246 2009-12-03                 f                      t       Darebin   \n",
       "4  16760 2009-12-22                 f                      t  Port Phillip   \n",
       "\n",
       "    latitude   longitude is_location_exact property_type        room_type  \\\n",
       "0 -37.772684  145.092133                 f         House     Private room   \n",
       "1 -37.766505  144.980736                 t     Apartment     Private room   \n",
       "2 -37.859755  144.977369                 t     Apartment  Entire home/apt   \n",
       "3 -37.758971  144.989228                 t         House     Private room   \n",
       "4 -37.864530  144.992238                 t         House     Private room   \n",
       "\n",
       "   accommodates  bathrooms  bedrooms  beds  price  cleaning_fee  \\\n",
       "0             2        1.0       1.0   2.0     60           NaN   \n",
       "1             2        1.0       1.0   1.0     35           9.0   \n",
       "2             3        1.0       1.0   2.0    159         100.0   \n",
       "3             1        1.5       1.0   1.0     50          15.0   \n",
       "4             2        1.0       1.0   2.0     69          15.0   \n",
       "\n",
       "   guests_included  extra_people  minimum_nights  maximum_nights  \\\n",
       "0                1            22               1             365   \n",
       "1                1            15               3              45   \n",
       "2                2            28               3              28   \n",
       "3                1            20               2             200   \n",
       "4                1            20               1              90   \n",
       "\n",
       "   availability_30  number_of_reviews  review_scores_rating  \\\n",
       "0               30                  4                  90.0   \n",
       "1                4                108                  87.0   \n",
       "2               10                 15                  94.0   \n",
       "3                0                 29                  94.0   \n",
       "4                2                 63                  90.0   \n",
       "\n",
       "   review_scores_cleanliness instant_bookable          cancellation_policy  \\\n",
       "0                       10.0                f  strict_14_with_grace_period   \n",
       "1                        8.0                t                     moderate   \n",
       "2                       10.0                f  strict_14_with_grace_period   \n",
       "3                        9.0                f                     moderate   \n",
       "4                        9.0                f                     moderate   \n",
       "\n",
       "   calculated_host_listings_count  \n",
       "0                               1  \n",
       "1                               1  \n",
       "2                              17  \n",
       "3                               3  \n",
       "4                               1  "
      ]
     },
     "execution_count": 17,
     "metadata": {},
     "output_type": "execute_result"
    }
   ],
   "source": [
    "df_two.head()"
   ]
  },
  {
   "cell_type": "markdown",
   "metadata": {},
   "source": [
    "Let's deal with the variables with more than 20% missing values."
   ]
  },
  {
   "cell_type": "code",
   "execution_count": 18,
   "metadata": {},
   "outputs": [
    {
     "data": {
      "text/html": [
       "<div>\n",
       "<style scoped>\n",
       "    .dataframe tbody tr th:only-of-type {\n",
       "        vertical-align: middle;\n",
       "    }\n",
       "\n",
       "    .dataframe tbody tr th {\n",
       "        vertical-align: top;\n",
       "    }\n",
       "\n",
       "    .dataframe thead th {\n",
       "        text-align: right;\n",
       "    }\n",
       "</style>\n",
       "<table border=\"1\" class=\"dataframe\">\n",
       "  <thead>\n",
       "    <tr style=\"text-align: right;\">\n",
       "      <th></th>\n",
       "      <th>cleaning_fee</th>\n",
       "      <th>review_scores_rating</th>\n",
       "      <th>review_scores_cleanliness</th>\n",
       "    </tr>\n",
       "  </thead>\n",
       "  <tbody>\n",
       "    <tr>\n",
       "      <th>count</th>\n",
       "      <td>16454.000000</td>\n",
       "      <td>16506.000000</td>\n",
       "      <td>16499.000000</td>\n",
       "    </tr>\n",
       "    <tr>\n",
       "      <th>mean</th>\n",
       "      <td>62.047040</td>\n",
       "      <td>94.204289</td>\n",
       "      <td>9.428693</td>\n",
       "    </tr>\n",
       "    <tr>\n",
       "      <th>std</th>\n",
       "      <td>47.599648</td>\n",
       "      <td>8.412909</td>\n",
       "      <td>0.990403</td>\n",
       "    </tr>\n",
       "    <tr>\n",
       "      <th>min</th>\n",
       "      <td>0.000000</td>\n",
       "      <td>20.000000</td>\n",
       "      <td>2.000000</td>\n",
       "    </tr>\n",
       "    <tr>\n",
       "      <th>25%</th>\n",
       "      <td>25.000000</td>\n",
       "      <td>92.000000</td>\n",
       "      <td>9.000000</td>\n",
       "    </tr>\n",
       "    <tr>\n",
       "      <th>50%</th>\n",
       "      <td>55.000000</td>\n",
       "      <td>97.000000</td>\n",
       "      <td>10.000000</td>\n",
       "    </tr>\n",
       "    <tr>\n",
       "      <th>75%</th>\n",
       "      <td>88.000000</td>\n",
       "      <td>100.000000</td>\n",
       "      <td>10.000000</td>\n",
       "    </tr>\n",
       "    <tr>\n",
       "      <th>max</th>\n",
       "      <td>867.000000</td>\n",
       "      <td>100.000000</td>\n",
       "      <td>10.000000</td>\n",
       "    </tr>\n",
       "  </tbody>\n",
       "</table>\n",
       "</div>"
      ],
      "text/plain": [
       "       cleaning_fee  review_scores_rating  review_scores_cleanliness\n",
       "count  16454.000000          16506.000000               16499.000000\n",
       "mean      62.047040             94.204289                   9.428693\n",
       "std       47.599648              8.412909                   0.990403\n",
       "min        0.000000             20.000000                   2.000000\n",
       "25%       25.000000             92.000000                   9.000000\n",
       "50%       55.000000             97.000000                  10.000000\n",
       "75%       88.000000            100.000000                  10.000000\n",
       "max      867.000000            100.000000                  10.000000"
      ]
     },
     "execution_count": 18,
     "metadata": {},
     "output_type": "execute_result"
    }
   ],
   "source": [
    "df_two[['cleaning_fee', 'review_scores_rating', 'review_scores_cleanliness']].describe()"
   ]
  },
  {
   "cell_type": "markdown",
   "metadata": {},
   "source": [
    "We will choose the median to fill in the `NaN` values."
   ]
  },
  {
   "cell_type": "code",
   "execution_count": 19,
   "metadata": {},
   "outputs": [
    {
     "data": {
      "text/plain": [
       "cleaning_fee                 0\n",
       "review_scores_rating         0\n",
       "review_scores_cleanliness    0\n",
       "dtype: int64"
      ]
     },
     "execution_count": 19,
     "metadata": {},
     "output_type": "execute_result"
    }
   ],
   "source": [
    "lots_missing = ['cleaning_fee', 'review_scores_rating', 'review_scores_cleanliness']\n",
    "\n",
    "for col in lots_missing:\n",
    "    df_two[col] = df_two[col].fillna(df_two[col].median())\n",
    "\n",
    "df_two[lots_missing].isna().sum()"
   ]
  },
  {
   "cell_type": "code",
   "execution_count": null,
   "metadata": {},
   "outputs": [],
   "source": [
    "# Notice the memory usage at the very bottom\n",
    "df_two.info(memory_usage='deep')"
   ]
  },
  {
   "cell_type": "code",
   "execution_count": 20,
   "metadata": {},
   "outputs": [
    {
     "data": {
      "text/plain": [
       "id                                0.000000\n",
       "host_since                        0.013831\n",
       "host_is_superhost                 0.013831\n",
       "host_identity_verified            0.013831\n",
       "city                              0.000000\n",
       "latitude                          0.000000\n",
       "longitude                         0.000000\n",
       "is_location_exact                 0.000000\n",
       "property_type                     0.000000\n",
       "room_type                         0.000000\n",
       "accommodates                      0.000000\n",
       "bathrooms                         0.069153\n",
       "bedrooms                          0.023051\n",
       "beds                              0.138306\n",
       "price                             0.000000\n",
       "cleaning_fee                      0.000000\n",
       "guests_included                   0.000000\n",
       "extra_people                      0.000000\n",
       "minimum_nights                    0.000000\n",
       "maximum_nights                    0.000000\n",
       "availability_30                   0.000000\n",
       "number_of_reviews                 0.000000\n",
       "review_scores_rating              0.000000\n",
       "review_scores_cleanliness         0.000000\n",
       "instant_bookable                  0.000000\n",
       "cancellation_policy               0.000000\n",
       "calculated_host_listings_count    0.000000\n",
       "dtype: float64"
      ]
     },
     "execution_count": 20,
     "metadata": {},
     "output_type": "execute_result"
    }
   ],
   "source": [
    "df_two.isna().sum() / df_two.shape[0] * 100"
   ]
  },
  {
   "cell_type": "markdown",
   "metadata": {},
   "source": [
    "Since this is essentially scraped data and it would be a bit complicated to figure out the actual date a host started hosting guests through Airbnb, we will use forward fill to fill in the few missing dates left in the `host_since` variable. Remember, how we deal with missing values will depend on many nuances and also in our intuition as data analysts."
   ]
  },
  {
   "cell_type": "code",
   "execution_count": 21,
   "metadata": {},
   "outputs": [],
   "source": [
    "df_two['host_since'].fillna(method='ffill', inplace=True)"
   ]
  },
  {
   "cell_type": "markdown",
   "metadata": {},
   "source": [
    "We will also convert the categorical variables into the pandas `category` data type since it will represent the categories as integers with labels on top of them."
   ]
  },
  {
   "cell_type": "code",
   "execution_count": 23,
   "metadata": {},
   "outputs": [],
   "source": [
    "cols_list = ['host_is_superhost', 'host_identity_verified', 'is_location_exact', \n",
    "             'room_type', 'instant_bookable', 'cancellation_policy']\n",
    "\n",
    "for col in cols_list: # iterate over the column names\n",
    "    df_two[col].astype('category', copy=True) # change the column with that title to a category data type\n",
    "    if df_two[col].isna().any(): # if there are any missing values use the forward fill method on them\n",
    "        df_two[col].fillna(method='ffill', axis=0, inplace=True) # keep the changes in place"
   ]
  },
  {
   "cell_type": "markdown",
   "metadata": {},
   "source": [
    "To deal with some of the essentials of a place, we will pick the option that makes most sence. In this case, the median seems to be a better choice."
   ]
  },
  {
   "cell_type": "code",
   "execution_count": 24,
   "metadata": {},
   "outputs": [
    {
     "data": {
      "text/html": [
       "<div>\n",
       "<style scoped>\n",
       "    .dataframe tbody tr th:only-of-type {\n",
       "        vertical-align: middle;\n",
       "    }\n",
       "\n",
       "    .dataframe tbody tr th {\n",
       "        vertical-align: top;\n",
       "    }\n",
       "\n",
       "    .dataframe thead th {\n",
       "        text-align: right;\n",
       "    }\n",
       "</style>\n",
       "<table border=\"1\" class=\"dataframe\">\n",
       "  <thead>\n",
       "    <tr style=\"text-align: right;\">\n",
       "      <th></th>\n",
       "      <th>bathrooms</th>\n",
       "      <th>bedrooms</th>\n",
       "      <th>bedrooms</th>\n",
       "    </tr>\n",
       "  </thead>\n",
       "  <tbody>\n",
       "    <tr>\n",
       "      <th>count</th>\n",
       "      <td>21676.000000</td>\n",
       "      <td>21686.000000</td>\n",
       "      <td>21686.000000</td>\n",
       "    </tr>\n",
       "    <tr>\n",
       "      <th>mean</th>\n",
       "      <td>1.250069</td>\n",
       "      <td>1.463340</td>\n",
       "      <td>1.463340</td>\n",
       "    </tr>\n",
       "    <tr>\n",
       "      <th>std</th>\n",
       "      <td>0.506646</td>\n",
       "      <td>0.841301</td>\n",
       "      <td>0.841301</td>\n",
       "    </tr>\n",
       "    <tr>\n",
       "      <th>min</th>\n",
       "      <td>0.000000</td>\n",
       "      <td>0.000000</td>\n",
       "      <td>0.000000</td>\n",
       "    </tr>\n",
       "    <tr>\n",
       "      <th>25%</th>\n",
       "      <td>1.000000</td>\n",
       "      <td>1.000000</td>\n",
       "      <td>1.000000</td>\n",
       "    </tr>\n",
       "    <tr>\n",
       "      <th>50%</th>\n",
       "      <td>1.000000</td>\n",
       "      <td>1.000000</td>\n",
       "      <td>1.000000</td>\n",
       "    </tr>\n",
       "    <tr>\n",
       "      <th>75%</th>\n",
       "      <td>1.000000</td>\n",
       "      <td>2.000000</td>\n",
       "      <td>2.000000</td>\n",
       "    </tr>\n",
       "    <tr>\n",
       "      <th>max</th>\n",
       "      <td>6.500000</td>\n",
       "      <td>8.000000</td>\n",
       "      <td>8.000000</td>\n",
       "    </tr>\n",
       "  </tbody>\n",
       "</table>\n",
       "</div>"
      ],
      "text/plain": [
       "          bathrooms      bedrooms      bedrooms\n",
       "count  21676.000000  21686.000000  21686.000000\n",
       "mean       1.250069      1.463340      1.463340\n",
       "std        0.506646      0.841301      0.841301\n",
       "min        0.000000      0.000000      0.000000\n",
       "25%        1.000000      1.000000      1.000000\n",
       "50%        1.000000      1.000000      1.000000\n",
       "75%        1.000000      2.000000      2.000000\n",
       "max        6.500000      8.000000      8.000000"
      ]
     },
     "execution_count": 24,
     "metadata": {},
     "output_type": "execute_result"
    }
   ],
   "source": [
    "df_two[['bathrooms', 'bedrooms', 'bedrooms']].describe()"
   ]
  },
  {
   "cell_type": "code",
   "execution_count": 25,
   "metadata": {},
   "outputs": [],
   "source": [
    "essentials = ['bathrooms', 'bedrooms', 'beds']\n",
    "for col in essentials:\n",
    "    df_two[col].fillna(df_two[col].median(), inplace=True)"
   ]
  },
  {
   "cell_type": "markdown",
   "metadata": {},
   "source": [
    "Let's create a variable that resembles the true price of a stay by multiplying the price per night by the minimum number of nights required per stay at a given place. "
   ]
  },
  {
   "cell_type": "code",
   "execution_count": 26,
   "metadata": {},
   "outputs": [
    {
     "data": {
      "text/plain": [
       "0     60\n",
       "1    105\n",
       "2    477\n",
       "3    100\n",
       "4     69\n",
       "Name: min_price_stay, dtype: int64"
      ]
     },
     "execution_count": 26,
     "metadata": {},
     "output_type": "execute_result"
    }
   ],
   "source": [
    "df_two['min_price_stay'] = (df_two['price'] * df_two['minimum_nights'])\n",
    "df_two['min_price_stay'].head()"
   ]
  },
  {
   "cell_type": "markdown",
   "metadata": {},
   "source": [
    "Let's add some dates variables to our dataset."
   ]
  },
  {
   "cell_type": "code",
   "execution_count": 27,
   "metadata": {},
   "outputs": [
    {
     "data": {
      "text/html": [
       "<div>\n",
       "<style scoped>\n",
       "    .dataframe tbody tr th:only-of-type {\n",
       "        vertical-align: middle;\n",
       "    }\n",
       "\n",
       "    .dataframe tbody tr th {\n",
       "        vertical-align: top;\n",
       "    }\n",
       "\n",
       "    .dataframe thead th {\n",
       "        text-align: right;\n",
       "    }\n",
       "</style>\n",
       "<table border=\"1\" class=\"dataframe\">\n",
       "  <thead>\n",
       "    <tr style=\"text-align: right;\">\n",
       "      <th></th>\n",
       "      <th>id</th>\n",
       "      <th>host_since</th>\n",
       "      <th>host_is_superhost</th>\n",
       "      <th>host_identity_verified</th>\n",
       "      <th>city</th>\n",
       "      <th>latitude</th>\n",
       "      <th>longitude</th>\n",
       "      <th>is_location_exact</th>\n",
       "      <th>property_type</th>\n",
       "      <th>room_type</th>\n",
       "      <th>accommodates</th>\n",
       "      <th>bathrooms</th>\n",
       "      <th>bedrooms</th>\n",
       "      <th>beds</th>\n",
       "      <th>price</th>\n",
       "      <th>cleaning_fee</th>\n",
       "      <th>guests_included</th>\n",
       "      <th>extra_people</th>\n",
       "      <th>minimum_nights</th>\n",
       "      <th>maximum_nights</th>\n",
       "      <th>availability_30</th>\n",
       "      <th>number_of_reviews</th>\n",
       "      <th>review_scores_rating</th>\n",
       "      <th>review_scores_cleanliness</th>\n",
       "      <th>instant_bookable</th>\n",
       "      <th>cancellation_policy</th>\n",
       "      <th>calculated_host_listings_count</th>\n",
       "      <th>min_price_stay</th>\n",
       "      <th>month</th>\n",
       "      <th>year</th>\n",
       "      <th>week</th>\n",
       "      <th>weekday</th>\n",
       "      <th>quarter</th>\n",
       "      <th>day_of_week</th>\n",
       "      <th>week_or_end</th>\n",
       "    </tr>\n",
       "  </thead>\n",
       "  <tbody>\n",
       "    <tr>\n",
       "      <th>0</th>\n",
       "      <td>9835</td>\n",
       "      <td>2009-08-21</td>\n",
       "      <td>f</td>\n",
       "      <td>f</td>\n",
       "      <td>Manningham</td>\n",
       "      <td>-37.772684</td>\n",
       "      <td>145.092133</td>\n",
       "      <td>f</td>\n",
       "      <td>House</td>\n",
       "      <td>Private room</td>\n",
       "      <td>2</td>\n",
       "      <td>1.0</td>\n",
       "      <td>1.0</td>\n",
       "      <td>2.0</td>\n",
       "      <td>60</td>\n",
       "      <td>55.0</td>\n",
       "      <td>1</td>\n",
       "      <td>22</td>\n",
       "      <td>1</td>\n",
       "      <td>365</td>\n",
       "      <td>30</td>\n",
       "      <td>4</td>\n",
       "      <td>90.0</td>\n",
       "      <td>10.0</td>\n",
       "      <td>f</td>\n",
       "      <td>strict_14_with_grace_period</td>\n",
       "      <td>1</td>\n",
       "      <td>60</td>\n",
       "      <td>8</td>\n",
       "      <td>2009</td>\n",
       "      <td>34</td>\n",
       "      <td>4</td>\n",
       "      <td>3</td>\n",
       "      <td>Friday</td>\n",
       "      <td>week_day</td>\n",
       "    </tr>\n",
       "    <tr>\n",
       "      <th>1</th>\n",
       "      <td>10803</td>\n",
       "      <td>2009-09-16</td>\n",
       "      <td>f</td>\n",
       "      <td>t</td>\n",
       "      <td>Moreland</td>\n",
       "      <td>-37.766505</td>\n",
       "      <td>144.980736</td>\n",
       "      <td>t</td>\n",
       "      <td>Apartment</td>\n",
       "      <td>Private room</td>\n",
       "      <td>2</td>\n",
       "      <td>1.0</td>\n",
       "      <td>1.0</td>\n",
       "      <td>1.0</td>\n",
       "      <td>35</td>\n",
       "      <td>9.0</td>\n",
       "      <td>1</td>\n",
       "      <td>15</td>\n",
       "      <td>3</td>\n",
       "      <td>45</td>\n",
       "      <td>4</td>\n",
       "      <td>108</td>\n",
       "      <td>87.0</td>\n",
       "      <td>8.0</td>\n",
       "      <td>t</td>\n",
       "      <td>moderate</td>\n",
       "      <td>1</td>\n",
       "      <td>105</td>\n",
       "      <td>9</td>\n",
       "      <td>2009</td>\n",
       "      <td>38</td>\n",
       "      <td>2</td>\n",
       "      <td>3</td>\n",
       "      <td>Wednesday</td>\n",
       "      <td>week_day</td>\n",
       "    </tr>\n",
       "    <tr>\n",
       "      <th>2</th>\n",
       "      <td>12936</td>\n",
       "      <td>2009-10-31</td>\n",
       "      <td>t</td>\n",
       "      <td>t</td>\n",
       "      <td>Port Phillip</td>\n",
       "      <td>-37.859755</td>\n",
       "      <td>144.977369</td>\n",
       "      <td>t</td>\n",
       "      <td>Apartment</td>\n",
       "      <td>Entire home/apt</td>\n",
       "      <td>3</td>\n",
       "      <td>1.0</td>\n",
       "      <td>1.0</td>\n",
       "      <td>2.0</td>\n",
       "      <td>159</td>\n",
       "      <td>100.0</td>\n",
       "      <td>2</td>\n",
       "      <td>28</td>\n",
       "      <td>3</td>\n",
       "      <td>28</td>\n",
       "      <td>10</td>\n",
       "      <td>15</td>\n",
       "      <td>94.0</td>\n",
       "      <td>10.0</td>\n",
       "      <td>f</td>\n",
       "      <td>strict_14_with_grace_period</td>\n",
       "      <td>17</td>\n",
       "      <td>477</td>\n",
       "      <td>10</td>\n",
       "      <td>2009</td>\n",
       "      <td>44</td>\n",
       "      <td>5</td>\n",
       "      <td>4</td>\n",
       "      <td>Saturday</td>\n",
       "      <td>weekend</td>\n",
       "    </tr>\n",
       "    <tr>\n",
       "      <th>3</th>\n",
       "      <td>15246</td>\n",
       "      <td>2009-12-03</td>\n",
       "      <td>f</td>\n",
       "      <td>t</td>\n",
       "      <td>Darebin</td>\n",
       "      <td>-37.758971</td>\n",
       "      <td>144.989228</td>\n",
       "      <td>t</td>\n",
       "      <td>House</td>\n",
       "      <td>Private room</td>\n",
       "      <td>1</td>\n",
       "      <td>1.5</td>\n",
       "      <td>1.0</td>\n",
       "      <td>1.0</td>\n",
       "      <td>50</td>\n",
       "      <td>15.0</td>\n",
       "      <td>1</td>\n",
       "      <td>20</td>\n",
       "      <td>2</td>\n",
       "      <td>200</td>\n",
       "      <td>0</td>\n",
       "      <td>29</td>\n",
       "      <td>94.0</td>\n",
       "      <td>9.0</td>\n",
       "      <td>f</td>\n",
       "      <td>moderate</td>\n",
       "      <td>3</td>\n",
       "      <td>100</td>\n",
       "      <td>12</td>\n",
       "      <td>2009</td>\n",
       "      <td>49</td>\n",
       "      <td>3</td>\n",
       "      <td>4</td>\n",
       "      <td>Thursday</td>\n",
       "      <td>week_day</td>\n",
       "    </tr>\n",
       "    <tr>\n",
       "      <th>4</th>\n",
       "      <td>16760</td>\n",
       "      <td>2009-12-22</td>\n",
       "      <td>f</td>\n",
       "      <td>t</td>\n",
       "      <td>Port Phillip</td>\n",
       "      <td>-37.864530</td>\n",
       "      <td>144.992238</td>\n",
       "      <td>t</td>\n",
       "      <td>House</td>\n",
       "      <td>Private room</td>\n",
       "      <td>2</td>\n",
       "      <td>1.0</td>\n",
       "      <td>1.0</td>\n",
       "      <td>2.0</td>\n",
       "      <td>69</td>\n",
       "      <td>15.0</td>\n",
       "      <td>1</td>\n",
       "      <td>20</td>\n",
       "      <td>1</td>\n",
       "      <td>90</td>\n",
       "      <td>2</td>\n",
       "      <td>63</td>\n",
       "      <td>90.0</td>\n",
       "      <td>9.0</td>\n",
       "      <td>f</td>\n",
       "      <td>moderate</td>\n",
       "      <td>1</td>\n",
       "      <td>69</td>\n",
       "      <td>12</td>\n",
       "      <td>2009</td>\n",
       "      <td>52</td>\n",
       "      <td>1</td>\n",
       "      <td>4</td>\n",
       "      <td>Tuesday</td>\n",
       "      <td>week_day</td>\n",
       "    </tr>\n",
       "  </tbody>\n",
       "</table>\n",
       "</div>"
      ],
      "text/plain": [
       "      id host_since host_is_superhost host_identity_verified          city  \\\n",
       "0   9835 2009-08-21                 f                      f    Manningham   \n",
       "1  10803 2009-09-16                 f                      t      Moreland   \n",
       "2  12936 2009-10-31                 t                      t  Port Phillip   \n",
       "3  15246 2009-12-03                 f                      t       Darebin   \n",
       "4  16760 2009-12-22                 f                      t  Port Phillip   \n",
       "\n",
       "    latitude   longitude is_location_exact property_type        room_type  \\\n",
       "0 -37.772684  145.092133                 f         House     Private room   \n",
       "1 -37.766505  144.980736                 t     Apartment     Private room   \n",
       "2 -37.859755  144.977369                 t     Apartment  Entire home/apt   \n",
       "3 -37.758971  144.989228                 t         House     Private room   \n",
       "4 -37.864530  144.992238                 t         House     Private room   \n",
       "\n",
       "   accommodates  bathrooms  bedrooms  beds  price  cleaning_fee  \\\n",
       "0             2        1.0       1.0   2.0     60          55.0   \n",
       "1             2        1.0       1.0   1.0     35           9.0   \n",
       "2             3        1.0       1.0   2.0    159         100.0   \n",
       "3             1        1.5       1.0   1.0     50          15.0   \n",
       "4             2        1.0       1.0   2.0     69          15.0   \n",
       "\n",
       "   guests_included  extra_people  minimum_nights  maximum_nights  \\\n",
       "0                1            22               1             365   \n",
       "1                1            15               3              45   \n",
       "2                2            28               3              28   \n",
       "3                1            20               2             200   \n",
       "4                1            20               1              90   \n",
       "\n",
       "   availability_30  number_of_reviews  review_scores_rating  \\\n",
       "0               30                  4                  90.0   \n",
       "1                4                108                  87.0   \n",
       "2               10                 15                  94.0   \n",
       "3                0                 29                  94.0   \n",
       "4                2                 63                  90.0   \n",
       "\n",
       "   review_scores_cleanliness instant_bookable          cancellation_policy  \\\n",
       "0                       10.0                f  strict_14_with_grace_period   \n",
       "1                        8.0                t                     moderate   \n",
       "2                       10.0                f  strict_14_with_grace_period   \n",
       "3                        9.0                f                     moderate   \n",
       "4                        9.0                f                     moderate   \n",
       "\n",
       "   calculated_host_listings_count  min_price_stay  month  year  week  weekday  \\\n",
       "0                               1              60      8  2009    34        4   \n",
       "1                               1             105      9  2009    38        2   \n",
       "2                              17             477     10  2009    44        5   \n",
       "3                               3             100     12  2009    49        3   \n",
       "4                               1              69     12  2009    52        1   \n",
       "\n",
       "   quarter day_of_week week_or_end  \n",
       "0        3      Friday    week_day  \n",
       "1        3   Wednesday    week_day  \n",
       "2        4    Saturday     weekend  \n",
       "3        4    Thursday    week_day  \n",
       "4        4     Tuesday    week_day  "
      ]
     },
     "execution_count": 27,
     "metadata": {},
     "output_type": "execute_result"
    }
   ],
   "source": [
    "df_two['month'] = df_two['host_since'].dt.month\n",
    "df_two['year'] = df_two['host_since'].dt.year\n",
    "df_two['week'] = df_two['host_since'].dt.week\n",
    "df_two['weekday'] = df_two['host_since'].dt.weekday\n",
    "df_two['quarter'] = df_two['host_since'].dt.quarter\n",
    "df_two['day_of_week'] = df_two['host_since'].dt.day_name()\n",
    "df_two['week_or_end'] = df_two['weekday'].apply(lambda x: 'weekend' if x >= 5 else 'week_day')\n",
    "df_two.head()"
   ]
  },
  {
   "cell_type": "markdown",
   "metadata": {},
   "source": [
    "Checking the missing values one last time."
   ]
  },
  {
   "cell_type": "code",
   "execution_count": 28,
   "metadata": {
    "scrolled": true
   },
   "outputs": [
    {
     "data": {
      "text/plain": [
       "id                                0.0\n",
       "host_since                        0.0\n",
       "host_is_superhost                 0.0\n",
       "host_identity_verified            0.0\n",
       "city                              0.0\n",
       "latitude                          0.0\n",
       "longitude                         0.0\n",
       "is_location_exact                 0.0\n",
       "property_type                     0.0\n",
       "room_type                         0.0\n",
       "accommodates                      0.0\n",
       "bathrooms                         0.0\n",
       "bedrooms                          0.0\n",
       "beds                              0.0\n",
       "price                             0.0\n",
       "cleaning_fee                      0.0\n",
       "guests_included                   0.0\n",
       "extra_people                      0.0\n",
       "minimum_nights                    0.0\n",
       "maximum_nights                    0.0\n",
       "availability_30                   0.0\n",
       "number_of_reviews                 0.0\n",
       "review_scores_rating              0.0\n",
       "review_scores_cleanliness         0.0\n",
       "instant_bookable                  0.0\n",
       "cancellation_policy               0.0\n",
       "calculated_host_listings_count    0.0\n",
       "min_price_stay                    0.0\n",
       "month                             0.0\n",
       "year                              0.0\n",
       "week                              0.0\n",
       "weekday                           0.0\n",
       "quarter                           0.0\n",
       "day_of_week                       0.0\n",
       "week_or_end                       0.0\n",
       "dtype: float64"
      ]
     },
     "execution_count": 28,
     "metadata": {},
     "output_type": "execute_result"
    }
   ],
   "source": [
    "df_two.isna().sum() / df_two.shape[0] * 100"
   ]
  },
  {
   "cell_type": "markdown",
   "metadata": {},
   "source": [
    "Mission accomplished, we now have a clean dataset to work with. Let's proceed to save it so that we don't have to repeat the process in case we need to turn off our computers, come back, and pick up where we left.\n",
    "\n",
    "It is not a must to reset the index, and you specially don't want to do it if it is the only identifier you have in common between the raw data and the clean one, but since we have an `id` column, the index doesn't add or subtract much to our dataset. Hence why we will reset it."
   ]
  },
  {
   "cell_type": "code",
   "execution_count": 29,
   "metadata": {},
   "outputs": [],
   "source": [
    "df_ready = df_two.reset_index(drop=True).copy()"
   ]
  },
  {
   "cell_type": "code",
   "execution_count": 30,
   "metadata": {},
   "outputs": [],
   "source": [
    "# Let's save clean data for later use\n",
    "\n",
    "df_ready.to_csv('mel_airbnb_ready.csv', index=False)"
   ]
  },
  {
   "cell_type": "markdown",
   "metadata": {},
   "source": [
    "# 4. Describing Data"
   ]
  },
  {
   "cell_type": "markdown",
   "metadata": {},
   "source": [
    "![cool_stats](https://miro.medium.com/max/2416/1*x562RQ21PKPV4BCdt2TkJg.gif)\n",
    "**Source:** https://github.com/jwilber/roughViz\n",
    "\n",
    "**What are descriptive statistics?**\n",
    "\n",
    "Descriptive Statistics is the process of describing and presenting your data. This is usually done through tables, visualisations and written descriptions of data. For example, if you conduct a survey to find out how much people like a particular brand, you will want to report the number of people that took the survey (the count), the average, minimum, and maximum age or even the median income of every respondant. With these data alone, we could move onto to making more informed and important decisions.\n",
    "\n",
    "In the previous survey example, every survey taker would be a row, and every question in that survey would form the columns (see table below). Income, age, and favourite brand, would all represent different arrays or vectors of information in a two-dimensional matrix or dataset.\n",
    "\n",
    "|    Name   |   Income  |  Age  | Favourite Brand |\n",
    "|-----------|-----------|-------|-----------------|\n",
    "|  Abraham  |   70,000  |   25  |   Nike          |\n",
    "|  Lisa     |  110,000  |   31  |   Apple         |\n",
    "|  Mark     |   80,000  |   24  |   Garmin        |\n",
    "|  Penelope |   55,000  |   49  |   Microsoft     |\n",
    "|  Michaela |   74,000  |   51  |   ZARA          |\n",
    "|  Nicholas |   61,000  |   36  |   Adiddas       |\n",
    "\n",
    "Every one of these arrays can represent a categrorical or quantitative variable. Since data are often messy and even unstructured, we might also find other data structures, or free text (long strings) as the elements of a table like the one above. For the most part though, we will focus on the two types of variables we will often see, quantitative and categorical variables to describe our dataset.\n",
    "\n",
    "Descriptive statistics are often shown through tables and visualisations. For example, imagine you'd like to know the average life expectancy of people at age 60 in a specific group of countries. That visualisation would look like the one below.\n",
    "\n",
    "![life_exp](pictures/live_exp.png)\n",
    "\n",
    "__So what should we look for when we want to describe data?__ We want to look for information that gives us facts about the data, such as the most common value of a set of characteristics, how far is a given value in variable from the average value of that same variable (e.g. how far is the age of a teacher selected at random from the average age of all teachers in Sydney). These two kinds of values, the average of a set and the variability of each value in a set, are part of what is known as measures of central tendency and measures of variability, respectively.\n",
    "\n",
    "__Measures of Central tendency__, also classified as summary statistics, are calculations that help us describe any data point in our dataset in relation to the most common values. The most common determinants of central tendency are the mean, median, and mode.\n",
    "\n",
    "__Measures of Variability__ tell us how spread-out our data is. Think about this as how much variation there is, whether up or down, in the income of your closest friends to that of the income of the average Australian. That distance from the income of your friends to the most common income (the average of all) gives us insights as to how much income variability there is in the entire population of Australia. In this instance, your friends would be consider a sample of the population.\n",
    "\n",
    "The most common measures of variability are the range, variance and standard deviation.\n",
    "\n",
    "**How do we describe categories and quantities?**\n",
    "\n",
    "Categorical variables can be shown using frequency tables and visualisations where each category of the variable is given a number representing the number of times that category was found in the dataset. For example, a question in a survey containing answer choices ranging from Strongly Agree to Strongly Disagree will have 5 categories.\n",
    "\n",
    "Quantitative variables, on the other hand, can be summarised with averages, percentiles, scatterplots, etc., and tend to provide different perspectives and insights than qualitative variables.\n",
    "\n",
    "The most useful set of facts we will need will often come from a combination of both, qualitative and quantitative variables. Descriptive Statistics are specially useful when we have a lot of data and want to convey relevant information fast.\n",
    "\n",
    "Let's go over each one of the most important descriptive statistics."
   ]
  },
  {
   "cell_type": "code",
   "execution_count": 31,
   "metadata": {},
   "outputs": [],
   "source": [
    "import pandas as pd\n",
    "import numpy as np\n",
    "import matplotlib.pyplot as plt\n",
    "import seaborn as sns\n",
    "plt.style.use('fivethirtyeight')\n",
    "\n",
    "pd.set_option('display.max_columns', None)\n",
    "pd.set_option('display.max_rows', None)\n",
    "\n",
    "%matplotlib inline"
   ]
  },
  {
   "cell_type": "code",
   "execution_count": 32,
   "metadata": {},
   "outputs": [],
   "source": [
    "df = pd.read_csv('mel_airbnb_ready.csv', parse_dates=['host_since'])"
   ]
  },
  {
   "cell_type": "code",
   "execution_count": 33,
   "metadata": {
    "scrolled": true
   },
   "outputs": [
    {
     "name": "stdout",
     "output_type": "stream",
     "text": [
      "<class 'pandas.core.frame.DataFrame'>\n",
      "RangeIndex: 21691 entries, 0 to 21690\n",
      "Data columns (total 35 columns):\n",
      " #   Column                          Non-Null Count  Dtype         \n",
      "---  ------                          --------------  -----         \n",
      " 0   id                              21691 non-null  int64         \n",
      " 1   host_since                      21691 non-null  datetime64[ns]\n",
      " 2   host_is_superhost               21691 non-null  object        \n",
      " 3   host_identity_verified          21691 non-null  object        \n",
      " 4   city                            21691 non-null  object        \n",
      " 5   latitude                        21691 non-null  float64       \n",
      " 6   longitude                       21691 non-null  float64       \n",
      " 7   is_location_exact               21691 non-null  object        \n",
      " 8   property_type                   21691 non-null  object        \n",
      " 9   room_type                       21691 non-null  object        \n",
      " 10  accommodates                    21691 non-null  int64         \n",
      " 11  bathrooms                       21691 non-null  float64       \n",
      " 12  bedrooms                        21691 non-null  float64       \n",
      " 13  beds                            21691 non-null  float64       \n",
      " 14  price                           21691 non-null  int64         \n",
      " 15  cleaning_fee                    21691 non-null  float64       \n",
      " 16  guests_included                 21691 non-null  int64         \n",
      " 17  extra_people                    21691 non-null  int64         \n",
      " 18  minimum_nights                  21691 non-null  int64         \n",
      " 19  maximum_nights                  21691 non-null  int64         \n",
      " 20  availability_30                 21691 non-null  int64         \n",
      " 21  number_of_reviews               21691 non-null  int64         \n",
      " 22  review_scores_rating            21691 non-null  float64       \n",
      " 23  review_scores_cleanliness       21691 non-null  float64       \n",
      " 24  instant_bookable                21691 non-null  object        \n",
      " 25  cancellation_policy             21691 non-null  object        \n",
      " 26  calculated_host_listings_count  21691 non-null  int64         \n",
      " 27  min_price_stay                  21691 non-null  int64         \n",
      " 28  month                           21691 non-null  int64         \n",
      " 29  year                            21691 non-null  int64         \n",
      " 30  week                            21691 non-null  int64         \n",
      " 31  weekday                         21691 non-null  int64         \n",
      " 32  quarter                         21691 non-null  int64         \n",
      " 33  day_of_week                     21691 non-null  object        \n",
      " 34  week_or_end                     21691 non-null  object        \n",
      "dtypes: datetime64[ns](1), float64(8), int64(16), object(10)\n",
      "memory usage: 5.0+ MB\n"
     ]
    }
   ],
   "source": [
    "df.info()"
   ]
  },
  {
   "cell_type": "code",
   "execution_count": null,
   "metadata": {},
   "outputs": [],
   "source": [
    "df.head(3)"
   ]
  },
  {
   "cell_type": "markdown",
   "metadata": {},
   "source": [
    "## Count"
   ]
  },
  {
   "cell_type": "markdown",
   "metadata": {},
   "source": [
    " We will need to know how many observations (also known as the n count) are in our dataset and that is exactly what `len()` gives us. We pass an array of values through the function and returns the number of all values in that array. `len()` also takes in strings and gives us back the total number of elements inside a string."
   ]
  },
  {
   "cell_type": "code",
   "execution_count": 34,
   "metadata": {},
   "outputs": [
    {
     "data": {
      "text/plain": [
       "21691"
      ]
     },
     "execution_count": 34,
     "metadata": {},
     "output_type": "execute_result"
    }
   ],
   "source": [
    "len(df)"
   ]
  },
  {
   "cell_type": "markdown",
   "metadata": {},
   "source": [
    "We can also count specific categories visually with seaborn."
   ]
  },
  {
   "cell_type": "code",
   "execution_count": 35,
   "metadata": {},
   "outputs": [
    {
     "data": {
      "image/png": "[encoded data removed]",
      "text/plain": [
       "<Figure size 360x360 with 1 Axes>"
      ]
     },
     "metadata": {
      "needs_background": "light"
     },
     "output_type": "display_data"
    }
   ],
   "source": [
    "sns.catplot(x='room_type', data=df, kind='count')\n",
    "plt.xlabel(\"Room Type\")\n",
    "plt.title(\"Count per room type offered in Melbourne\")\n",
    "plt.show()"
   ]
  },
  {
   "cell_type": "markdown",
   "metadata": {},
   "source": [
    "## Mean"
   ]
  },
  {
   "cell_type": "markdown",
   "metadata": {},
   "source": [
    "What we call the mean is actually the arithmetic mean. This is the sum of all the values in a set or array, divided by the amount of numbers in such array. While zeros are always counted in the arithmetic mean, in Python, empty values or `NaN`s are never counted towards that or any other operation.\n",
    "\n",
    "$\\overline{X}=\\dfrac{1}{n}\\sum x_{i}$\n",
    "\n",
    "In the folmula above, \n",
    "- $\\overline{X}$ stands for the mean\n",
    "- `n` is the lenght of the array, vector, set, or list\n",
    "- $\\dfrac{1}{n}$ means we will divide everything by the lenght\n",
    "- The greek letter $\\sum$ denotes the sumation of all proceding values\n",
    "- $x_{i}$ means every `x` value starting from `i`. In other words, every element of the array"
   ]
  },
  {
   "cell_type": "code",
   "execution_count": null,
   "metadata": {},
   "outputs": [],
   "source": [
    "# Setting pandas fload option to 5 decimal places helps us get rid of scientific notation\n",
    "pd.options.display.float_format = '{:.5f}'.format"
   ]
  },
  {
   "cell_type": "markdown",
   "metadata": {},
   "source": [
    "We can observe the mean of all quantitative variables in a dataframe with the method `.mean()`."
   ]
  },
  {
   "cell_type": "code",
   "execution_count": null,
   "metadata": {},
   "outputs": [],
   "source": [
    "df.mean()"
   ]
  },
  {
   "cell_type": "code",
   "execution_count": null,
   "metadata": {},
   "outputs": [],
   "source": [
    "# the same works with np methods\n",
    "np.mean(df)"
   ]
  },
  {
   "cell_type": "markdown",
   "metadata": {},
   "source": [
    "We can also calculate the mean ourselves with plain Python code."
   ]
  },
  {
   "cell_type": "code",
   "execution_count": null,
   "metadata": {},
   "outputs": [],
   "source": [
    "sum(df['price']) / len(df)"
   ]
  },
  {
   "cell_type": "markdown",
   "metadata": {},
   "source": [
    "## Median"
   ]
  },
  {
   "cell_type": "markdown",
   "metadata": {},
   "source": [
    "The median will order an array of numbers from lowest to highest and select the number in the middle. This means that the median is effectively the 50th percentile of any array.\n",
    "\n",
    "If the array has an even amount of numbers, it will return the average of the middle two numbers. If the arrays has an odd amount of numbers, it will return the one in the middle.\n",
    "\n",
    "Just like with the `.mean()` method, we can use the `.median()` method on our dataframe and it will return the a median value for all numerical variables in our dataset."
   ]
  },
  {
   "cell_type": "code",
   "execution_count": null,
   "metadata": {},
   "outputs": [],
   "source": [
    "df.median()"
   ]
  },
  {
   "cell_type": "markdown",
   "metadata": {},
   "source": [
    "We know that our array has an odd number of elements, so if we want to get the number at the 50th percentile of our variable `price`, we could pass in a slice that selects that same middle number. We need to use a floor division because any regular division in Python returns a float and we can't pass floats to a slice."
   ]
  },
  {
   "cell_type": "code",
   "execution_count": null,
   "metadata": {},
   "outputs": [],
   "source": [
    "# odd array\n",
    "sorted(df['price'])[len(df) // 2]"
   ]
  },
  {
   "cell_type": "markdown",
   "metadata": {},
   "source": [
    "We can also divide normally and surround the operation with `int()` to make sure we get an integer for our slice."
   ]
  },
  {
   "cell_type": "code",
   "execution_count": null,
   "metadata": {},
   "outputs": [],
   "source": [
    "# odd array again\n",
    "sorted(df['price'])[int(len(df) / 2)]"
   ]
  },
  {
   "cell_type": "markdown",
   "metadata": {},
   "source": [
    "To manually get the median of an even array, we need to do a bit more work. We need to\n",
    "\n",
    "- sort the array\n",
    "- create a slice for the middle number and subtract one\n",
    "- add the value on the previous step to another slice without subtracting 1\n",
    "- divide the result by 2"
   ]
  },
  {
   "cell_type": "code",
   "execution_count": null,
   "metadata": {},
   "outputs": [],
   "source": [
    "# even array\n",
    "arr = np.arange(10)\n",
    "\n",
    "# sum the lower and higher slicers surrounding the median and divide by 2\n",
    "(sorted(arr)[len(arr) // 2 - 1] + sorted(arr)[len(arr) // 2]) / 2"
   ]
  },
  {
   "cell_type": "markdown",
   "metadata": {},
   "source": [
    "## Mode"
   ]
  },
  {
   "cell_type": "markdown",
   "metadata": {},
   "source": [
    "Mode is the most frequent number in an array of numbers. To get the mode we can pass the `.mode()` method to a series or, we take advantage of the library SciPy. (SciPy stands for scientific computing.) This library is a cousing of NumPy and it comes with many similar, and other new functionalities on top of NumPy."
   ]
  },
  {
   "cell_type": "code",
   "execution_count": null,
   "metadata": {},
   "outputs": [],
   "source": [
    "df['city'].mode()"
   ]
  },
  {
   "cell_type": "code",
   "execution_count": null,
   "metadata": {},
   "outputs": [],
   "source": [
    "# we import the mode function from scipy\n",
    "from scipy.stats import mode"
   ]
  },
  {
   "cell_type": "markdown",
   "metadata": {},
   "source": [
    "When we import the `mode` function we can pass it to our dataframe and it will return a scipy object with two arrays, one for the values that appear the most, and another for the times it appears the most."
   ]
  },
  {
   "cell_type": "code",
   "execution_count": null,
   "metadata": {},
   "outputs": [],
   "source": [
    "mode(df)"
   ]
  },
  {
   "cell_type": "markdown",
   "metadata": {},
   "source": [
    "We can pass in this structure to an `np.array()`, transpose it, and get an array of tuples with each element and its respective value."
   ]
  },
  {
   "cell_type": "code",
   "execution_count": null,
   "metadata": {},
   "outputs": [],
   "source": [
    "np.array((mode(df))).T"
   ]
  },
  {
   "cell_type": "markdown",
   "metadata": {},
   "source": [
    "## Percentiles"
   ]
  },
  {
   "cell_type": "markdown",
   "metadata": {},
   "source": [
    "Percentiles give us the value at a given location of the array. For example, `np.percentile(array, 25)` will return the number where 75% of the data is above of, and 25% of the data is below of."
   ]
  },
  {
   "cell_type": "code",
   "execution_count": null,
   "metadata": {},
   "outputs": [],
   "source": [
    "np.percentile(df['min_price_stay'], 25)"
   ]
  },
  {
   "cell_type": "code",
   "execution_count": 36,
   "metadata": {},
   "outputs": [
    {
     "data": {
      "text/plain": [
       "375.0"
      ]
     },
     "execution_count": 36,
     "metadata": {},
     "output_type": "execute_result"
    }
   ],
   "source": [
    "np.percentile(df['min_price_stay'], 75)"
   ]
  },
  {
   "cell_type": "markdown",
   "metadata": {},
   "source": [
    "We can also get a particular percentile manually by multiplying percentages by the length of the array inside a slice on a sorted array. Think of this as masking."
   ]
  },
  {
   "cell_type": "code",
   "execution_count": 37,
   "metadata": {},
   "outputs": [
    {
     "data": {
      "text/plain": [
       "375"
      ]
     },
     "execution_count": 37,
     "metadata": {},
     "output_type": "execute_result"
    }
   ],
   "source": [
    "sorted(df['min_price_stay'])[int(0.75 * len(df))]"
   ]
  },
  {
   "cell_type": "markdown",
   "metadata": {},
   "source": [
    "## Range"
   ]
  },
  {
   "cell_type": "markdown",
   "metadata": {},
   "source": [
    "The Range of a set is the difference between the maximum and minimum numbers of an array. Going back to our income example, if the highest-paid person in Australia made 2,000,000/year and the lowest-paid person made 500/year, then the range of that set would be the difference between the two, or 1,999,500. This is regardless of the lenght of the array. Range focuses on content.\n",
    "\n",
    "We can use `np.ptp()` to get the range of a numerical array or we can compute the range ourselves in several different ways with regular Python."
   ]
  },
  {
   "cell_type": "code",
   "execution_count": null,
   "metadata": {},
   "outputs": [],
   "source": [
    "np.ptp(df['cleaning_fee'])"
   ]
  },
  {
   "cell_type": "code",
   "execution_count": null,
   "metadata": {},
   "outputs": [],
   "source": [
    "max(df['cleaning_fee']) - min(df['cleaning_fee'])"
   ]
  },
  {
   "cell_type": "code",
   "execution_count": null,
   "metadata": {},
   "outputs": [],
   "source": [
    "#use for max and min as well\n",
    "sorted(df['cleaning_fee'])[-1] - sorted(df['cleaning_fee'])[0]"
   ]
  },
  {
   "cell_type": "markdown",
   "metadata": {},
   "source": [
    "## Variance"
   ]
  },
  {
   "cell_type": "markdown",
   "metadata": {},
   "source": [
    "Variance tells us how much variation to expect in an array of data ($x$) with at least 2 numbers. For example, imagine that we have two groups, each with 5 professional athletes (two arrays of 5 elements each). One group of soccer players and another group of tennis players. We first ask each group how much do they spend eating out each week. We then calculate the average of those amounts, and, to our surprise, we find out that both groups of athletes spend the same, 570/week eating out.\n",
    "\n",
    "Although the average is the same, the variation between both can be extremely large. If one array has `[570, 570, 570, 570, 570]` and the other has `[700, 380, 200, 650, 920]`, the variation of the first would be equal to `0` while the variation of the second would be much greater than that.\n",
    "\n",
    "Here is the mathematical formula for the variance. Where sum the squared difference of each data point of an array by mean of that array. We then divide the sum the the lenght of the array.\n",
    "\n",
    "$S^{2}=\\dfrac {1}{n-1}\\sum _{i}\\left( x_{i}-\\overline {x}\\right) ^{2}$\n",
    "\n",
    "In the folmula above, \n",
    "- $\\overline{X}$ stands for the mean\n",
    "- `n` is the lenght of the array, vector, set, or list\n",
    "- $\\dfrac{1}{n-1}$ means we will divide everything by the lenght\n",
    "- The greek letter $\\sum$ denotes sumation\n",
    "- $x_{i}$ means every `x` value starting from `i`. In other words, every element of the array\n",
    "- $S^{2}$ --> squared standard deviation of a set\n",
    "- $\\left( x_{i}-\\overline {x}\\right) ^{2}$ means the square difference\n",
    "\n",
    "Let's calculate the variance using different methods in Python."
   ]
  },
  {
   "cell_type": "code",
   "execution_count": 38,
   "metadata": {},
   "outputs": [
    {
     "data": {
      "text/plain": [
       "id                                6.644900e+13\n",
       "latitude                          4.350730e-03\n",
       "longitude                         1.576110e-02\n",
       "accommodates                      4.152333e+00\n",
       "bathrooms                         2.565554e-01\n",
       "bedrooms                          7.076731e-01\n",
       "beds                              1.915892e+00\n",
       "price                             5.121379e+03\n",
       "cleaning_fee                      1.727768e+03\n",
       "guests_included                   1.675293e+00\n",
       "extra_people                      4.070645e+02\n",
       "minimum_nights                    6.862483e+02\n",
       "maximum_nights                    4.610393e+11\n",
       "availability_30                   1.082309e+02\n",
       "number_of_reviews                 1.572970e+03\n",
       "review_scores_rating              5.527957e+01\n",
       "review_scores_cleanliness         8.055258e-01\n",
       "calculated_host_listings_count    2.381787e+02\n",
       "min_price_stay                    1.109477e+07\n",
       "month                             1.176030e+01\n",
       "year                              3.495575e+00\n",
       "week                              2.249844e+02\n",
       "weekday                           4.236183e+00\n",
       "quarter                           1.243084e+00\n",
       "dtype: float64"
      ]
     },
     "execution_count": 38,
     "metadata": {},
     "output_type": "execute_result"
    }
   ],
   "source": [
    "# we can use a method on the entire array\n",
    "df.var()"
   ]
  },
  {
   "cell_type": "markdown",
   "metadata": {},
   "source": [
    "We can also use the numpy method on a one dimensional array."
   ]
  },
  {
   "cell_type": "code",
   "execution_count": 41,
   "metadata": {},
   "outputs": [
    {
     "data": {
      "text/plain": [
       "5121.1432439902965"
      ]
     },
     "execution_count": 41,
     "metadata": {},
     "output_type": "execute_result"
    }
   ],
   "source": [
    "np.var(df['price'])"
   ]
  },
  {
   "cell_type": "markdown",
   "metadata": {},
   "source": [
    "The last option is to do it ourselved with by coding every step of the formula."
   ]
  },
  {
   "cell_type": "code",
   "execution_count": 40,
   "metadata": {},
   "outputs": [
    {
     "data": {
      "text/plain": [
       "5121.379350179507"
      ]
     },
     "execution_count": 40,
     "metadata": {},
     "output_type": "execute_result"
    }
   ],
   "source": [
    "sum([(x - df['price'].mean()) ** 2 for x in df['price']]) / (len(df['price']) - 1)"
   ]
  },
  {
   "cell_type": "markdown",
   "metadata": {},
   "source": [
    "Let's unpack what just happened in the cell above.\n",
    "\n",
    "- We initialised a list comprehension\n",
    "- we subtracted the mean of the price column from every one its prices\n",
    "- we squared the result\n",
    "- sumed everything up\n",
    "- and finished by dividing the final product by the n count minus 1\n",
    "\n",
    "In statistics, the variance and the standard deviation of a sample al always divided by `n - 1`. This is to signify the understatement of the true parameter $\\overline {X}$ which we don't know."
   ]
  },
  {
   "cell_type": "markdown",
   "metadata": {},
   "source": [
    "## Standard Deviation"
   ]
  },
  {
   "cell_type": "markdown",
   "metadata": {},
   "source": [
    "The Standard Deviation measures the dispersion of data from its mean. Think of the dispertion as percentage blocks of data surrounding the average value (see the picture below).\n",
    "\n",
    "![std](https://sway.office.com/s/EfPj5fmDwSziDupy/images/iJQFxVhHL6o7Sq?quality=860&allowAnimation=false)  \n",
    "**Source:** https://sixsigmadsi.com/standard-deviation-measure-of-dispersion/\n",
    "\n",
    "Every data point in these blocks is said to be 1, 2, or 3 standard deviations from the average value. In addition, these blocks provide us with a percentage of expected values, meaning, if we were to ask how many of the data points in our set are 1 standard deviation below the mean, we would mention that X% of our data points would land on that quadrant.\n",
    "\n",
    "A more succint example would be, if crazy rainy days in Australia happened with a frequency of 1 standard deviation below the mean, and if this set of weather temperatures was normally distributed, we could say that we would expect crazy rainy weather about 34% of the time in a year. Of course, we could be even more specific about this.\n",
    "\n",
    "The important distinction to keep in mind is that sequential regions within a distribution can only be found evenly when the distribution is normally distributed.\n",
    "\n",
    "`np.std()` and `df.std()` will return the standard deviation of an array or matrix."
   ]
  },
  {
   "cell_type": "code",
   "execution_count": null,
   "metadata": {},
   "outputs": [],
   "source": [
    "df.std()"
   ]
  },
  {
   "cell_type": "markdown",
   "metadata": {},
   "source": [
    "## Minimum & Maximum"
   ]
  },
  {
   "cell_type": "markdown",
   "metadata": {},
   "source": [
    "The Minimum & Maximum are the lowest and highest values in an array, respectively. These are useful when we have quantitative variables such as income, or house prices, but not when we have categorical variables such as gender or weekdays. For example, imagine having a variable called food temperature that is classified as hot, warm, or cold (with numerical equivalents of 1, 2, 3). Our functions MIN and MAX will not be very useful for this categorical variable since the distance of such categories would not carry much meaning.\n",
    "\n",
    "We can pass in min and max as methods or as a numpy functions to our dataframe and also to specific columns or Series."
   ]
  },
  {
   "cell_type": "code",
   "execution_count": null,
   "metadata": {},
   "outputs": [],
   "source": [
    "np.min(df)"
   ]
  },
  {
   "cell_type": "code",
   "execution_count": null,
   "metadata": {},
   "outputs": [],
   "source": [
    "df.min()"
   ]
  },
  {
   "cell_type": "code",
   "execution_count": null,
   "metadata": {},
   "outputs": [],
   "source": [
    "np.max(df)"
   ]
  },
  {
   "cell_type": "code",
   "execution_count": null,
   "metadata": {},
   "outputs": [],
   "source": [
    "df.max()"
   ]
  },
  {
   "cell_type": "markdown",
   "metadata": {},
   "source": [
    "We can also sort the array and select the first and last elements for the min and the max."
   ]
  },
  {
   "cell_type": "code",
   "execution_count": null,
   "metadata": {},
   "outputs": [],
   "source": [
    "# manual min\n",
    "sorted(df['minimum_nights'])[0]"
   ]
  },
  {
   "cell_type": "code",
   "execution_count": null,
   "metadata": {},
   "outputs": [],
   "source": [
    "# manual max\n",
    "sorted(df['minimum_nights'])[-1]"
   ]
  },
  {
   "cell_type": "markdown",
   "metadata": {},
   "source": [
    "## Skewness"
   ]
  },
  {
   "cell_type": "markdown",
   "metadata": {},
   "source": [
    "The Skewness of a distribution tells us how distorted the distribution of our variable is from the most common value or the peak of the curve.\n",
    "\n",
    "A rightly-skewed distribution such as the one below is said to be positively skewed. The opposite means  that a skewed mountain going the other way would be anegatively skewed distribution.\n",
    "\n",
    "Another important point to remember is that the mean of a positively-skewed distribution will be larger than the median, and the opposite is true for a negatively-skewed distribution. When skeweness is zero, there's no distortion in the distribution."
   ]
  },
  {
   "cell_type": "code",
   "execution_count": null,
   "metadata": {},
   "outputs": [],
   "source": [
    "sns.distplot(df['price'], hist = False, kde = True,\n",
    "                 kde_kws = {'shade': True, 'linewidth': 3})\n",
    "plt.title(\"Density distribution for Price\")\n",
    "plt.show()"
   ]
  },
  {
   "cell_type": "markdown",
   "metadata": {},
   "source": [
    "We can also pass the `.skew()` method to our dataframe and get a sense of how distorted all of our variables might be."
   ]
  },
  {
   "cell_type": "code",
   "execution_count": null,
   "metadata": {},
   "outputs": [],
   "source": [
    "df.skew()"
   ]
  },
  {
   "cell_type": "markdown",
   "metadata": {},
   "source": [
    "SciPy has convenient skew formula in the stats library as well."
   ]
  },
  {
   "cell_type": "code",
   "execution_count": null,
   "metadata": {},
   "outputs": [],
   "source": [
    "from scipy.stats import skew"
   ]
  },
  {
   "cell_type": "code",
   "execution_count": null,
   "metadata": {},
   "outputs": [],
   "source": [
    "print(\"Cleaning fee Skewness is %.2f\" % skew(df['min_price_stay']))"
   ]
  },
  {
   "cell_type": "markdown",
   "metadata": {},
   "source": [
    "## Kurtosis"
   ]
  },
  {
   "cell_type": "markdown",
   "metadata": {},
   "source": [
    "Kurtosis is a very useful statistic that tells us how much do the tails of the distribution of a variable differ from those of a normal distribution (e.g. a true bell-shaped curve). It tells us if we are dealing with extreme values.\n",
    "\n",
    "The kurtosis of a normal distribution is usually at the value 3. A much higher kurtosis than this means that we are dealing with outliers. On the other hand, a lower kurtosis means that the distribution we are dealing with will see less extreme values than those seen in a normaly distributed array with the same data.\n",
    "\n",
    "Our pandas dataframe has to methods to calculate the Kurtosis. `.kurt()` and `.kurtosis()`. They both return the same output."
   ]
  },
  {
   "cell_type": "code",
   "execution_count": null,
   "metadata": {},
   "outputs": [],
   "source": [
    "df.kurt()"
   ]
  },
  {
   "cell_type": "code",
   "execution_count": null,
   "metadata": {},
   "outputs": [],
   "source": [
    "df.kurtosis() == df.kurt()"
   ]
  },
  {
   "cell_type": "code",
   "execution_count": null,
   "metadata": {},
   "outputs": [],
   "source": [
    "from scipy.stats import kurtosis"
   ]
  },
  {
   "cell_type": "code",
   "execution_count": null,
   "metadata": {},
   "outputs": [],
   "source": [
    "print(\"Cleaning fee Kurtosis %.2f\" % kurtosis(df['cleaning_fee']))"
   ]
  },
  {
   "cell_type": "markdown",
   "metadata": {},
   "source": [
    "# Relationships"
   ]
  },
  {
   "cell_type": "markdown",
   "metadata": {},
   "source": [
    "As data analysts we want to be able to determine how does one variable changes or moves in relation to another. We can do this visually using quantitative variables with scatter plots, or with some handy mathematical functions that we can either create ourselves, or used from libraries like numpy and scipy.\n",
    "\n",
    "**Correlation** is a measure of how strongly related two variables are. It gives us a way of quantifying the similarity, disimilarity, or lack-therof between variables. The value of the correlation between two variables goes from -1 to 1, where 1 means positively correlated, -1 means negatively correlated, and 0 means no correlation whatsoever. This value is derived by calculating the **Pearson Correlation Coefficient**.\n",
    "\n",
    "![corr](https://www.investopedia.com/thmb/PXAx5y_OS5z7n-Rn9m--QOC29rw=/1500x1000/filters:no_upscale():max_bytes(150000):strip_icc()/TC_3126228-how-to-calculate-the-correlation-coefficient-5aabeb313de423003610ee40.png)  \n",
    "**Source:** [Investopedia](https://www.investopedia.com/ask/answers/032515/what-does-it-mean-if-correlation-coefficient-positive-negative-or-zero.asp)\n",
    "\n",
    "The correlation between two or more variables can also be visually inspected through visualisations such as scatter plots and they can also be directly computed by hand or using several functions in Python. The mathematical formula is:\n",
    "\n",
    "$r_{xy}=\\dfrac {\\sum \\left( x_{i}-\\overline {x}\\right) \\left( y_{i}-\\overline {y}\\right) }{\\sqrt {\\sum \\left( x_{i}-\\overline {x}\\right) ^{2}\\sum \\left( y_{i}-\\overline {y}\\right) ^{2}}}$\n",
    "\n",
    "\n",
    "Where\n",
    "\n",
    "- $r_{xy}$ is the relationship between the variables X and Y\n",
    "- $x_{i}$ is every element in array X\n",
    "- $y_{i}$ is every element in array Y\n",
    "- $\\overline {x}$ is the mean of array X\n",
    "- $\\overline {y}$ is the mean of array Y\n",
    "\n",
    "Essentially, we are dividing the covariance between the product of the standard deviations of each array."
   ]
  },
  {
   "cell_type": "code",
   "execution_count": null,
   "metadata": {},
   "outputs": [],
   "source": [
    "# let's create some columns for our prices\n",
    "prices = df['price']\n",
    "clean_fee = df['cleaning_fee']\n",
    "\n",
    "mean_price = prices.mean()\n",
    "mean_clean = clean_fee.mean()"
   ]
  },
  {
   "cell_type": "code",
   "execution_count": null,
   "metadata": {},
   "outputs": [],
   "source": [
    "# let's sum up the product of the differences between the elements in each array and their mean\n",
    "arrays_diff_sum = sum((prices - mean_price) * (clean_fee - mean_clean))\n",
    "arrays_diff_sum"
   ]
  },
  {
   "cell_type": "code",
   "execution_count": null,
   "metadata": {},
   "outputs": [],
   "source": [
    "# let's now compute the square root of the sum of the squared difference between each of the \n",
    "# elements in an array and its mean\n",
    "diff_sqrt = np.sqrt(sum((prices - mean_price)**2) * sum((clean_fee - mean_clean)**2))\n",
    "diff_sqrt"
   ]
  },
  {
   "cell_type": "code",
   "execution_count": null,
   "metadata": {},
   "outputs": [],
   "source": [
    "r_xy = arrays_diff_sum / diff_sqrt\n",
    "print(\"The correlation between regular prices per stay and the cleaning fees is: %.3f\" % r_xy)"
   ]
  },
  {
   "cell_type": "code",
   "execution_count": null,
   "metadata": {},
   "outputs": [],
   "source": [
    "# you can conveniently call the pandas method .corr with two Series\n",
    "print(\"Correlation between prices per stay and the cleaning fees is: %.3f\" % prices.corr(clean_fee))"
   ]
  },
  {
   "cell_type": "markdown",
   "metadata": {},
   "source": [
    "The `pearsonr()` function from scipy stats will also give you the pearson correlation plus the p-value of the arrays. The P-value is the probability that you would have found the current result if the correlation coefficient were in fact zero."
   ]
  },
  {
   "cell_type": "code",
   "execution_count": null,
   "metadata": {},
   "outputs": [],
   "source": [
    "from scipy.stats import pearsonr"
   ]
  },
  {
   "cell_type": "code",
   "execution_count": null,
   "metadata": {},
   "outputs": [],
   "source": [
    "pearsonr(prices, clean_fee)[0]"
   ]
  },
  {
   "cell_type": "code",
   "execution_count": null,
   "metadata": {},
   "outputs": [],
   "source": [
    "sns.relplot(x='min_price_stay', y='cleaning_fee', data=df)\n",
    "plt.title(\"Minimum Price per Stay VS Cleaning Fees\")\n",
    "plt.xlim((-50, 50000))\n",
    "plt.ylim((-15, 600))\n",
    "plt.xlabel(\"Price per Stay\")\n",
    "plt.ylabel(\"Cleaning Fee\")\n",
    "plt.show()"
   ]
  },
  {
   "cell_type": "markdown",
   "metadata": {},
   "source": [
    "**Covariance:** this statistic tells us how two variables vary together. That is, how does the variation of one variable relate to the variation in another.\n",
    "\n",
    "We can calculate the covariance of two arrays X and Y by first computing the distance between the mean and each of the values within the arrays. `dx` below represents the distance of each value `x` from its mean. The same is true for the `dy`.\n",
    "\n",
    "$dx = x_{i} - \\overline {x}$  \n",
    "$dy = y_{i} - \\overline {y}$\n",
    "\n",
    "\n",
    "Lastly, we multiply each distance from both arrays, add the resulting values, and then divide by the lenght of one of the arrays (which have to be both of the same).\n",
    "\n",
    "$cov\\left( X,Y\\right) =\\dfrac {1}{n}\\sum dx_{i}dy_{i}$\n",
    "\n",
    "If both arrays variate in the same direction, the result will be positive. It their variations are completely unrelated, we are likely to get a 0. If both arrays variate negatively, the result will be negative. This is also visible when the a corresponding value in each array is below or above the mean. In this instance, the latter would be positive and former negative.\n",
    "\n",
    "Both numbers tend to scale with each other. A large positive covariance means that if x is large then y is large as well, and when x is small then y is small as well. If the covariance between arrays is 0, there is no relationship whatsoever between them."
   ]
  },
  {
   "cell_type": "code",
   "execution_count": null,
   "metadata": {},
   "outputs": [],
   "source": [
    "# np.dot takes the products of two elements and sums them up\n",
    "np.dot((prices - prices.mean()), (clean_fee - clean_fee.mean())) / len(prices)"
   ]
  },
  {
   "cell_type": "code",
   "execution_count": null,
   "metadata": {},
   "outputs": [],
   "source": [
    "sum((prices - prices.mean()) * (clean_fee - clean_fee.mean())) / len(prices)"
   ]
  },
  {
   "cell_type": "markdown",
   "metadata": {},
   "source": [
    "Notice that Pearson Correlation only measures whether there is a linear relationship between the variables in question. This mean, that the relationship could be other than linear, hence, no relationship in the Pearson's test doesn't mean the isn't a relationship at all.\n",
    "\n",
    "One of the flaws of pearson correlation is that it does not deal well with outliers. There are other methods available for determining non-linear relationships that do deal with outliers, but we won't cover those in this lesson. They are the Spearman Rank Correlation test and the Kendall Correlation test."
   ]
  },
  {
   "cell_type": "markdown",
   "metadata": {},
   "source": [
    "# Cross-tabulating and Visualising Data"
   ]
  },
  {
   "cell_type": "markdown",
   "metadata": {},
   "source": [
    "Another way to use descriptive statistics to gain deeper insights from a particular dataset is by cross-tabulating its variables. This technique allows us to aggregate and observe data based on distinct variables sitting on top of one another (columns) or standing next to each other (rows).\n",
    "\n",
    "You have already seen the cross-tabulation method in lesson's 3 and 4 but let's dig a bit deeper into how to use these tools."
   ]
  },
  {
   "cell_type": "code",
   "execution_count": null,
   "metadata": {},
   "outputs": [],
   "source": [
    "df.head(3)"
   ]
  },
  {
   "cell_type": "markdown",
   "metadata": {},
   "source": [
    "Let's look at the comparison between prices charged between super hosts and non superhosts throughout the days of the week."
   ]
  },
  {
   "cell_type": "code",
   "execution_count": null,
   "metadata": {},
   "outputs": [],
   "source": [
    "super_hosts = df.pivot_table(\n",
    "        aggfunc=['mean'],\n",
    "        values=['price'],\n",
    "        index=['day_of_week'],\n",
    "        columns=['host_is_superhost']\n",
    ")\n",
    "super_hosts"
   ]
  },
  {
   "cell_type": "code",
   "execution_count": null,
   "metadata": {},
   "outputs": [],
   "source": [
    "super_hosts.plot(kind='bar', title='Average Price per Night of Super vs Non Super Hosts')\n",
    "plt.legend(['False', 'True'])\n",
    "plt.show()"
   ]
  },
  {
   "cell_type": "markdown",
   "metadata": {},
   "source": [
    "It would also be interesting to see whether there is a big gap between the distribution of prices across rooms."
   ]
  },
  {
   "cell_type": "code",
   "execution_count": null,
   "metadata": {},
   "outputs": [],
   "source": [
    "sns.set('notebook')\n",
    "sns.set(rc={'figure.figsize':(11.7,8.27)})\n",
    "sns.violinplot(x=\"week_or_end\", y=\"price\", hue=\"room_type\", data=df, palette=\"Pastel1\")\n",
    "plt.title(\"Price variation between weekdays and weekends by Room Type\")\n",
    "plt.xlabel(\"Stage of the Week\")\n",
    "plt.ylabel(\"Prices\")\n",
    "plt.show()"
   ]
  },
  {
   "cell_type": "markdown",
   "metadata": {},
   "source": [
    "To understand groups better, we cam create a multi-index object using the method `.grouby()`."
   ]
  },
  {
   "cell_type": "code",
   "execution_count": null,
   "metadata": {},
   "outputs": [],
   "source": [
    "group_rooms = df.groupby(['room_type', 'cancellation_policy'])\n",
    "group_rooms['min_price_stay'].mean()"
   ]
  },
  {
   "cell_type": "markdown",
   "metadata": {},
   "source": [
    "Upon first inspection it seems as if the most "
   ]
  },
  {
   "cell_type": "code",
   "execution_count": null,
   "metadata": {},
   "outputs": [],
   "source": [
    "cancel_super_host = df.pivot_table(\n",
    "    index='cancellation_policy',\n",
    "    values='min_price_stay',\n",
    "    columns='host_is_superhost',\n",
    "    aggfunc='mean'\n",
    ")"
   ]
  },
  {
   "cell_type": "code",
   "execution_count": null,
   "metadata": {},
   "outputs": [],
   "source": [
    "cancel_super_host['diff'] = cancel_super_host['t'] - cancel_super_host['f']\n",
    "cancel_super_host"
   ]
  },
  {
   "cell_type": "code",
   "execution_count": null,
   "metadata": {},
   "outputs": [],
   "source": [
    "identity_price = df.pivot_table(index='city', \n",
    "                                values='price', \n",
    "                                columns='host_identity_verified', \n",
    "                                aggfunc=['count', 'mean', 'var'])\n",
    "identity_price.loc['Banyule':'Melbourne', :]"
   ]
  },
  {
   "cell_type": "markdown",
   "metadata": {},
   "source": [
    "## Exercise\n",
    "\n",
    "- Create a pivot table with at least one categorical variable and two quantitaive."
   ]
  },
  {
   "cell_type": "code",
   "execution_count": null,
   "metadata": {},
   "outputs": [],
   "source": []
  },
  {
   "cell_type": "markdown",
   "metadata": {},
   "source": [
    "## Exercise\n",
    "\n",
    "- Create a plot from a pivot table with a multi-index based on categories and the price as the values."
   ]
  },
  {
   "cell_type": "code",
   "execution_count": null,
   "metadata": {},
   "outputs": [],
   "source": []
  },
  {
   "cell_type": "markdown",
   "metadata": {},
   "source": [
    "## Exercise\n",
    "\n",
    "- Create a pivot table with 4 aggregation functions, a column, and 2 indexes."
   ]
  },
  {
   "cell_type": "code",
   "execution_count": null,
   "metadata": {},
   "outputs": [],
   "source": []
  },
  {
   "cell_type": "markdown",
   "metadata": {},
   "source": [
    "# 5. Summary"
   ]
  },
  {
   "cell_type": "markdown",
   "metadata": {},
   "source": [
    "We have covered the basics of Statistics in this lesson. We touched on:\n",
    "\n",
    "- The three main branches of statistics: collecting, describing and inferring from data\n",
    "- Different approaches for collecting data through sampling, observation and experimentation\n",
    "- We also covered the main differences between structured and unstructured data\n",
    "- In-depth descriptive statistics and how to calculate these with plain Python"
   ]
  },
  {
   "cell_type": "markdown",
   "metadata": {},
   "source": [
    "# 6. References"
   ]
  },
  {
   "cell_type": "markdown",
   "metadata": {},
   "source": [
    "Herne, H., & Huff, D. (1973). _How to Lie with Statistics_. Applied Statistics, 22(3), 401. doi: 10.2307/2346789\n",
    "\n",
    "Downey, Allen B. _Think Stats: Exploratory Data Analysis in Python_. Green Tea Press, 2014.\n",
    "\n",
    "Lock, Robin H., et al. _Statistics: Unlocking the Power of Data_. John Wiley & Sons, 2019."
   ]
  },
  {
   "cell_type": "markdown",
   "metadata": {},
   "source": [
    "# 7. Feedback"
   ]
  },
  {
   "cell_type": "markdown",
   "metadata": {},
   "source": [
    "We would really appreciate it if you could please provide us with your feedback from this session by filling a couple of question.\n",
    "\n",
    "> ## [Survey](https://docs.google.com/forms/d/e/1FAIpQLSda4GNkdIgBNvLMcTVAITQLF7rPOI25tkmQIljl15SnkhEgsw/viewform?usp=sf_link)"
   ]
  }
 ],
 "metadata": {
  "kernelspec": {
   "display_name": "Python 3",
   "language": "python",
   "name": "python3"
  },
  "language_info": {
   "codemirror_mode": {
    "name": "ipython",
    "version": 3
   },
   "file_extension": ".py",
   "mimetype": "text/x-python",
   "name": "python",
   "nbconvert_exporter": "python",
   "pygments_lexer": "ipython3",
   "version": "3.7.6"
  }
 },
 "nbformat": 4,
 "nbformat_minor": 4
}
