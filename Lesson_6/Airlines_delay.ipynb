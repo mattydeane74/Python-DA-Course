{
 "cells": [
  {
   "cell_type": "code",
   "execution_count": null,
   "metadata": {},
   "outputs": [],
   "source": [
    "#grab a dataset\n",
    "#This file contains all the flights starting from 1st January 2020 till 31st January 2020. \n",
    "#There are around 400,000 rows in this file and 21 feature columns indicating the features of the flight including information \n",
    "#about origin airport, destination airport, airplane information, departure time and arrival time."
   ]
  },
  {
   "cell_type": "code",
   "execution_count": 1,
   "metadata": {},
   "outputs": [],
   "source": [
    "#setup python libraries\n",
    "import pandas as pd\n",
    "import numpy as np\n",
    "import matplotlib.pyplot as plt\n",
    "import altair as alt\n",
    "import seaborn as sns\n",
    "\n",
    "pd.set_option('display.max_columns', None)\n",
    "pd.set_option('display.max_rows', None)\n",
    "\n",
    "%matplotlib inline"
   ]
  },
  {
   "cell_type": "markdown",
   "metadata": {},
   "source": [
    "## load the Data\n"
   ]
  },
  {
   "cell_type": "code",
   "execution_count": null,
   "metadata": {},
   "outputs": [],
   "source": [
    "df = pd.read_csv('../Datasets/Jan_2020_ontime.csv')"
   ]
  },
  {
   "cell_type": "code",
   "execution_count": null,
   "metadata": {},
   "outputs": [],
   "source": [
    "#make the headings useful such as removing spaces and Upper case\n",
    "df.columns = df.columns.str.lower().str.replace(' ', '_')"
   ]
  },
  {
   "cell_type": "code",
   "execution_count": null,
   "metadata": {},
   "outputs": [],
   "source": [
    "df.head()"
   ]
  },
  {
   "cell_type": "code",
   "execution_count": null,
   "metadata": {},
   "outputs": [],
   "source": [
    "#remove column with no data\n",
    "df = df.drop('unnamed:_21', axis=1)"
   ]
  },
  {
   "cell_type": "code",
   "execution_count": null,
   "metadata": {},
   "outputs": [],
   "source": [
    "#get descriptive data for the dataset\n",
    "data = pd.read_html('https://aspmhelp.faa.gov/index.php/ASQP:_Carrier_Codes_and_Names')\n",
    "df_html = pd.DataFrame(data[0])\n",
    "df_html.head()"
   ]
  },
  {
   "cell_type": "code",
   "execution_count": null,
   "metadata": {},
   "outputs": [],
   "source": [
    "df_html.columns = df_html.columns.str.lower().str.replace(' ', '_')\n",
    "df_html.head()"
   ]
  },
  {
   "cell_type": "code",
   "execution_count": null,
   "metadata": {},
   "outputs": [],
   "source": [
    "df.shape"
   ]
  },
  {
   "cell_type": "code",
   "execution_count": null,
   "metadata": {},
   "outputs": [],
   "source": [
    "df.info()"
   ]
  },
  {
   "cell_type": "code",
   "execution_count": null,
   "metadata": {},
   "outputs": [],
   "source": [
    "#add the air carrier name in the dataframe\n",
    "Jan2020 = pd.merge(left=df, right=df_html, how='inner', left_on='op_carrier',right_on='iata_code').drop('iata_code', axis=1)\n",
    "Jan2020 = Jan2020.drop('icao_code', axis=1)\n",
    "Jan2020.head()"
   ]
  },
  {
   "cell_type": "code",
   "execution_count": null,
   "metadata": {},
   "outputs": [],
   "source": [
    "Jan2020.shape"
   ]
  },
  {
   "cell_type": "code",
   "execution_count": null,
   "metadata": {
    "scrolled": true
   },
   "outputs": [],
   "source": [
    "#get descriptive data for the dataset\n",
    "data = pd.read_html('https://www.leonardsguide.com/us-airport-codes.shtml')\n",
    "df_airport = pd.DataFrame(data[0])\n",
    "df_airport.rename(columns={0:'airport'}, inplace=True)\n",
    "df_airport.rename(columns={1:'airport_code'}, inplace=True)\n",
    "df_airport.head(30)"
   ]
  },
  {
   "cell_type": "code",
   "execution_count": null,
   "metadata": {},
   "outputs": [],
   "source": [
    "df_airport.columns = df_airport.columns.str.strip()"
   ]
  },
  {
   "cell_type": "code",
   "execution_count": null,
   "metadata": {},
   "outputs": [],
   "source": [
    "df_airport.head()"
   ]
  },
  {
   "cell_type": "code",
   "execution_count": null,
   "metadata": {
    "scrolled": true
   },
   "outputs": [],
   "source": [
    "df_airport['airport_code'].value_counts()\n"
   ]
  },
  {
   "cell_type": "code",
   "execution_count": null,
   "metadata": {},
   "outputs": [],
   "source": [
    "df_airport.loc[df_airport['airport_code'] == 'IAH']"
   ]
  },
  {
   "cell_type": "code",
   "execution_count": null,
   "metadata": {},
   "outputs": [],
   "source": [
    "df_airport.iloc[218]"
   ]
  },
  {
   "cell_type": "code",
   "execution_count": null,
   "metadata": {},
   "outputs": [],
   "source": [
    "df_airport = df_airport.drop(218)"
   ]
  },
  {
   "cell_type": "code",
   "execution_count": null,
   "metadata": {},
   "outputs": [],
   "source": [
    "Jan2020.columns = Jan2020.columns.str.strip()"
   ]
  },
  {
   "cell_type": "code",
   "execution_count": null,
   "metadata": {},
   "outputs": [],
   "source": [
    "Jan2020.head()"
   ]
  },
  {
   "cell_type": "code",
   "execution_count": null,
   "metadata": {},
   "outputs": [],
   "source": [
    "# add the airport name in the dataframe\n",
    "Jan2020 = pd.merge(left=Jan2020, right=df_airport, how='left', left_on='dest',right_on='airport_code').drop('airport_code', axis=1)\n",
    "#Jan2020.rename(columns={'airport_code':'dest_airport'}, inplace=True)\n",
    "Jan2020.head()"
   ]
  },
  {
   "cell_type": "code",
   "execution_count": null,
   "metadata": {},
   "outputs": [],
   "source": [
    "# add the airport name in the dataframe\n",
    "Jan2020 = pd.merge(left=Jan2020, right=df_airport, how='left', left_on='origin',right_on='airport_code').drop('airport_code', axis=1)\n",
    "Jan2020.head()"
   ]
  },
  {
   "cell_type": "code",
   "execution_count": null,
   "metadata": {},
   "outputs": [],
   "source": [
    "Jan2020.rename(columns={'airport_x':'origin_airport'}, inplace=True)\n",
    "Jan2020.rename(columns={'airport_y':'dest_airport'}, inplace=True)\n"
   ]
  },
  {
   "cell_type": "code",
   "execution_count": null,
   "metadata": {},
   "outputs": [],
   "source": [
    "Jan2020.shape"
   ]
  },
  {
   "cell_type": "code",
   "execution_count": null,
   "metadata": {
    "scrolled": true
   },
   "outputs": [],
   "source": [
    "data = df['origin'].unique()"
   ]
  },
  {
   "cell_type": "code",
   "execution_count": null,
   "metadata": {
    "scrolled": true
   },
   "outputs": [],
   "source": [
    "check = Jan2020['origin'].unique()"
   ]
  },
  {
   "cell_type": "code",
   "execution_count": null,
   "metadata": {},
   "outputs": [],
   "source": [
    "unmatched_items_10 = [d for d in data if d not in check]\n",
    "unmatched_items_10"
   ]
  },
  {
   "cell_type": "code",
   "execution_count": null,
   "metadata": {
    "scrolled": true
   },
   "outputs": [],
   "source": [
    "data2 = df['dest'].unique()\n",
    "check2 = Jan2020['dest'].unique()\n",
    "\n",
    "unmatched_items_11 = [d for d in data2 if d not in check2]\n",
    "unmatched_items_11"
   ]
  },
  {
   "cell_type": "code",
   "execution_count": null,
   "metadata": {},
   "outputs": [],
   "source": [
    "#classify flight distance into discrete buckets\n",
    "flight_distance = []\n",
    "\n",
    "for i in Jan2020['distance']:\n",
    "    if i < 800:\n",
    "        flight_distance.append('Short Haul')\n",
    "    elif i > 800 and i < 2200:\n",
    "        flight_distance.append('Medium Haul')\n",
    "    else:\n",
    "        flight_distance.append('Long Haul')\n",
    "        \n",
    "Jan2020['flight_distance'] = flight_distance"
   ]
  },
  {
   "cell_type": "code",
   "execution_count": null,
   "metadata": {},
   "outputs": [],
   "source": [
    "Jan2020.head()"
   ]
  },
  {
   "cell_type": "code",
   "execution_count": null,
   "metadata": {},
   "outputs": [],
   "source": [
    "df.shape"
   ]
  },
  {
   "cell_type": "code",
   "execution_count": null,
   "metadata": {},
   "outputs": [],
   "source": [
    "Jan2020.shape"
   ]
  },
  {
   "cell_type": "code",
   "execution_count": null,
   "metadata": {},
   "outputs": [],
   "source": [
    "df.day_of_week.unique()"
   ]
  },
  {
   "cell_type": "code",
   "execution_count": null,
   "metadata": {},
   "outputs": [],
   "source": [
    "#create mapping field for days of the week.\n",
    "mapping = {1: 'Monday', 2: 'Tuesday', 3: 'Wednesday',4: 'Thursday', 5: 'Friday', 6: 'Saturday',7: 'Sunday'}\n",
    "\n",
    "Jan2020['dayofweek_name'] = Jan2020['day_of_week'].map(mapping)"
   ]
  },
  {
   "cell_type": "code",
   "execution_count": null,
   "metadata": {},
   "outputs": [],
   "source": [
    "Jan2020.head()"
   ]
  },
  {
   "cell_type": "code",
   "execution_count": null,
   "metadata": {},
   "outputs": [],
   "source": [
    "Jan2020.shape \n",
    "\n"
   ]
  },
  {
   "cell_type": "markdown",
   "metadata": {},
   "source": [
    "## Inspect the data"
   ]
  },
  {
   "cell_type": "code",
   "execution_count": null,
   "metadata": {},
   "outputs": [],
   "source": [
    "Jan2020.info()"
   ]
  },
  {
   "cell_type": "code",
   "execution_count": null,
   "metadata": {},
   "outputs": [],
   "source": [
    "Jan2020.isna().sum()"
   ]
  },
  {
   "cell_type": "code",
   "execution_count": null,
   "metadata": {},
   "outputs": [],
   "source": [
    "Jan2020.describe().T"
   ]
  },
  {
   "cell_type": "code",
   "execution_count": null,
   "metadata": {},
   "outputs": [],
   "source": [
    "#drop duplicate column\n",
    "Jan2020 = Jan2020.drop('op_unique_carrier', axis=1)"
   ]
  },
  {
   "cell_type": "code",
   "execution_count": null,
   "metadata": {},
   "outputs": [],
   "source": [
    "# The data consist of 17 different airlines.\n",
    "Jan2020.op_carrier.unique()"
   ]
  },
  {
   "cell_type": "markdown",
   "metadata": {},
   "source": [
    "## Missing Values"
   ]
  },
  {
   "cell_type": "code",
   "execution_count": null,
   "metadata": {},
   "outputs": [],
   "source": [
    "#setting missing airport names to Miscellaneous for analysis (we need to exclude from some of the charts), keep in df."
   ]
  },
  {
   "cell_type": "code",
   "execution_count": null,
   "metadata": {
    "scrolled": true
   },
   "outputs": [],
   "source": [
    "Jan2020['origin_airport'].fillna('Misc.', axis=0, inplace=True)"
   ]
  },
  {
   "cell_type": "code",
   "execution_count": null,
   "metadata": {},
   "outputs": [],
   "source": [
    "Jan2020['dest_airport'].fillna('Misc.', axis=0, inplace=True)"
   ]
  },
  {
   "cell_type": "raw",
   "metadata": {},
   "source": []
  },
  {
   "cell_type": "code",
   "execution_count": null,
   "metadata": {},
   "outputs": [],
   "source": [
    "Jan2020.isna().sum()"
   ]
  },
  {
   "cell_type": "code",
   "execution_count": null,
   "metadata": {},
   "outputs": [],
   "source": [
    "sns.distplot(Jan2020['dep_time'], bins=60, kde=True,\n",
    "                  color='skyblue', hist_kws={\"linewidth\": 15,'alpha':1})\n",
    "\n",
    "plt.title(\"This is a flat mountain with Density Line\")\n",
    "plt.xlabel(\"Bins containing a range for the data\")\n",
    "plt.ylabel(\"The top of the Bins\")\n",
    "plt.show()"
   ]
  },
  {
   "cell_type": "code",
   "execution_count": null,
   "metadata": {},
   "outputs": [],
   "source": [
    "#median or average can be applied here as they are very close. It is uniform distribution."
   ]
  },
  {
   "cell_type": "code",
   "execution_count": null,
   "metadata": {},
   "outputs": [],
   "source": [
    "sns.distplot(Jan2020['dep_del15'], bins=60, kde=False,\n",
    "                  color='skyblue', hist_kws={\"linewidth\": 15,'alpha':1})\n",
    "\n",
    "plt.title(\"Most values are zero\")\n",
    "plt.xlabel(\"Bins containing a range for the data\")\n",
    "plt.ylabel(\"The top of the Bins\")\n",
    "plt.show()"
   ]
  },
  {
   "cell_type": "code",
   "execution_count": null,
   "metadata": {},
   "outputs": [],
   "source": [
    "#median values applied here as most values in dataset are zero"
   ]
  },
  {
   "cell_type": "code",
   "execution_count": null,
   "metadata": {},
   "outputs": [],
   "source": [
    "sns.distplot(Jan2020['arr_time'], bins=60, kde=True,\n",
    "                  color='skyblue', hist_kws={\"linewidth\": 15,'alpha':1})\n",
    "\n",
    "plt.title(\"This is a mostly flat mountain with some zeros\")\n",
    "plt.xlabel(\"Bins containing a range for the data\")\n",
    "plt.ylabel(\"The top of the Bins\")\n",
    "plt.show()"
   ]
  },
  {
   "cell_type": "code",
   "execution_count": null,
   "metadata": {},
   "outputs": [],
   "source": [
    "due to some zeros, I would prefer to use the mean with this distribution."
   ]
  },
  {
   "cell_type": "code",
   "execution_count": null,
   "metadata": {},
   "outputs": [],
   "source": [
    "sns.distplot(Jan2020['arr_del15'], bins=60, kde=False,\n",
    "                  color='skyblue', hist_kws={\"linewidth\": 15,'alpha':1})\n",
    "\n",
    "plt.title(\"Most values are zero\")\n",
    "plt.xlabel(\"Bins containing a range for the data\")\n",
    "plt.ylabel(\"The top of the Bins\")\n",
    "plt.show()"
   ]
  },
  {
   "cell_type": "code",
   "execution_count": null,
   "metadata": {},
   "outputs": [],
   "source": [
    "#use median here are most values are zero."
   ]
  },
  {
   "cell_type": "code",
   "execution_count": null,
   "metadata": {},
   "outputs": [],
   "source": [
    "lots_missing = ['dep_time', 'dep_del15', 'arr_del15']\n",
    "\n",
    "for col in lots_missing:\n",
    "    Jan2020[col] = Jan2020[col].fillna(Jan2020[col].median())\n",
    "\n",
    "Jan2020[lots_missing].isna().sum()"
   ]
  },
  {
   "cell_type": "code",
   "execution_count": null,
   "metadata": {},
   "outputs": [],
   "source": [
    "lots_missing = ['arr_time']\n",
    "\n",
    "for col in lots_missing:\n",
    "    Jan2020[col] = Jan2020[col].fillna(Jan2020[col].mean())\n",
    "\n",
    "Jan2020[lots_missing].isna().sum()"
   ]
  },
  {
   "cell_type": "code",
   "execution_count": null,
   "metadata": {},
   "outputs": [],
   "source": [
    "# to handle tail number, it will not be used for the analysis so will drop it from the dataframe"
   ]
  },
  {
   "cell_type": "code",
   "execution_count": null,
   "metadata": {},
   "outputs": [],
   "source": [
    "Jan2020 = Jan2020.drop('tail_num', axis=1)"
   ]
  },
  {
   "cell_type": "code",
   "execution_count": null,
   "metadata": {},
   "outputs": [],
   "source": [
    "Jan2020.isna().sum()"
   ]
  },
  {
   "cell_type": "code",
   "execution_count": null,
   "metadata": {},
   "outputs": [],
   "source": [
    "!dir"
   ]
  },
  {
   "cell_type": "code",
   "execution_count": null,
   "metadata": {},
   "outputs": [],
   "source": [
    "# Let's save clean data for later use\n",
    "\n",
    "Jan2020.to_csv('cleaned_Jan2020_airline_delay.csv', index=False)"
   ]
  },
  {
   "cell_type": "markdown",
   "metadata": {},
   "source": [
    "## Exploratory Data Analysis"
   ]
  },
  {
   "cell_type": "code",
   "execution_count": 4,
   "metadata": {},
   "outputs": [
    {
     "name": "stdout",
     "output_type": "stream",
     "text": [
      "C:\\Users\\mdeane\\PythonDA\\python-class\\Lesson_6\n"
     ]
    }
   ],
   "source": [
    "!cd"
   ]
  },
  {
   "cell_type": "code",
   "execution_count": 10,
   "metadata": {},
   "outputs": [],
   "source": [
    "Jan2020 = pd.read_csv('cleaned_Jan2020_airline_delay.csv')"
   ]
  },
  {
   "cell_type": "code",
   "execution_count": 61,
   "metadata": {},
   "outputs": [
    {
     "data": {
      "text/html": [
       "<div>\n",
       "<style scoped>\n",
       "    .dataframe tbody tr th:only-of-type {\n",
       "        vertical-align: middle;\n",
       "    }\n",
       "\n",
       "    .dataframe tbody tr th {\n",
       "        vertical-align: top;\n",
       "    }\n",
       "\n",
       "    .dataframe thead th {\n",
       "        text-align: right;\n",
       "    }\n",
       "</style>\n",
       "<table border=\"1\" class=\"dataframe\">\n",
       "  <thead>\n",
       "    <tr style=\"text-align: right;\">\n",
       "      <th></th>\n",
       "      <th>day_of_month</th>\n",
       "      <th>day_of_week</th>\n",
       "      <th>op_carrier_airline_id</th>\n",
       "      <th>op_carrier</th>\n",
       "      <th>op_carrier_fl_num</th>\n",
       "      <th>origin_airport_id</th>\n",
       "      <th>origin_airport_seq_id</th>\n",
       "      <th>origin</th>\n",
       "      <th>dest_airport_id</th>\n",
       "      <th>dest_airport_seq_id</th>\n",
       "      <th>dest</th>\n",
       "      <th>dep_time</th>\n",
       "      <th>dep_del15</th>\n",
       "      <th>dep_time_blk</th>\n",
       "      <th>arr_time</th>\n",
       "      <th>arr_del15</th>\n",
       "      <th>cancelled</th>\n",
       "      <th>diverted</th>\n",
       "      <th>distance</th>\n",
       "      <th>air_carrier_name</th>\n",
       "      <th>origin_airport</th>\n",
       "      <th>dest_airport</th>\n",
       "      <th>flight_distance</th>\n",
       "      <th>dayofweek_name</th>\n",
       "      <th>flight_Time_blk</th>\n",
       "      <th>flight_time_blk</th>\n",
       "    </tr>\n",
       "  </thead>\n",
       "  <tbody>\n",
       "    <tr>\n",
       "      <th>0</th>\n",
       "      <td>1</td>\n",
       "      <td>3</td>\n",
       "      <td>20366</td>\n",
       "      <td>EV</td>\n",
       "      <td>4397</td>\n",
       "      <td>13930</td>\n",
       "      <td>1393007</td>\n",
       "      <td>ORD</td>\n",
       "      <td>11977</td>\n",
       "      <td>1197705</td>\n",
       "      <td>GRB</td>\n",
       "      <td>1003.0</td>\n",
       "      <td>0.0</td>\n",
       "      <td>1000-1059</td>\n",
       "      <td>1117.0</td>\n",
       "      <td>0.0</td>\n",
       "      <td>0.0</td>\n",
       "      <td>0.0</td>\n",
       "      <td>174.0</td>\n",
       "      <td>ExpressJet Airlines</td>\n",
       "      <td>Green Bay</td>\n",
       "      <td>Chicago, O'Hare International Airport Airport</td>\n",
       "      <td>Short Haul</td>\n",
       "      <td>Wednesday</td>\n",
       "      <td>Morning</td>\n",
       "      <td>Morning</td>\n",
       "    </tr>\n",
       "    <tr>\n",
       "      <th>1</th>\n",
       "      <td>1</td>\n",
       "      <td>3</td>\n",
       "      <td>20366</td>\n",
       "      <td>EV</td>\n",
       "      <td>4401</td>\n",
       "      <td>15370</td>\n",
       "      <td>1537002</td>\n",
       "      <td>TUL</td>\n",
       "      <td>13930</td>\n",
       "      <td>1393007</td>\n",
       "      <td>ORD</td>\n",
       "      <td>1027.0</td>\n",
       "      <td>0.0</td>\n",
       "      <td>1000-1059</td>\n",
       "      <td>1216.0</td>\n",
       "      <td>0.0</td>\n",
       "      <td>0.0</td>\n",
       "      <td>0.0</td>\n",
       "      <td>585.0</td>\n",
       "      <td>ExpressJet Airlines</td>\n",
       "      <td>Chicago, O'Hare International Airport Airport</td>\n",
       "      <td>Tulsa</td>\n",
       "      <td>Short Haul</td>\n",
       "      <td>Wednesday</td>\n",
       "      <td>Morning</td>\n",
       "      <td>Morning</td>\n",
       "    </tr>\n",
       "    <tr>\n",
       "      <th>2</th>\n",
       "      <td>1</td>\n",
       "      <td>3</td>\n",
       "      <td>20366</td>\n",
       "      <td>EV</td>\n",
       "      <td>4404</td>\n",
       "      <td>11618</td>\n",
       "      <td>1161802</td>\n",
       "      <td>EWR</td>\n",
       "      <td>15412</td>\n",
       "      <td>1541205</td>\n",
       "      <td>TYS</td>\n",
       "      <td>1848.0</td>\n",
       "      <td>0.0</td>\n",
       "      <td>1800-1859</td>\n",
       "      <td>2120.0</td>\n",
       "      <td>0.0</td>\n",
       "      <td>0.0</td>\n",
       "      <td>0.0</td>\n",
       "      <td>631.0</td>\n",
       "      <td>ExpressJet Airlines</td>\n",
       "      <td>Knoxville</td>\n",
       "      <td>Newark International Airport</td>\n",
       "      <td>Short Haul</td>\n",
       "      <td>Wednesday</td>\n",
       "      <td>Early Even</td>\n",
       "      <td>Early Even</td>\n",
       "    </tr>\n",
       "    <tr>\n",
       "      <th>3</th>\n",
       "      <td>1</td>\n",
       "      <td>3</td>\n",
       "      <td>20366</td>\n",
       "      <td>EV</td>\n",
       "      <td>4405</td>\n",
       "      <td>10781</td>\n",
       "      <td>1078105</td>\n",
       "      <td>BTR</td>\n",
       "      <td>12266</td>\n",
       "      <td>1226603</td>\n",
       "      <td>IAH</td>\n",
       "      <td>1846.0</td>\n",
       "      <td>0.0</td>\n",
       "      <td>1800-1859</td>\n",
       "      <td>2004.0</td>\n",
       "      <td>0.0</td>\n",
       "      <td>0.0</td>\n",
       "      <td>0.0</td>\n",
       "      <td>253.0</td>\n",
       "      <td>ExpressJet Airlines</td>\n",
       "      <td>Houston, George Bush Intercontinental Airport</td>\n",
       "      <td>Baton Rouge</td>\n",
       "      <td>Short Haul</td>\n",
       "      <td>Wednesday</td>\n",
       "      <td>Early Even</td>\n",
       "      <td>Early Even</td>\n",
       "    </tr>\n",
       "    <tr>\n",
       "      <th>4</th>\n",
       "      <td>1</td>\n",
       "      <td>3</td>\n",
       "      <td>20366</td>\n",
       "      <td>EV</td>\n",
       "      <td>4407</td>\n",
       "      <td>14524</td>\n",
       "      <td>1452401</td>\n",
       "      <td>RIC</td>\n",
       "      <td>12266</td>\n",
       "      <td>1226603</td>\n",
       "      <td>IAH</td>\n",
       "      <td>1038.0</td>\n",
       "      <td>0.0</td>\n",
       "      <td>1000-1059</td>\n",
       "      <td>1330.0</td>\n",
       "      <td>0.0</td>\n",
       "      <td>0.0</td>\n",
       "      <td>0.0</td>\n",
       "      <td>1157.0</td>\n",
       "      <td>ExpressJet Airlines</td>\n",
       "      <td>Houston, George Bush Intercontinental Airport</td>\n",
       "      <td>Richmond</td>\n",
       "      <td>Medium Haul</td>\n",
       "      <td>Wednesday</td>\n",
       "      <td>Morning</td>\n",
       "      <td>Morning</td>\n",
       "    </tr>\n",
       "  </tbody>\n",
       "</table>\n",
       "</div>"
      ],
      "text/plain": [
       "   day_of_month  day_of_week  op_carrier_airline_id op_carrier  \\\n",
       "0             1            3                  20366         EV   \n",
       "1             1            3                  20366         EV   \n",
       "2             1            3                  20366         EV   \n",
       "3             1            3                  20366         EV   \n",
       "4             1            3                  20366         EV   \n",
       "\n",
       "   op_carrier_fl_num  origin_airport_id  origin_airport_seq_id origin  \\\n",
       "0               4397              13930                1393007    ORD   \n",
       "1               4401              15370                1537002    TUL   \n",
       "2               4404              11618                1161802    EWR   \n",
       "3               4405              10781                1078105    BTR   \n",
       "4               4407              14524                1452401    RIC   \n",
       "\n",
       "   dest_airport_id  dest_airport_seq_id dest  dep_time  dep_del15  \\\n",
       "0            11977              1197705  GRB    1003.0        0.0   \n",
       "1            13930              1393007  ORD    1027.0        0.0   \n",
       "2            15412              1541205  TYS    1848.0        0.0   \n",
       "3            12266              1226603  IAH    1846.0        0.0   \n",
       "4            12266              1226603  IAH    1038.0        0.0   \n",
       "\n",
       "  dep_time_blk  arr_time  arr_del15  cancelled  diverted  distance  \\\n",
       "0    1000-1059    1117.0        0.0        0.0       0.0     174.0   \n",
       "1    1000-1059    1216.0        0.0        0.0       0.0     585.0   \n",
       "2    1800-1859    2120.0        0.0        0.0       0.0     631.0   \n",
       "3    1800-1859    2004.0        0.0        0.0       0.0     253.0   \n",
       "4    1000-1059    1330.0        0.0        0.0       0.0    1157.0   \n",
       "\n",
       "      air_carrier_name                                 origin_airport  \\\n",
       "0  ExpressJet Airlines                                      Green Bay   \n",
       "1  ExpressJet Airlines  Chicago, O'Hare International Airport Airport   \n",
       "2  ExpressJet Airlines                                      Knoxville   \n",
       "3  ExpressJet Airlines  Houston, George Bush Intercontinental Airport   \n",
       "4  ExpressJet Airlines  Houston, George Bush Intercontinental Airport   \n",
       "\n",
       "                                    dest_airport flight_distance  \\\n",
       "0  Chicago, O'Hare International Airport Airport      Short Haul   \n",
       "1                                          Tulsa      Short Haul   \n",
       "2                   Newark International Airport      Short Haul   \n",
       "3                                    Baton Rouge      Short Haul   \n",
       "4                                       Richmond     Medium Haul   \n",
       "\n",
       "  dayofweek_name flight_Time_blk flight_time_blk  \n",
       "0      Wednesday         Morning         Morning  \n",
       "1      Wednesday         Morning         Morning  \n",
       "2      Wednesday      Early Even      Early Even  \n",
       "3      Wednesday      Early Even      Early Even  \n",
       "4      Wednesday         Morning         Morning  "
      ]
     },
     "execution_count": 61,
     "metadata": {},
     "output_type": "execute_result"
    }
   ],
   "source": [
    "Jan2020.head()"
   ]
  },
  {
   "cell_type": "code",
   "execution_count": 28,
   "metadata": {},
   "outputs": [
    {
     "data": {
      "text/plain": [
       "array(['1000-1059', '1800-1859', '0600-0659', '1600-1659', '1400-1459',\n",
       "       '1900-1959', '1100-1159', '0700-0759', '2100-2159', '1500-1559',\n",
       "       '0900-0959', '1700-1759', '1200-1259', '0800-0859', '0001-0559',\n",
       "       '2000-2059', '1300-1359', '2200-2259', '2300-2359'], dtype=object)"
      ]
     },
     "execution_count": 28,
     "metadata": {},
     "output_type": "execute_result"
    }
   ],
   "source": [
    "Jan2020.dep_time_blk.unique()"
   ]
  },
  {
   "cell_type": "code",
   "execution_count": 29,
   "metadata": {},
   "outputs": [],
   "source": [
    "#move up to load data"
   ]
  },
  {
   "cell_type": "code",
   "execution_count": 45,
   "metadata": {},
   "outputs": [],
   "source": [
    "#classify flight distance into discrete buckets\n",
    "flight_time = []\n",
    "\n",
    "for i in Jan2020['dep_time']:\n",
    "    if i >= 0 and i <= 600:\n",
    "        flight_time.append('Overnight')\n",
    "    elif i >= 600 and i <= 900:\n",
    "        flight_time.append('Early Morn') \n",
    "    elif i >= 900 and i <= 1200:\n",
    "        flight_time.append('Morning') \n",
    "    elif i >= 1200 and i <= 1400:\n",
    "        flight_time.append('Lunch') \n",
    "    elif i >= 1400 and i <= 1700:\n",
    "        flight_time.append('Afternoon') \n",
    "    elif i >= 1700 and i <= 2000:\n",
    "        flight_time.append('Early Even')\n",
    "    else:\n",
    "        flight_time.append('Evening')\n",
    "        \n",
    "Jan2020['flight_time_blk'] = flight_time"
   ]
  },
  {
   "cell_type": "code",
   "execution_count": 59,
   "metadata": {},
   "outputs": [
    {
     "data": {
      "text/plain": [
       "dep_time_blk\n",
       "0001-0559       49\n",
       "0600-0659       12\n",
       "0700-0759       15\n",
       "0800-0859        6\n",
       "0900-0959        6\n",
       "1000-1059       12\n",
       "1100-1159        9\n",
       "1200-1259       15\n",
       "1300-1359       32\n",
       "1400-1459       59\n",
       "1500-1559       91\n",
       "1600-1659      165\n",
       "1700-1759      496\n",
       "1800-1859     1141\n",
       "1900-1959     4390\n",
       "2000-2059    26156\n",
       "2100-2159    18558\n",
       "2200-2259    13790\n",
       "2300-2359     3809\n",
       "Name: flight_time_blk, dtype: int64"
      ]
     },
     "execution_count": 59,
     "metadata": {},
     "output_type": "execute_result"
    }
   ],
   "source": [
    "# the dep_time_blk does not completely equal the correct buckets based on the dep time field.\n",
    "Jan2020[Jan2020['flight_time_blk'] == 'Evening'].groupby(['dep_time_blk'])['flight_time_blk'].count()"
   ]
  },
  {
   "cell_type": "code",
   "execution_count": 34,
   "metadata": {},
   "outputs": [
    {
     "data": {
      "text/plain": [
       "(607346, 26)"
      ]
     },
     "execution_count": 34,
     "metadata": {},
     "output_type": "execute_result"
    }
   ],
   "source": [
    "Jan2020.shape"
   ]
  },
  {
   "cell_type": "code",
   "execution_count": null,
   "metadata": {},
   "outputs": [],
   "source": [
    "#It made more sense to use total delayed to see the delay of major airports, not enough data for some airports"
   ]
  },
  {
   "cell_type": "code",
   "execution_count": 13,
   "metadata": {},
   "outputs": [
    {
     "data": {
      "text/html": [
       "<div>\n",
       "<style scoped>\n",
       "    .dataframe tbody tr th:only-of-type {\n",
       "        vertical-align: middle;\n",
       "    }\n",
       "\n",
       "    .dataframe tbody tr th {\n",
       "        vertical-align: top;\n",
       "    }\n",
       "\n",
       "    .dataframe thead th {\n",
       "        text-align: right;\n",
       "    }\n",
       "</style>\n",
       "<table border=\"1\" class=\"dataframe\">\n",
       "  <thead>\n",
       "    <tr style=\"text-align: right;\">\n",
       "      <th></th>\n",
       "      <th>Origin</th>\n",
       "      <th>Not_Delayed</th>\n",
       "      <th>Delayed</th>\n",
       "      <th>PercentOfDelayed</th>\n",
       "    </tr>\n",
       "  </thead>\n",
       "  <tbody>\n",
       "    <tr>\n",
       "      <th>8</th>\n",
       "      <td>Atlanta Hartsfield I</td>\n",
       "      <td>28821</td>\n",
       "      <td>3366</td>\n",
       "      <td>0.104576</td>\n",
       "    </tr>\n",
       "    <tr>\n",
       "      <th>31</th>\n",
       "      <td>Chicago, O'Hare Inte</td>\n",
       "      <td>22103</td>\n",
       "      <td>3584</td>\n",
       "      <td>0.139526</td>\n",
       "    </tr>\n",
       "    <tr>\n",
       "      <th>40</th>\n",
       "      <td>Dallas/Fort Worth In</td>\n",
       "      <td>20503</td>\n",
       "      <td>3851</td>\n",
       "      <td>0.158126</td>\n",
       "    </tr>\n",
       "    <tr>\n",
       "      <th>43</th>\n",
       "      <td>Denver International</td>\n",
       "      <td>17959</td>\n",
       "      <td>2446</td>\n",
       "      <td>0.119873</td>\n",
       "    </tr>\n",
       "    <tr>\n",
       "      <th>27</th>\n",
       "      <td>Charlotte/Douglas In</td>\n",
       "      <td>17214</td>\n",
       "      <td>2788</td>\n",
       "      <td>0.139386</td>\n",
       "    </tr>\n",
       "    <tr>\n",
       "      <th>94</th>\n",
       "      <td>Los Angeles Internat</td>\n",
       "      <td>15489</td>\n",
       "      <td>2305</td>\n",
       "      <td>0.129538</td>\n",
       "    </tr>\n",
       "    <tr>\n",
       "      <th>128</th>\n",
       "      <td>Phoenix, Phoenix Sky</td>\n",
       "      <td>13385</td>\n",
       "      <td>1948</td>\n",
       "      <td>0.127046</td>\n",
       "    </tr>\n",
       "    <tr>\n",
       "      <th>71</th>\n",
       "      <td>Houston, George Bush</td>\n",
       "      <td>13247</td>\n",
       "      <td>1546</td>\n",
       "      <td>0.104509</td>\n",
       "    </tr>\n",
       "    <tr>\n",
       "      <th>88</th>\n",
       "      <td>Las Vegas, Las Vegas</td>\n",
       "      <td>12442</td>\n",
       "      <td>1742</td>\n",
       "      <td>0.122814</td>\n",
       "    </tr>\n",
       "    <tr>\n",
       "      <th>112</th>\n",
       "      <td>New York, La Guardia</td>\n",
       "      <td>11705</td>\n",
       "      <td>2131</td>\n",
       "      <td>0.154019</td>\n",
       "    </tr>\n",
       "  </tbody>\n",
       "</table>\n",
       "</div>"
      ],
      "text/plain": [
       "                   Origin Not_Delayed Delayed  PercentOfDelayed\n",
       "8    Atlanta Hartsfield I       28821    3366          0.104576\n",
       "31   Chicago, O'Hare Inte       22103    3584          0.139526\n",
       "40   Dallas/Fort Worth In       20503    3851          0.158126\n",
       "43   Denver International       17959    2446          0.119873\n",
       "27   Charlotte/Douglas In       17214    2788          0.139386\n",
       "94   Los Angeles Internat       15489    2305          0.129538\n",
       "128  Phoenix, Phoenix Sky       13385    1948          0.127046\n",
       "71   Houston, George Bush       13247    1546          0.104509\n",
       "88   Las Vegas, Las Vegas       12442    1742          0.122814\n",
       "112  New York, La Guardia       11705    2131          0.154019"
      ]
     },
     "execution_count": 13,
     "metadata": {},
     "output_type": "execute_result"
    }
   ],
   "source": [
    "# We can see top 10 origin airports and the percentage of delayed flight vs total flights.\n",
    "df_org=pd.DataFrame(Jan2020.groupby([Jan2020['origin_airport'].str[:20],\"dep_del15\"])[\"origin_airport_id\"].count().unstack(\"dep_del15\").reset_index().values,columns=[\"Origin\",\"Not_Delayed\",\"Delayed\"])\n",
    "df_org[\"PercentOfDelayed\"]=pd.to_numeric(df_org.Delayed /( df_org.Delayed+ df_org.Not_Delayed))\n",
    "df_org.sort_values(by=\"Not_Delayed\",ascending=False,inplace=True)\n",
    "#df_org.sort_values(by=\"PercentOfDelayed\",ascending=False,inplace=True)\n",
    "df_org[df_org['Origin'] != 'Misc.'].head(10)"
   ]
  },
  {
   "cell_type": "code",
   "execution_count": 15,
   "metadata": {},
   "outputs": [
    {
     "data": {
      "text/html": [
       "<div>\n",
       "<style scoped>\n",
       "    .dataframe tbody tr th:only-of-type {\n",
       "        vertical-align: middle;\n",
       "    }\n",
       "\n",
       "    .dataframe tbody tr th {\n",
       "        vertical-align: top;\n",
       "    }\n",
       "\n",
       "    .dataframe thead th {\n",
       "        text-align: right;\n",
       "    }\n",
       "</style>\n",
       "<table border=\"1\" class=\"dataframe\">\n",
       "  <thead>\n",
       "    <tr style=\"text-align: right;\">\n",
       "      <th></th>\n",
       "      <th>Dest.</th>\n",
       "      <th>Not_Delayed</th>\n",
       "      <th>Delayed</th>\n",
       "      <th>PercentOfDelayed</th>\n",
       "    </tr>\n",
       "  </thead>\n",
       "  <tbody>\n",
       "    <tr>\n",
       "      <th>8</th>\n",
       "      <td>Atlanta Hartsfield I</td>\n",
       "      <td>28932</td>\n",
       "      <td>3258</td>\n",
       "      <td>0.101562</td>\n",
       "    </tr>\n",
       "    <tr>\n",
       "      <th>31</th>\n",
       "      <td>Chicago, O'Hare Inte</td>\n",
       "      <td>20974</td>\n",
       "      <td>4687</td>\n",
       "      <td>0.174953</td>\n",
       "    </tr>\n",
       "    <tr>\n",
       "      <th>40</th>\n",
       "      <td>Dallas/Fort Worth In</td>\n",
       "      <td>19859</td>\n",
       "      <td>4480</td>\n",
       "      <td>0.179322</td>\n",
       "    </tr>\n",
       "    <tr>\n",
       "      <th>43</th>\n",
       "      <td>Denver International</td>\n",
       "      <td>17924</td>\n",
       "      <td>2474</td>\n",
       "      <td>0.121079</td>\n",
       "    </tr>\n",
       "    <tr>\n",
       "      <th>27</th>\n",
       "      <td>Charlotte/Douglas In</td>\n",
       "      <td>16408</td>\n",
       "      <td>3587</td>\n",
       "      <td>0.172444</td>\n",
       "    </tr>\n",
       "    <tr>\n",
       "      <th>94</th>\n",
       "      <td>Los Angeles Internat</td>\n",
       "      <td>15461</td>\n",
       "      <td>2338</td>\n",
       "      <td>0.131149</td>\n",
       "    </tr>\n",
       "    <tr>\n",
       "      <th>128</th>\n",
       "      <td>Phoenix, Phoenix Sky</td>\n",
       "      <td>13452</td>\n",
       "      <td>1873</td>\n",
       "      <td>0.122755</td>\n",
       "    </tr>\n",
       "    <tr>\n",
       "      <th>71</th>\n",
       "      <td>Houston, George Bush</td>\n",
       "      <td>12899</td>\n",
       "      <td>1893</td>\n",
       "      <td>0.125033</td>\n",
       "    </tr>\n",
       "    <tr>\n",
       "      <th>88</th>\n",
       "      <td>Las Vegas, Las Vegas</td>\n",
       "      <td>12574</td>\n",
       "      <td>1612</td>\n",
       "      <td>0.114700</td>\n",
       "    </tr>\n",
       "    <tr>\n",
       "      <th>112</th>\n",
       "      <td>New York, La Guardia</td>\n",
       "      <td>12027</td>\n",
       "      <td>1809</td>\n",
       "      <td>0.133861</td>\n",
       "    </tr>\n",
       "  </tbody>\n",
       "</table>\n",
       "</div>"
      ],
      "text/plain": [
       "                    Dest. Not_Delayed Delayed  PercentOfDelayed\n",
       "8    Atlanta Hartsfield I       28932    3258          0.101562\n",
       "31   Chicago, O'Hare Inte       20974    4687          0.174953\n",
       "40   Dallas/Fort Worth In       19859    4480          0.179322\n",
       "43   Denver International       17924    2474          0.121079\n",
       "27   Charlotte/Douglas In       16408    3587          0.172444\n",
       "94   Los Angeles Internat       15461    2338          0.131149\n",
       "128  Phoenix, Phoenix Sky       13452    1873          0.122755\n",
       "71   Houston, George Bush       12899    1893          0.125033\n",
       "88   Las Vegas, Las Vegas       12574    1612          0.114700\n",
       "112  New York, La Guardia       12027    1809          0.133861"
      ]
     },
     "execution_count": 15,
     "metadata": {},
     "output_type": "execute_result"
    }
   ],
   "source": [
    "# We can see top 10 origin airports and the percentage of delayed flight vs total flights.\n",
    "df_dest=pd.DataFrame(Jan2020.groupby([Jan2020['dest_airport'].str[:20],\"arr_del15\"])[\"origin_airport_id\"].count().unstack(\"arr_del15\").reset_index().values,columns=[\"Dest.\",\"Not_Delayed\",\"Delayed\"])\n",
    "df_dest[\"PercentOfDelayed\"]=pd.to_numeric(df_dest.Delayed /( df_dest.Delayed+ df_org.Not_Delayed))\n",
    "df_dest.sort_values(by=\"Not_Delayed\",ascending=False,inplace=True)\n",
    "#df_org.sort_values(by=\"PercentOfDelayed\",ascending=False,inplace=True)\n",
    "df_dest[df_dest['Dest.'] != 'Misc.'].head(10)"
   ]
  },
  {
   "cell_type": "code",
   "execution_count": 17,
   "metadata": {},
   "outputs": [
    {
     "data": {
      "image/png": "[encoded data removed]",
      "text/plain": [
       "<Figure size 1440x1080 with 4 Axes>"
      ]
     },
     "metadata": {
      "needs_background": "light"
     },
     "output_type": "display_data"
    }
   ],
   "source": [
    "#Create combo chart\n",
    "fig, ax = plt.subplots(2,2, figsize=(20,15))\n",
    "\n",
    "\n",
    "sns.barplot(x='Origin', y='Not_Delayed', data = df_org[df_org['Origin'] != 'Misc.'].head(10), palette='summer', ax=ax[0,0])\n",
    "sns.barplot(x='Origin', y='Delayed', data = df_org[df_org['Origin'] != 'Misc.'].head(10), palette='winter', ax=ax[0,0])\n",
    "sns.lineplot(x='Origin', y='PercentOfDelayed', data = df_org[df_org['Origin'] != 'Misc.'].head(10), sort=True,  ax=ax[0,1])\n",
    "\n",
    "\n",
    "sns.barplot(x='Dest.', y='Not_Delayed', data = df_dest[df_dest['Dest.'] != 'Misc.'].head(10), palette='summer', ax=ax[1,0])\n",
    "sns.barplot(x='Dest.', y='Delayed', data = df_dest[df_dest['Dest.'] != 'Misc.'].head(10), palette='winter', ax=ax[1,0])\n",
    "sns.lineplot(x='Dest.', y='PercentOfDelayed', data = df_dest[df_dest['Dest.'] != 'Misc.'].head(10), sort=True,  ax=ax[1,1])\n",
    "\n",
    "ax[0,0].set_title('Delayed Flights - Origin Airport ', fontdict={'fontsize': 10})\n",
    "ax[1,0].set_title('Late Arrivals - Dest. Airport', fontdict={'fontsize': 10})\n",
    "ax[0,1].set_title('Delayed Flights % - Origin Airport ', fontdict={'fontsize': 10})\n",
    "ax[1,1].set_title('Late Arrivals %- Origin Airport', fontdict={'fontsize': 10})\n",
    "       \n",
    "ax[0,0].set_xticklabels(df_org['Origin'],rotation=30)\n",
    "ax[0,1].set_xticklabels(df_org['Origin'],rotation=30)\n",
    "ax[1,0].set_xticklabels(df_dest['Dest.'],rotation=30)\n",
    "ax[1,1].set_xticklabels(df_dest['Dest.'],rotation=30)\n",
    "\n",
    "fig.tight_layout(pad=3.0)\n",
    "\n",
    "plt.show()"
   ]
  },
  {
   "cell_type": "code",
   "execution_count": 43,
   "metadata": {},
   "outputs": [
    {
     "data": {
      "text/html": [
       "<div>\n",
       "<style scoped>\n",
       "    .dataframe tbody tr th:only-of-type {\n",
       "        vertical-align: middle;\n",
       "    }\n",
       "\n",
       "    .dataframe tbody tr th {\n",
       "        vertical-align: top;\n",
       "    }\n",
       "\n",
       "    .dataframe thead th {\n",
       "        text-align: right;\n",
       "    }\n",
       "</style>\n",
       "<table border=\"1\" class=\"dataframe\">\n",
       "  <thead>\n",
       "    <tr style=\"text-align: right;\">\n",
       "      <th></th>\n",
       "      <th>dep_time_blk</th>\n",
       "      <th>Not_Delayed</th>\n",
       "      <th>Delayed</th>\n",
       "      <th>PercentOfDelayed</th>\n",
       "    </tr>\n",
       "  </thead>\n",
       "  <tbody>\n",
       "    <tr>\n",
       "      <th>14</th>\n",
       "      <td>1900-1959</td>\n",
       "      <td>27114</td>\n",
       "      <td>5945</td>\n",
       "      <td>0.179830</td>\n",
       "    </tr>\n",
       "    <tr>\n",
       "      <th>13</th>\n",
       "      <td>1800-1859</td>\n",
       "      <td>28928</td>\n",
       "      <td>6219</td>\n",
       "      <td>0.176943</td>\n",
       "    </tr>\n",
       "    <tr>\n",
       "      <th>15</th>\n",
       "      <td>2000-2059</td>\n",
       "      <td>24246</td>\n",
       "      <td>5064</td>\n",
       "      <td>0.172774</td>\n",
       "    </tr>\n",
       "    <tr>\n",
       "      <th>12</th>\n",
       "      <td>1700-1759</td>\n",
       "      <td>33063</td>\n",
       "      <td>6725</td>\n",
       "      <td>0.169021</td>\n",
       "    </tr>\n",
       "    <tr>\n",
       "      <th>16</th>\n",
       "      <td>2100-2159</td>\n",
       "      <td>15783</td>\n",
       "      <td>3167</td>\n",
       "      <td>0.167124</td>\n",
       "    </tr>\n",
       "    <tr>\n",
       "      <th>11</th>\n",
       "      <td>1600-1659</td>\n",
       "      <td>30183</td>\n",
       "      <td>5998</td>\n",
       "      <td>0.165778</td>\n",
       "    </tr>\n",
       "    <tr>\n",
       "      <th>10</th>\n",
       "      <td>1500-1559</td>\n",
       "      <td>30318</td>\n",
       "      <td>5794</td>\n",
       "      <td>0.160445</td>\n",
       "    </tr>\n",
       "    <tr>\n",
       "      <th>9</th>\n",
       "      <td>1400-1459</td>\n",
       "      <td>30127</td>\n",
       "      <td>5668</td>\n",
       "      <td>0.158346</td>\n",
       "    </tr>\n",
       "    <tr>\n",
       "      <th>17</th>\n",
       "      <td>2200-2259</td>\n",
       "      <td>12111</td>\n",
       "      <td>2124</td>\n",
       "      <td>0.149210</td>\n",
       "    </tr>\n",
       "    <tr>\n",
       "      <th>8</th>\n",
       "      <td>1300-1359</td>\n",
       "      <td>29476</td>\n",
       "      <td>5092</td>\n",
       "      <td>0.147304</td>\n",
       "    </tr>\n",
       "    <tr>\n",
       "      <th>18</th>\n",
       "      <td>2300-2359</td>\n",
       "      <td>3663</td>\n",
       "      <td>631</td>\n",
       "      <td>0.146949</td>\n",
       "    </tr>\n",
       "    <tr>\n",
       "      <th>7</th>\n",
       "      <td>1200-1259</td>\n",
       "      <td>32756</td>\n",
       "      <td>5347</td>\n",
       "      <td>0.140330</td>\n",
       "    </tr>\n",
       "    <tr>\n",
       "      <th>5</th>\n",
       "      <td>1000-1059</td>\n",
       "      <td>31381</td>\n",
       "      <td>4731</td>\n",
       "      <td>0.131009</td>\n",
       "    </tr>\n",
       "    <tr>\n",
       "      <th>6</th>\n",
       "      <td>1100-1159</td>\n",
       "      <td>33138</td>\n",
       "      <td>4954</td>\n",
       "      <td>0.130054</td>\n",
       "    </tr>\n",
       "    <tr>\n",
       "      <th>4</th>\n",
       "      <td>0900-0959</td>\n",
       "      <td>32763</td>\n",
       "      <td>3948</td>\n",
       "      <td>0.107543</td>\n",
       "    </tr>\n",
       "  </tbody>\n",
       "</table>\n",
       "</div>"
      ],
      "text/plain": [
       "   dep_time_blk Not_Delayed Delayed  PercentOfDelayed\n",
       "14    1900-1959       27114    5945          0.179830\n",
       "13    1800-1859       28928    6219          0.176943\n",
       "15    2000-2059       24246    5064          0.172774\n",
       "12    1700-1759       33063    6725          0.169021\n",
       "16    2100-2159       15783    3167          0.167124\n",
       "11    1600-1659       30183    5998          0.165778\n",
       "10    1500-1559       30318    5794          0.160445\n",
       "9     1400-1459       30127    5668          0.158346\n",
       "17    2200-2259       12111    2124          0.149210\n",
       "8     1300-1359       29476    5092          0.147304\n",
       "18    2300-2359        3663     631          0.146949\n",
       "7     1200-1259       32756    5347          0.140330\n",
       "5     1000-1059       31381    4731          0.131009\n",
       "6     1100-1159       33138    4954          0.130054\n",
       "4     0900-0959       32763    3948          0.107543"
      ]
     },
     "execution_count": 43,
     "metadata": {},
     "output_type": "execute_result"
    }
   ],
   "source": [
    "# We can see top 10 departure time blocks and the percentage of delayed flight vs total flights.\n",
    "#It seems most of the flights are in the morning. But higher percentage of delay occurs after 1700.\n",
    "df_depblk=pd.DataFrame(Jan2020.groupby([\"dep_time_blk\",\"dep_del15\"])[\"origin_airport_id\"].count().unstack(\"dep_del15\").reset_index().values,columns=[\"dep_time_blk\",\"Not_Delayed\",\"Delayed\"])\n",
    "df_depblk[\"PercentOfDelayed\"]=pd.to_numeric(df_depblk.Delayed /( df_depblk.Delayed+ df_depblk.Not_Delayed))\n",
    "df_depblk.sort_values(by=\"PercentOfDelayed\",ascending=False,inplace=True)\n",
    "df_depblk.head(15)"
   ]
  },
  {
   "cell_type": "code",
   "execution_count": 46,
   "metadata": {},
   "outputs": [
    {
     "data": {
      "text/html": [
       "<div>\n",
       "<style scoped>\n",
       "    .dataframe tbody tr th:only-of-type {\n",
       "        vertical-align: middle;\n",
       "    }\n",
       "\n",
       "    .dataframe tbody tr th {\n",
       "        vertical-align: top;\n",
       "    }\n",
       "\n",
       "    .dataframe thead th {\n",
       "        text-align: right;\n",
       "    }\n",
       "</style>\n",
       "<table border=\"1\" class=\"dataframe\">\n",
       "  <thead>\n",
       "    <tr style=\"text-align: right;\">\n",
       "      <th></th>\n",
       "      <th>flight_time_blk</th>\n",
       "      <th>Not_Delayed</th>\n",
       "      <th>Delayed</th>\n",
       "      <th>PercentOfDelayed</th>\n",
       "    </tr>\n",
       "  </thead>\n",
       "  <tbody>\n",
       "    <tr>\n",
       "      <th>3</th>\n",
       "      <td>Evening</td>\n",
       "      <td>52929</td>\n",
       "      <td>15882</td>\n",
       "      <td>0.230806</td>\n",
       "    </tr>\n",
       "    <tr>\n",
       "      <th>1</th>\n",
       "      <td>Early Even</td>\n",
       "      <td>86346</td>\n",
       "      <td>18484</td>\n",
       "      <td>0.176324</td>\n",
       "    </tr>\n",
       "    <tr>\n",
       "      <th>0</th>\n",
       "      <td>Afternoon</td>\n",
       "      <td>89863</td>\n",
       "      <td>16881</td>\n",
       "      <td>0.158145</td>\n",
       "    </tr>\n",
       "    <tr>\n",
       "      <th>4</th>\n",
       "      <td>Lunch</td>\n",
       "      <td>67363</td>\n",
       "      <td>10168</td>\n",
       "      <td>0.131148</td>\n",
       "    </tr>\n",
       "    <tr>\n",
       "      <th>5</th>\n",
       "      <td>Morning</td>\n",
       "      <td>95681</td>\n",
       "      <td>12421</td>\n",
       "      <td>0.114901</td>\n",
       "    </tr>\n",
       "    <tr>\n",
       "      <th>2</th>\n",
       "      <td>Early Morn</td>\n",
       "      <td>104640</td>\n",
       "      <td>6602</td>\n",
       "      <td>0.059348</td>\n",
       "    </tr>\n",
       "    <tr>\n",
       "      <th>6</th>\n",
       "      <td>Overnight</td>\n",
       "      <td>28640</td>\n",
       "      <td>1446</td>\n",
       "      <td>0.048062</td>\n",
       "    </tr>\n",
       "  </tbody>\n",
       "</table>\n",
       "</div>"
      ],
      "text/plain": [
       "  flight_time_blk Not_Delayed Delayed  PercentOfDelayed\n",
       "3         Evening       52929   15882          0.230806\n",
       "1      Early Even       86346   18484          0.176324\n",
       "0       Afternoon       89863   16881          0.158145\n",
       "4           Lunch       67363   10168          0.131148\n",
       "5         Morning       95681   12421          0.114901\n",
       "2      Early Morn      104640    6602          0.059348\n",
       "6       Overnight       28640    1446          0.048062"
      ]
     },
     "execution_count": 46,
     "metadata": {},
     "output_type": "execute_result"
    }
   ],
   "source": [
    "# We can see top 10 departure time blocks and the percentage of delayed flight vs total flights.\n",
    "#It seems most of the flights are in the morning. But higher percentage of delay occurs after 1700.\n",
    "df_timeblk=pd.DataFrame(Jan2020.groupby([\"flight_time_blk\",\"dep_del15\"])[\"origin_airport_id\"].count().unstack(\"dep_del15\").reset_index().values,columns=[\"flight_time_blk\",\"Not_Delayed\",\"Delayed\"])\n",
    "df_timeblk[\"PercentOfDelayed\"]=pd.to_numeric(df_timeblk.Delayed /( df_timeblk.Delayed+ df_timeblk.Not_Delayed))\n",
    "df_timeblk.sort_values(by=\"PercentOfDelayed\",ascending=False,inplace=True)\n",
    "df_timeblk.head(10)"
   ]
  },
  {
   "cell_type": "code",
   "execution_count": 42,
   "metadata": {},
   "outputs": [
    {
     "data": {
      "image/png": "[encoded data removed]",
      "text/plain": [
       "<Figure size 720x432 with 2 Axes>"
      ]
     },
     "metadata": {
      "needs_background": "light"
     },
     "output_type": "display_data"
    }
   ],
   "source": [
    "#Create combo chart\n",
    "fig, ax1 = plt.subplots(figsize=(10,6))\n",
    "color = 'tab:green'\n",
    "#bar plot creation\n",
    "ax1.set_title('Delayed vs Non-Delayed Flights by Time Bucket', fontsize=16)\n",
    "ax1 = sns.barplot(x='flight_time_blk', y='Not_Delayed', data = df_timeblk, palette='summer')\n",
    "ax1 = sns.barplot(x='flight_time_blk', y='Delayed', data = df_timeblk, palette='winter')\n",
    "ax1.set_xlabel('Time Block', fontsize=16)\n",
    "ax1.set_ylabel('Flights', fontsize=16)\n",
    "ax1.tick_params(axis='y')\n",
    "#specify we want to share the same x-axis\n",
    "ax2 = ax1.twinx()\n",
    "color = 'tab:red'\n",
    "#line plot creation\n",
    "ax2 = sns.lineplot(x='flight_time_blk', y='PercentOfDelayed', data = df_timeblk, sort=True, color=color)\n",
    "ax2.set_ylabel('Delayed %', fontsize=16)\n",
    "ax2.tick_params(axis='y', color=color)\n",
    "#show plot\n",
    "plt.show()"
   ]
  },
  {
   "cell_type": "code",
   "execution_count": 19,
   "metadata": {},
   "outputs": [
    {
     "data": {
      "image/png": "[encoded data removed]",
      "text/plain": [
       "<Figure size 432x288 with 1 Axes>"
      ]
     },
     "metadata": {
      "needs_background": "light"
     },
     "output_type": "display_data"
    }
   ],
   "source": [
    "#From this plot we can see that there is not a clear relationship between distance and getting delays. \n",
    "plt.scatter(Jan2020[\"distance\"],df[\"dep_del15\"])\n",
    "plt.show()"
   ]
  },
  {
   "cell_type": "code",
   "execution_count": 20,
   "metadata": {},
   "outputs": [
    {
     "data": {
      "text/html": [
       "<div>\n",
       "<style scoped>\n",
       "    .dataframe tbody tr th:only-of-type {\n",
       "        vertical-align: middle;\n",
       "    }\n",
       "\n",
       "    .dataframe tbody tr th {\n",
       "        vertical-align: top;\n",
       "    }\n",
       "\n",
       "    .dataframe thead th {\n",
       "        text-align: right;\n",
       "    }\n",
       "</style>\n",
       "<table border=\"1\" class=\"dataframe\">\n",
       "  <thead>\n",
       "    <tr style=\"text-align: right;\">\n",
       "      <th></th>\n",
       "      <th>FlightType</th>\n",
       "      <th>Not_Delayed</th>\n",
       "      <th>Delayed</th>\n",
       "      <th>PercentOfDelayed</th>\n",
       "    </tr>\n",
       "  </thead>\n",
       "  <tbody>\n",
       "    <tr>\n",
       "      <th>2</th>\n",
       "      <td>Short Haul</td>\n",
       "      <td>317155</td>\n",
       "      <td>47469</td>\n",
       "      <td>0.130186</td>\n",
       "    </tr>\n",
       "    <tr>\n",
       "      <th>1</th>\n",
       "      <td>Medium Haul</td>\n",
       "      <td>184797</td>\n",
       "      <td>30606</td>\n",
       "      <td>0.142087</td>\n",
       "    </tr>\n",
       "    <tr>\n",
       "      <th>0</th>\n",
       "      <td>Long Haul</td>\n",
       "      <td>23510</td>\n",
       "      <td>3809</td>\n",
       "      <td>0.139427</td>\n",
       "    </tr>\n",
       "  </tbody>\n",
       "</table>\n",
       "</div>"
      ],
      "text/plain": [
       "    FlightType Not_Delayed Delayed  PercentOfDelayed\n",
       "2   Short Haul      317155   47469          0.130186\n",
       "1  Medium Haul      184797   30606          0.142087\n",
       "0    Long Haul       23510    3809          0.139427"
      ]
     },
     "execution_count": 20,
     "metadata": {},
     "output_type": "execute_result"
    }
   ],
   "source": [
    "#put flight time into buckets and still not clear pattern.\n",
    "\n",
    "# Its clearly seen that most of the flights are on the 4th day. Nearly %20 of flights are delayed of 6th day.\n",
    "df_flt=pd.DataFrame(Jan2020.groupby([\"flight_distance\",\"dep_del15\"])[\"origin_airport_id\"].count().unstack(\"dep_del15\").reset_index().values,columns=[\"FlightType\",\"Not_Delayed\",\"Delayed\"])\n",
    "df_flt[\"PercentOfDelayed\"]=pd.to_numeric(df_flt.Delayed /( df_flt.Delayed+ df_flt.Not_Delayed))\n",
    "df_flt.sort_values(by=\"Not_Delayed\",ascending=False,inplace=True)\n",
    "df_flt"
   ]
  },
  {
   "cell_type": "code",
   "execution_count": 21,
   "metadata": {},
   "outputs": [
    {
     "data": {
      "text/html": [
       "<div>\n",
       "<style scoped>\n",
       "    .dataframe tbody tr th:only-of-type {\n",
       "        vertical-align: middle;\n",
       "    }\n",
       "\n",
       "    .dataframe tbody tr th {\n",
       "        vertical-align: top;\n",
       "    }\n",
       "\n",
       "    .dataframe thead th {\n",
       "        text-align: right;\n",
       "    }\n",
       "</style>\n",
       "<table border=\"1\" class=\"dataframe\">\n",
       "  <thead>\n",
       "    <tr style=\"text-align: right;\">\n",
       "      <th></th>\n",
       "      <th>Airline</th>\n",
       "      <th>Not_Delayed</th>\n",
       "      <th>Delayed</th>\n",
       "      <th>PercentOfDelayed</th>\n",
       "    </tr>\n",
       "  </thead>\n",
       "  <tbody>\n",
       "    <tr>\n",
       "      <th>10</th>\n",
       "      <td>Jetstream Intl</td>\n",
       "      <td>19653</td>\n",
       "      <td>4656</td>\n",
       "      <td>0.191534</td>\n",
       "    </tr>\n",
       "    <tr>\n",
       "      <th>0</th>\n",
       "      <td>Alaska Airlines</td>\n",
       "      <td>17247</td>\n",
       "      <td>3863</td>\n",
       "      <td>0.182994</td>\n",
       "    </tr>\n",
       "    <tr>\n",
       "      <th>1</th>\n",
       "      <td>Allegiant Air LLC</td>\n",
       "      <td>6398</td>\n",
       "      <td>1376</td>\n",
       "      <td>0.177000</td>\n",
       "    </tr>\n",
       "    <tr>\n",
       "      <th>5</th>\n",
       "      <td>Envoy Air</td>\n",
       "      <td>21901</td>\n",
       "      <td>4299</td>\n",
       "      <td>0.164084</td>\n",
       "    </tr>\n",
       "    <tr>\n",
       "      <th>11</th>\n",
       "      <td>Mesa Airlines, Inc.</td>\n",
       "      <td>15034</td>\n",
       "      <td>2802</td>\n",
       "      <td>0.157098</td>\n",
       "    </tr>\n",
       "    <tr>\n",
       "      <th>13</th>\n",
       "      <td>Skywest Airlines</td>\n",
       "      <td>60324</td>\n",
       "      <td>10836</td>\n",
       "      <td>0.152277</td>\n",
       "    </tr>\n",
       "    <tr>\n",
       "      <th>7</th>\n",
       "      <td>Frontier Airlines, I</td>\n",
       "      <td>10579</td>\n",
       "      <td>1888</td>\n",
       "      <td>0.151440</td>\n",
       "    </tr>\n",
       "    <tr>\n",
       "      <th>9</th>\n",
       "      <td>Jetblue Airways Corp</td>\n",
       "      <td>20974</td>\n",
       "      <td>3735</td>\n",
       "      <td>0.151159</td>\n",
       "    </tr>\n",
       "    <tr>\n",
       "      <th>2</th>\n",
       "      <td>American Airlines</td>\n",
       "      <td>65276</td>\n",
       "      <td>11000</td>\n",
       "      <td>0.144213</td>\n",
       "    </tr>\n",
       "    <tr>\n",
       "      <th>15</th>\n",
       "      <td>Spirit Airlines, Inc</td>\n",
       "      <td>15074</td>\n",
       "      <td>2403</td>\n",
       "      <td>0.137495</td>\n",
       "    </tr>\n",
       "    <tr>\n",
       "      <th>16</th>\n",
       "      <td>United Airlines, Inc</td>\n",
       "      <td>42236</td>\n",
       "      <td>6165</td>\n",
       "      <td>0.127373</td>\n",
       "    </tr>\n",
       "    <tr>\n",
       "      <th>14</th>\n",
       "      <td>Southwest Airlines</td>\n",
       "      <td>96389</td>\n",
       "      <td>13381</td>\n",
       "      <td>0.121900</td>\n",
       "    </tr>\n",
       "    <tr>\n",
       "      <th>6</th>\n",
       "      <td>ExpressJet Airlines</td>\n",
       "      <td>9280</td>\n",
       "      <td>1284</td>\n",
       "      <td>0.121545</td>\n",
       "    </tr>\n",
       "    <tr>\n",
       "      <th>4</th>\n",
       "      <td>Endeavor Air</td>\n",
       "      <td>20488</td>\n",
       "      <td>2580</td>\n",
       "      <td>0.111843</td>\n",
       "    </tr>\n",
       "    <tr>\n",
       "      <th>12</th>\n",
       "      <td>Republic Airlines</td>\n",
       "      <td>26159</td>\n",
       "      <td>2964</td>\n",
       "      <td>0.101775</td>\n",
       "    </tr>\n",
       "    <tr>\n",
       "      <th>3</th>\n",
       "      <td>Delta Air Lines, Inc</td>\n",
       "      <td>71972</td>\n",
       "      <td>8095</td>\n",
       "      <td>0.101103</td>\n",
       "    </tr>\n",
       "    <tr>\n",
       "      <th>8</th>\n",
       "      <td>Hawaiian Airlines In</td>\n",
       "      <td>6478</td>\n",
       "      <td>557</td>\n",
       "      <td>0.079176</td>\n",
       "    </tr>\n",
       "  </tbody>\n",
       "</table>\n",
       "</div>"
      ],
      "text/plain": [
       "                 Airline Not_Delayed Delayed  PercentOfDelayed\n",
       "10        Jetstream Intl       19653    4656          0.191534\n",
       "0        Alaska Airlines       17247    3863          0.182994\n",
       "1      Allegiant Air LLC        6398    1376          0.177000\n",
       "5              Envoy Air       21901    4299          0.164084\n",
       "11   Mesa Airlines, Inc.       15034    2802          0.157098\n",
       "13      Skywest Airlines       60324   10836          0.152277\n",
       "7   Frontier Airlines, I       10579    1888          0.151440\n",
       "9   Jetblue Airways Corp       20974    3735          0.151159\n",
       "2      American Airlines       65276   11000          0.144213\n",
       "15  Spirit Airlines, Inc       15074    2403          0.137495\n",
       "16  United Airlines, Inc       42236    6165          0.127373\n",
       "14    Southwest Airlines       96389   13381          0.121900\n",
       "6    ExpressJet Airlines        9280    1284          0.121545\n",
       "4           Endeavor Air       20488    2580          0.111843\n",
       "12     Republic Airlines       26159    2964          0.101775\n",
       "3   Delta Air Lines, Inc       71972    8095          0.101103\n",
       "8   Hawaiian Airlines In        6478     557          0.079176"
      ]
     },
     "execution_count": 21,
     "metadata": {},
     "output_type": "execute_result"
    }
   ],
   "source": [
    "# We can see by airlines and the percentage of delayed flight vs total flights.\n",
    "df_air_d=pd.DataFrame(Jan2020.groupby([Jan2020['air_carrier_name'].str[:20],\"dep_del15\"])[\"op_carrier\"].count().unstack(\"dep_del15\").reset_index().values,columns=[\"Airline\",\"Not_Delayed\",\"Delayed\"])\n",
    "df_air_d[\"PercentOfDelayed\"]=pd.to_numeric(df_air_d.Delayed /( df_air_d.Delayed+ df_air_d.Not_Delayed))\n",
    "#df_org.sort_values(by=\"Not_Delayed\",ascending=False,inplace=True)\n",
    "df_air_d.sort_values(by=\"PercentOfDelayed\",ascending=False,inplace=True)\n",
    "df_air_d.head(17)"
   ]
  },
  {
   "cell_type": "code",
   "execution_count": 22,
   "metadata": {},
   "outputs": [
    {
     "data": {
      "text/html": [
       "<div>\n",
       "<style scoped>\n",
       "    .dataframe tbody tr th:only-of-type {\n",
       "        vertical-align: middle;\n",
       "    }\n",
       "\n",
       "    .dataframe tbody tr th {\n",
       "        vertical-align: top;\n",
       "    }\n",
       "\n",
       "    .dataframe thead th {\n",
       "        text-align: right;\n",
       "    }\n",
       "</style>\n",
       "<table border=\"1\" class=\"dataframe\">\n",
       "  <thead>\n",
       "    <tr style=\"text-align: right;\">\n",
       "      <th></th>\n",
       "      <th>Airline</th>\n",
       "      <th>Not_Delayed</th>\n",
       "      <th>Delayed</th>\n",
       "      <th>PercentOfLateArrivals</th>\n",
       "    </tr>\n",
       "  </thead>\n",
       "  <tbody>\n",
       "    <tr>\n",
       "      <th>10</th>\n",
       "      <td>Jetstream Intl</td>\n",
       "      <td>19143</td>\n",
       "      <td>5166</td>\n",
       "      <td>0.212514</td>\n",
       "    </tr>\n",
       "    <tr>\n",
       "      <th>0</th>\n",
       "      <td>Alaska Airlines</td>\n",
       "      <td>16717</td>\n",
       "      <td>4393</td>\n",
       "      <td>0.208100</td>\n",
       "    </tr>\n",
       "    <tr>\n",
       "      <th>1</th>\n",
       "      <td>Allegiant Air LLC</td>\n",
       "      <td>6236</td>\n",
       "      <td>1538</td>\n",
       "      <td>0.197839</td>\n",
       "    </tr>\n",
       "    <tr>\n",
       "      <th>5</th>\n",
       "      <td>Envoy Air</td>\n",
       "      <td>21221</td>\n",
       "      <td>4979</td>\n",
       "      <td>0.190038</td>\n",
       "    </tr>\n",
       "    <tr>\n",
       "      <th>11</th>\n",
       "      <td>Mesa Airlines, Inc.</td>\n",
       "      <td>14718</td>\n",
       "      <td>3118</td>\n",
       "      <td>0.174815</td>\n",
       "    </tr>\n",
       "    <tr>\n",
       "      <th>6</th>\n",
       "      <td>ExpressJet Airlines</td>\n",
       "      <td>8963</td>\n",
       "      <td>1601</td>\n",
       "      <td>0.151552</td>\n",
       "    </tr>\n",
       "    <tr>\n",
       "      <th>13</th>\n",
       "      <td>Skywest Airlines</td>\n",
       "      <td>60468</td>\n",
       "      <td>10692</td>\n",
       "      <td>0.150253</td>\n",
       "    </tr>\n",
       "    <tr>\n",
       "      <th>2</th>\n",
       "      <td>American Airlines</td>\n",
       "      <td>64928</td>\n",
       "      <td>11348</td>\n",
       "      <td>0.148775</td>\n",
       "    </tr>\n",
       "    <tr>\n",
       "      <th>9</th>\n",
       "      <td>Jetblue Airways Corp</td>\n",
       "      <td>21034</td>\n",
       "      <td>3675</td>\n",
       "      <td>0.148731</td>\n",
       "    </tr>\n",
       "    <tr>\n",
       "      <th>7</th>\n",
       "      <td>Frontier Airlines, I</td>\n",
       "      <td>10672</td>\n",
       "      <td>1795</td>\n",
       "      <td>0.143980</td>\n",
       "    </tr>\n",
       "    <tr>\n",
       "      <th>15</th>\n",
       "      <td>Spirit Airlines, Inc</td>\n",
       "      <td>15143</td>\n",
       "      <td>2334</td>\n",
       "      <td>0.133547</td>\n",
       "    </tr>\n",
       "    <tr>\n",
       "      <th>16</th>\n",
       "      <td>United Airlines, Inc</td>\n",
       "      <td>42166</td>\n",
       "      <td>6235</td>\n",
       "      <td>0.128820</td>\n",
       "    </tr>\n",
       "    <tr>\n",
       "      <th>12</th>\n",
       "      <td>Republic Airlines</td>\n",
       "      <td>25695</td>\n",
       "      <td>3428</td>\n",
       "      <td>0.117708</td>\n",
       "    </tr>\n",
       "    <tr>\n",
       "      <th>4</th>\n",
       "      <td>Endeavor Air</td>\n",
       "      <td>20553</td>\n",
       "      <td>2515</td>\n",
       "      <td>0.109025</td>\n",
       "    </tr>\n",
       "    <tr>\n",
       "      <th>3</th>\n",
       "      <td>Delta Air Lines, Inc</td>\n",
       "      <td>71608</td>\n",
       "      <td>8459</td>\n",
       "      <td>0.105649</td>\n",
       "    </tr>\n",
       "    <tr>\n",
       "      <th>8</th>\n",
       "      <td>Hawaiian Airlines In</td>\n",
       "      <td>6347</td>\n",
       "      <td>688</td>\n",
       "      <td>0.097797</td>\n",
       "    </tr>\n",
       "    <tr>\n",
       "      <th>14</th>\n",
       "      <td>Southwest Airlines</td>\n",
       "      <td>99449</td>\n",
       "      <td>10321</td>\n",
       "      <td>0.094024</td>\n",
       "    </tr>\n",
       "  </tbody>\n",
       "</table>\n",
       "</div>"
      ],
      "text/plain": [
       "                 Airline Not_Delayed Delayed  PercentOfLateArrivals\n",
       "10        Jetstream Intl       19143    5166               0.212514\n",
       "0        Alaska Airlines       16717    4393               0.208100\n",
       "1      Allegiant Air LLC        6236    1538               0.197839\n",
       "5              Envoy Air       21221    4979               0.190038\n",
       "11   Mesa Airlines, Inc.       14718    3118               0.174815\n",
       "6    ExpressJet Airlines        8963    1601               0.151552\n",
       "13      Skywest Airlines       60468   10692               0.150253\n",
       "2      American Airlines       64928   11348               0.148775\n",
       "9   Jetblue Airways Corp       21034    3675               0.148731\n",
       "7   Frontier Airlines, I       10672    1795               0.143980\n",
       "15  Spirit Airlines, Inc       15143    2334               0.133547\n",
       "16  United Airlines, Inc       42166    6235               0.128820\n",
       "12     Republic Airlines       25695    3428               0.117708\n",
       "4           Endeavor Air       20553    2515               0.109025\n",
       "3   Delta Air Lines, Inc       71608    8459               0.105649\n",
       "8   Hawaiian Airlines In        6347     688               0.097797\n",
       "14    Southwest Airlines       99449   10321               0.094024"
      ]
     },
     "execution_count": 22,
     "metadata": {},
     "output_type": "execute_result"
    }
   ],
   "source": [
    "# We can see by airlines and the percentage of late arrival flights flight vs total flights.\n",
    "df_late=pd.DataFrame(Jan2020.groupby([Jan2020['air_carrier_name'].str[:20],\"arr_del15\"])[\"op_carrier\"].count().unstack(\"arr_del15\").reset_index().values,columns=[\"Airline\",\"Not_Delayed\",\"Delayed\"])\n",
    "df_late[\"PercentOfLateArrivals\"]=pd.to_numeric(df_late.Delayed /( df_late.Delayed+ df_late.Not_Delayed))\n",
    "#df_org.sort_values(by=\"Not_Delayed\",ascending=False,inplace=True)\n",
    "df_late.sort_values(by=\"PercentOfLateArrivals\",ascending=False,inplace=True)\n",
    "df_late.head(17)"
   ]
  },
  {
   "cell_type": "code",
   "execution_count": 23,
   "metadata": {},
   "outputs": [
    {
     "data": {
      "image/png": "[encoded data removed]",
      "text/plain": [
       "<Figure size 1440x1080 with 4 Axes>"
      ]
     },
     "metadata": {
      "needs_background": "light"
     },
     "output_type": "display_data"
    }
   ],
   "source": [
    "#Create combo chart\n",
    "fig, ax = plt.subplots(2,2, figsize=(20,15))\n",
    "\n",
    "\n",
    "sns.barplot(x='Airline', y='Not_Delayed', data = df_air_d, palette='summer', ax=ax[0,0])\n",
    "sns.barplot(x='Airline', y='Delayed', data = df_air_d, palette='winter', ax=ax[0,0])\n",
    "sns.lineplot(x='Airline', y='PercentOfDelayed', data = df_air_d, sort=True,  ax=ax[0,1])\n",
    "\n",
    "\n",
    "sns.barplot(x='Airline', y='Not_Delayed', data = df_late, palette='summer', ax=ax[1,0])\n",
    "sns.barplot(x='Airline', y='Delayed', data = df_late, palette='winter', ax=ax[1,0])\n",
    "sns.lineplot(x='Airline', y='PercentOfLateArrivals', data = df_late, sort=True,  ax=ax[1,1])\n",
    "\n",
    "ax[0,0].set_title('Delayed Flights - Airlines ', fontdict={'fontsize': 10})\n",
    "ax[1,0].set_title('Late Arrivals - Airlines', fontdict={'fontsize': 10})\n",
    "ax[0,1].set_title('Delayed Flights % - Airlines ', fontdict={'fontsize': 10})\n",
    "ax[1,1].set_title('Late Arrivals %- Airlines', fontdict={'fontsize': 10})\n",
    "       \n",
    "ax[0,0].set_xticklabels(df_air_d['Airline'],rotation=30)\n",
    "ax[0,1].set_xticklabels(df_air_d['Airline'],rotation=30)\n",
    "ax[1,0].set_xticklabels(df_late['Airline'],rotation=30)\n",
    "ax[1,1].set_xticklabels(df_late['Airline'],rotation=30)\n",
    "\n",
    "fig.tight_layout(pad=3.0)\n",
    "\n",
    "plt.show()"
   ]
  },
  {
   "cell_type": "code",
   "execution_count": 25,
   "metadata": {},
   "outputs": [
    {
     "data": {
      "text/html": [
       "<div>\n",
       "<style scoped>\n",
       "    .dataframe tbody tr th:only-of-type {\n",
       "        vertical-align: middle;\n",
       "    }\n",
       "\n",
       "    .dataframe tbody tr th {\n",
       "        vertical-align: top;\n",
       "    }\n",
       "\n",
       "    .dataframe thead th {\n",
       "        text-align: right;\n",
       "    }\n",
       "</style>\n",
       "<table border=\"1\" class=\"dataframe\">\n",
       "  <thead>\n",
       "    <tr style=\"text-align: right;\">\n",
       "      <th></th>\n",
       "      <th>DayofWeek</th>\n",
       "      <th>Not_Delayed</th>\n",
       "      <th>Delayed</th>\n",
       "      <th>PercentOfDelayed</th>\n",
       "    </tr>\n",
       "  </thead>\n",
       "  <tbody>\n",
       "    <tr>\n",
       "      <th>4</th>\n",
       "      <td>Thursday</td>\n",
       "      <td>89743</td>\n",
       "      <td>13933</td>\n",
       "      <td>0.134390</td>\n",
       "    </tr>\n",
       "    <tr>\n",
       "      <th>0</th>\n",
       "      <td>Friday</td>\n",
       "      <td>87942</td>\n",
       "      <td>15870</td>\n",
       "      <td>0.152873</td>\n",
       "    </tr>\n",
       "    <tr>\n",
       "      <th>6</th>\n",
       "      <td>Wednesday</td>\n",
       "      <td>87240</td>\n",
       "      <td>9559</td>\n",
       "      <td>0.098751</td>\n",
       "    </tr>\n",
       "    <tr>\n",
       "      <th>1</th>\n",
       "      <td>Monday</td>\n",
       "      <td>71213</td>\n",
       "      <td>11176</td>\n",
       "      <td>0.135649</td>\n",
       "    </tr>\n",
       "    <tr>\n",
       "      <th>5</th>\n",
       "      <td>Tuesday</td>\n",
       "      <td>69086</td>\n",
       "      <td>7558</td>\n",
       "      <td>0.098612</td>\n",
       "    </tr>\n",
       "    <tr>\n",
       "      <th>3</th>\n",
       "      <td>Sunday</td>\n",
       "      <td>67180</td>\n",
       "      <td>11326</td>\n",
       "      <td>0.144269</td>\n",
       "    </tr>\n",
       "    <tr>\n",
       "      <th>2</th>\n",
       "      <td>Saturday</td>\n",
       "      <td>53058</td>\n",
       "      <td>12462</td>\n",
       "      <td>0.190201</td>\n",
       "    </tr>\n",
       "  </tbody>\n",
       "</table>\n",
       "</div>"
      ],
      "text/plain": [
       "   DayofWeek Not_Delayed Delayed  PercentOfDelayed\n",
       "4   Thursday       89743   13933          0.134390\n",
       "0     Friday       87942   15870          0.152873\n",
       "6  Wednesday       87240    9559          0.098751\n",
       "1     Monday       71213   11176          0.135649\n",
       "5    Tuesday       69086    7558          0.098612\n",
       "3     Sunday       67180   11326          0.144269\n",
       "2   Saturday       53058   12462          0.190201"
      ]
     },
     "execution_count": 25,
     "metadata": {},
     "output_type": "execute_result"
    }
   ],
   "source": [
    "# Its clearly seen that most of the flights are on the 4th day. Nearly %20 of flights are delayed of 6th day.\n",
    "df_dow=pd.DataFrame(Jan2020.groupby([\"dayofweek_name\",\"dep_del15\"])[\"origin_airport_id\"].count().unstack(\"dep_del15\").reset_index().values,columns=[\"DayofWeek\",\"Not_Delayed\",\"Delayed\"])\n",
    "df_dow[\"PercentOfDelayed\"]=pd.to_numeric(df_dow.Delayed /( df_dow.Delayed+ df_dow.Not_Delayed))\n",
    "df_dow.sort_values(by=\"Not_Delayed\",ascending=False,inplace=True)\n",
    "df_dow"
   ]
  },
  {
   "cell_type": "code",
   "execution_count": null,
   "metadata": {},
   "outputs": [],
   "source": []
  },
  {
   "cell_type": "code",
   "execution_count": 40,
   "metadata": {},
   "outputs": [
    {
     "data": {
      "image/png": "[encoded data removed]",
      "text/plain": [
       "<Figure size 720x432 with 2 Axes>"
      ]
     },
     "metadata": {
      "needs_background": "light"
     },
     "output_type": "display_data"
    }
   ],
   "source": [
    "#Create combo chart\n",
    "fig, ax1 = plt.subplots(figsize=(10,6))\n",
    "color = 'tab:green'\n",
    "#bar plot creation\n",
    "ax1.set_title('Delayed vs Non-Delayed Flights by Day', fontsize=16)\n",
    "ax1 = sns.barplot(x='DayofWeek', y='Not_Delayed', data = df_dow, palette='summer')\n",
    "ax1 = sns.barplot(x='DayofWeek', y='Delayed', data = df_dow, palette='winter')\n",
    "ax1.set_xlabel('Day', fontsize=16)\n",
    "ax1.set_ylabel('Flights', fontsize=16)\n",
    "ax1.tick_params(axis='y')\n",
    "#specify we want to share the same x-axis\n",
    "ax2 = ax1.twinx()\n",
    "color = 'tab:red'\n",
    "#line plot creation\n",
    "ax2 = sns.lineplot(x='DayofWeek', y='PercentOfDelayed', data = df_dow, sort=True, color=color)\n",
    "ax2.set_ylabel('Delayed %', fontsize=16)\n",
    "ax2.tick_params(axis='y', color=color)\n",
    "#show plot\n",
    "plt.show()"
   ]
  },
  {
   "cell_type": "markdown",
   "metadata": {},
   "source": [
    "## Conclusion\n",
    "\n",
    "\n",
    "\n",
    "\n"
   ]
  },
  {
   "cell_type": "markdown",
   "metadata": {},
   "source": [
    "This was a very useful dataset as it allowed a few columns to be created, some cleaning was required and there are some nice patterns to explore in the dataset.\n",
    "\n",
    "The next steps would be to run some multi-dimensional analysis on top of what has been found in the opening exploratory analysis.\n",
    "\n",
    "1. clear pattern of delays based on time buckets\n",
    "\n",
    "2. clear patterns with airlines and airports on delays\n",
    "\n",
    "3. No real evidence of delay pattern based on the flight distance in this dataset.\n",
    "\n",
    "\n",
    "Some of the pre-bucketed data not accurate so as the alignment of departure time to the departure time buckets. The time bucket which I created seems very useful.\n",
    "\n",
    "The merging of airport names to the dataset was not perfect but only affected less than 5 percent of the dataset. For the airport based analysis, I excluded this from the analysis."
   ]
  },
  {
   "cell_type": "markdown",
   "metadata": {},
   "source": [
    "## Future Work"
   ]
  },
  {
   "cell_type": "code",
   "execution_count": 62,
   "metadata": {},
   "outputs": [],
   "source": [
    "# multi-dimensional analysis would be useful, combining airlines, airports, time buckets where there are distinct patterns"
   ]
  },
  {
   "cell_type": "code",
   "execution_count": 63,
   "metadata": {},
   "outputs": [],
   "source": [
    "# 5 hypotheses"
   ]
  },
  {
   "cell_type": "code",
   "execution_count": null,
   "metadata": {},
   "outputs": [],
   "source": []
  }
 ],
 "metadata": {
  "kernelspec": {
   "display_name": "Python 3",
   "language": "python",
   "name": "python3"
  },
  "language_info": {
   "codemirror_mode": {
    "name": "ipython",
    "version": 3
   },
   "file_extension": ".py",
   "mimetype": "text/x-python",
   "name": "python",
   "nbconvert_exporter": "python",
   "pygments_lexer": "ipython3",
   "version": "3.7.6"
  }
 },
 "nbformat": 4,
 "nbformat_minor": 4
}
